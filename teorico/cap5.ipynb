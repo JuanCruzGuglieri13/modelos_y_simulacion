{
 "cells": [
  {
   "cell_type": "markdown",
   "id": "3b756bf6",
   "metadata": {},
   "source": [
    "# Generacion de variables aleatorias discretas"
   ]
  },
  {
   "cell_type": "code",
   "execution_count": 1,
   "id": "17641d88",
   "metadata": {},
   "outputs": [],
   "source": [
    "from random import random"
   ]
  },
  {
   "cell_type": "markdown",
   "id": "8ec3dfe2",
   "metadata": {},
   "source": [
    "# Metodo de la transformada inversa\n",
    "\n",
    "Se quiere generar X discreta que tome valores $x_{0}, x_{1}, ..., x_{n}, ...$ ordenados de menor a mayor.  \n",
    "Llamamos $P_{i} = P(X = x_{i})$  \n",
    "se conocen esos datos  \n",
    "La funcion de distribucion acumulada es $F(x) = P(X \\leq x)$"
   ]
  },
  {
   "cell_type": "markdown",
   "id": "d712d9a0",
   "metadata": {},
   "source": [
    "Se Genera $u ~ U(0,1)$:  \n",
    "- Si $u < p_{0} \\rightarrow$ devuelve $x_{0}$\n",
    "- Si $p_{0} \\leq u < p_{0} + p_{1} \\rightarrow$ devuelve $x_{1}$\n",
    "- Si $p_{0} + p_{1} \\leq u < p_{0} + p_{1} + p_{2} \\rightarrow$ devuelve $x_{2}$\n",
    "    ...  \n",
    "- Si $p_{0} + ... + p_{j-1} \\leq u < p_{0} + ... + p_{j-1} + p_{j} \\rightarrow$ devuelve $x_{j}$  \n",
    "Luego $P(Devolver x_{j}) = P(p_{0} + ... + p_{j-1} \\leq u < p_{0} + ... + p_{j}) = p_{j}$\n",
    "\n"
   ]
  },
  {
   "cell_type": "code",
   "execution_count": 12,
   "id": "2b59d59b",
   "metadata": {},
   "outputs": [
    {
     "name": "stdout",
     "output_type": "stream",
     "text": [
      "u generado: 0.6733930570463462\n",
      "3\n"
     ]
    }
   ],
   "source": [
    "# Ejemplo X pert {1,2,3,4}\n",
    "# p_1 = 0.1, p_2 = 0.4, p_3 = 0.2, p_4 = 0.3\n",
    "\n",
    "def TIX():\n",
    "    u = random()\n",
    "    print(f\"u generado: {u}\")\n",
    "    if u < 0.1:\n",
    "        return 1\n",
    "    elif u < 0.5:\n",
    "        return 2\n",
    "    elif u < 0.7:\n",
    "        return 3\n",
    "    else:\n",
    "        return 4\n",
    "    \n",
    "print(TIX())"
   ]
  },
  {
   "cell_type": "code",
   "execution_count": 15,
   "id": "60667760",
   "metadata": {},
   "outputs": [
    {
     "name": "stdout",
     "output_type": "stream",
     "text": [
      "u generado: 0.5051186551481054\n",
      "4\n"
     ]
    }
   ],
   "source": [
    "# Forma mejorada: ordenar las probabilidades de mayor a menor (menos comparaciones)\n",
    "\n",
    "def TIX_mejorado():\n",
    "    u = random()\n",
    "    print(f\"u generado: {u}\")\n",
    "    if u < 0.4:\n",
    "        return 2\n",
    "    elif u < 0.7:\n",
    "        return 4\n",
    "    elif u < 0.9:\n",
    "        return 4\n",
    "    else:\n",
    "        return 1\n",
    "    \n",
    "print(TIX_mejorado())"
   ]
  },
  {
   "cell_type": "code",
   "execution_count": 19,
   "id": "42a3ce17",
   "metadata": {},
   "outputs": [
    {
     "name": "stdout",
     "output_type": "stream",
     "text": [
      "u generado: 0.08420257906057116\n",
      "2\n"
     ]
    }
   ],
   "source": [
    "# El algoritmo general, suponiendo x arreglo de laos valores posibles de X y p arreglo de las probabilidades\n",
    "\n",
    "def discretaX(x, p):\n",
    "    u = random()\n",
    "    print(f\"u generado: {u}\")\n",
    "    i, F = 0, p[0]\n",
    "    while u > F:\n",
    "        i += 1; F += p[i]\n",
    "    return x[i]\n",
    "\n",
    "# Ejemplo de uso\n",
    "x = [   1,    2,    3,    4,   5,    6,    7,    8,   9,  10]\n",
    "p = [0.04, 0.12, 0.07, 0.09, 0.1, 0.08, 0.05, 0.15, 0.2, 0.1]\n",
    "print(discretaX(x, p))"
   ]
  }
 ],
 "metadata": {
  "kernelspec": {
   "display_name": "Python 3",
   "language": "python",
   "name": "python3"
  },
  "language_info": {
   "codemirror_mode": {
    "name": "ipython",
    "version": 3
   },
   "file_extension": ".py",
   "mimetype": "text/x-python",
   "name": "python",
   "nbconvert_exporter": "python",
   "pygments_lexer": "ipython3",
   "version": "3.10.12"
  }
 },
 "nbformat": 4,
 "nbformat_minor": 5
}
