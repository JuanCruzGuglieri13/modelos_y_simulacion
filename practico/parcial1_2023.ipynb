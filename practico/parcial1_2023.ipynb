{
 "cells": [
  {
   "cell_type": "markdown",
   "metadata": {},
   "source": [
    "## Ejercicio 2c"
   ]
  },
  {
   "cell_type": "code",
   "execution_count": 11,
   "metadata": {},
   "outputs": [],
   "source": [
    "import numpy as np\n",
    "from random import random"
   ]
  },
  {
   "cell_type": "code",
   "execution_count": 12,
   "metadata": {},
   "outputs": [
    {
     "name": "stdout",
     "output_type": "stream",
     "text": [
      "para 100 iteraciones, el valor esperado es 0.29\n",
      "para 1000 iteraciones, el valor esperado es 0.256\n",
      "para 10000 iteraciones, el valor esperado es 0.2499\n",
      "para 100000 iteraciones, el valor esperado es 0.24994\n",
      "para 1000000 iteraciones, el valor esperado es 0.249812\n"
     ]
    }
   ],
   "source": [
    "# para el inciso a\n",
    "for n in [100, 1000, 10000, 100000, 1000000]:\n",
    "    contador = 0\n",
    "    for i in range(n):\n",
    "        U = random()\n",
    "        V = random()\n",
    "        if U > 0.5 and V < 0.5:\n",
    "            contador += 1\n",
    "    print(f\"para {n} iteraciones, el valor esperado es {contador/n}\")\n",
    "    "
   ]
  },
  {
   "cell_type": "code",
   "execution_count": 13,
   "metadata": {},
   "outputs": [
    {
     "name": "stdout",
     "output_type": "stream",
     "text": [
      "para 100 iteraciones, el valor esperado es 0.35\n",
      "para 1000 iteraciones, el valor esperado es 0.376\n",
      "para 10000 iteraciones, el valor esperado es 0.3751\n",
      "para 100000 iteraciones, el valor esperado es 0.37453\n",
      "para 1000000 iteraciones, el valor esperado es 0.375375\n"
     ]
    }
   ],
   "source": [
    "# para el inciso b\n",
    "for n in [100, 1000, 10000, 100000, 1000000]:\n",
    "    contador = 0\n",
    "    for i in range(n):\n",
    "        U = random()\n",
    "        V = random()\n",
    "        if U > 0.5 and V < 0.5:\n",
    "            contador += 1\n",
    "        elif U < 0.5 and V > 0.5:\n",
    "            contador += 0\n",
    "        else:\n",
    "            U = random()\n",
    "            V = random()\n",
    "            if U > 0.5 and V < 0.5:\n",
    "                contador += 1\n",
    "                \n",
    "    print(f\"para {n} iteraciones, el valor esperado es {contador/n}\")"
   ]
  },
  {
   "cell_type": "markdown",
   "metadata": {},
   "source": [
    "# Ejercicio 3"
   ]
  },
  {
   "cell_type": "code",
   "execution_count": 14,
   "metadata": {},
   "outputs": [
    {
     "name": "stdout",
     "output_type": "stream",
     "text": [
      "para 100 iteraciones, el valor esperado es 1.4381053245973905\n",
      "para 1000 iteraciones, el valor esperado es 1.031616425679733\n",
      "para 10000 iteraciones, el valor esperado es 1.0630728106280938\n",
      "para 100000 iteraciones, el valor esperado es 1.11748804430888\n",
      "para 1000000 iteraciones, el valor esperado es 1.0951862096518792\n"
     ]
    }
   ],
   "source": [
    "def ga(u):\n",
    "    return (u / (u - np.exp(u)))\n",
    "\n",
    "def monteCarlo1(g, n):\n",
    "    integral = 0\n",
    "    for _ in range(n):\n",
    "        u = random()\n",
    "        integral += g(6*u - 3) * 6\n",
    "    return integral / n\n",
    "    \n",
    "for n in [100, 1000, 10000, 100000, 1000000]:\n",
    "    print(f\"para {n} iteraciones, el valor esperado es {monteCarlo1(ga, n)}\")"
   ]
  },
  {
   "cell_type": "code",
   "execution_count": 15,
   "metadata": {},
   "outputs": [
    {
     "name": "stdout",
     "output_type": "stream",
     "text": [
      "para 100 iteraciones, el valor esperado es -0.13004359544556007\n",
      "para 1000 iteraciones, el valor esperado es -0.17571754865829153\n",
      "para 10000 iteraciones, el valor esperado es -0.15775475968212757\n",
      "para 100000 iteraciones, el valor esperado es -0.163886284311929\n",
      "para 1000000 iteraciones, el valor esperado es -0.16222027077070694\n"
     ]
    }
   ],
   "source": [
    "def gb(u):\n",
    "    return (u ** 3) * np.exp(-u**3)\n",
    "\n",
    "def monteCarlo2(g, n):\n",
    "    integral = 0\n",
    "    for _ in range(n):\n",
    "        u = random()\n",
    "        integral += g((1/u) - 2) * (1 / (u**2))\n",
    "    return integral / n\n",
    "\n",
    "for n in [100, 1000, 10000, 100000, 1000000]:\n",
    "    print(f\"para {n} iteraciones, el valor esperado es {monteCarlo2(gb, n)}\")"
   ]
  }
 ],
 "metadata": {
  "kernelspec": {
   "display_name": "Python 3",
   "language": "python",
   "name": "python3"
  },
  "language_info": {
   "codemirror_mode": {
    "name": "ipython",
    "version": 3
   },
   "file_extension": ".py",
   "mimetype": "text/x-python",
   "name": "python",
   "nbconvert_exporter": "python",
   "pygments_lexer": "ipython3",
   "version": "3.10.12"
  }
 },
 "nbformat": 4,
 "nbformat_minor": 2
}
