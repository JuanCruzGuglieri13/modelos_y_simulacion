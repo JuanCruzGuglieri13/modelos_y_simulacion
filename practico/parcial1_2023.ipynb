{
 "cells": [
  {
   "cell_type": "markdown",
   "metadata": {},
   "source": [
    "## Ejercicio 2c"
   ]
  },
  {
   "cell_type": "code",
   "execution_count": 1,
   "metadata": {},
   "outputs": [],
   "source": [
    "import time\n",
    "import numpy as np\n",
    "import matplotlib.pyplot as plt\n",
    "import scipy.integrate as sci\n",
    "import math\n",
    "from random import random, expovariate "
   ]
  },
  {
   "cell_type": "code",
   "execution_count": 2,
   "metadata": {},
   "outputs": [
    {
     "name": "stdout",
     "output_type": "stream",
     "text": [
      "para 100 iteraciones, el valor esperado es 0.28\n",
      "para 1000 iteraciones, el valor esperado es 0.26\n",
      "para 10000 iteraciones, el valor esperado es 0.2485\n",
      "para 100000 iteraciones, el valor esperado es 0.24958\n",
      "para 1000000 iteraciones, el valor esperado es 0.250122\n"
     ]
    }
   ],
   "source": [
    "# para el inciso a\n",
    "for n in [100, 1000, 10000, 100000, 1000000]:\n",
    "    contador = 0\n",
    "    for i in range(n):\n",
    "        U = random()\n",
    "        V = random()\n",
    "        if U > 0.5 and V < 0.5:\n",
    "            contador += 1\n",
    "    print(f\"para {n} iteraciones, el valor esperado es {contador/n}\")\n",
    "    "
   ]
  },
  {
   "cell_type": "code",
   "execution_count": 4,
   "metadata": {},
   "outputs": [
    {
     "name": "stdout",
     "output_type": "stream",
     "text": [
      "para 100 iteraciones, el valor esperado es 0.27\n",
      "para 1000 iteraciones, el valor esperado es 0.379\n",
      "para 10000 iteraciones, el valor esperado es 0.3703\n",
      "para 100000 iteraciones, el valor esperado es 0.37272\n",
      "para 1000000 iteraciones, el valor esperado es 0.37442\n"
     ]
    }
   ],
   "source": [
    "# para el inciso b\n",
    "for n in [100, 1000, 10000, 100000, 1000000]:\n",
    "    contador = 0\n",
    "    for i in range(n):\n",
    "        U = random()\n",
    "        V = random()\n",
    "        if U > 0.5 and V < 0.5:\n",
    "            contador += 1\n",
    "        elif U < 0.5 and V > 0.5:\n",
    "            contador += 0\n",
    "        else:\n",
    "            U = random()\n",
    "            V = random()\n",
    "            if U > 0.5 and V < 0.5:\n",
    "                contador += 1\n",
    "                \n",
    "    print(f\"para {n} iteraciones, el valor esperado es {contador/n}\")"
   ]
  },
  {
   "cell_type": "markdown",
   "metadata": {},
   "source": [
    "# Ejercicio 3"
   ]
  },
  {
   "cell_type": "code",
   "execution_count": 7,
   "metadata": {},
   "outputs": [
    {
     "name": "stdout",
     "output_type": "stream",
     "text": [
      "para 100 iteraciones, el valor esperado es 1.576930003543094\n",
      "para 1000 iteraciones, el valor esperado es 1.1032184028928955\n",
      "para 10000 iteraciones, el valor esperado es 1.1876388922464391\n",
      "para 100000 iteraciones, el valor esperado es 1.1075713085562533\n",
      "para 1000000 iteraciones, el valor esperado es 1.1045367420576742\n"
     ]
    }
   ],
   "source": [
    "def ga(u):\n",
    "    return (u / (u - np.exp(u)))\n",
    "\n",
    "def monteCarlo1(g, n):\n",
    "    integral = 0\n",
    "    for _ in range(n):\n",
    "        u = random()\n",
    "        integral += g(6*u - 3) * 6\n",
    "    return integral / n\n",
    "    \n",
    "for n in [100, 1000, 10000, 100000, 1000000]:\n",
    "    print(f\"para {n} iteraciones, el valor esperado es {monteCarlo1(ga, n)}\")"
   ]
  },
  {
   "cell_type": "code",
   "execution_count": 10,
   "metadata": {},
   "outputs": [
    {
     "name": "stdout",
     "output_type": "stream",
     "text": [
      "para 100 iteraciones, el valor esperado es -0.3339121624943155\n",
      "para 1000 iteraciones, el valor esperado es -0.18719318143281993\n",
      "para 10000 iteraciones, el valor esperado es -0.16671954835935254\n",
      "para 100000 iteraciones, el valor esperado es -0.16782503428913043\n",
      "para 1000000 iteraciones, el valor esperado es -0.16164447671729276\n"
     ]
    }
   ],
   "source": [
    "def gb(u):\n",
    "    return (u ** 3) * np.exp(-u**3)\n",
    "\n",
    "def monteCarlo2(g, n):\n",
    "    integral = 0\n",
    "    for _ in range(n):\n",
    "        u = random()\n",
    "        integral += g((1/u) - 2) * (1 / (u**2))\n",
    "    return integral / n\n",
    "\n",
    "for n in [100, 1000, 10000, 100000, 1000000]:\n",
    "    print(f\"para {n} iteraciones, el valor esperado es {monteCarlo2(gb, n)}\")"
   ]
  }
 ],
 "metadata": {
  "kernelspec": {
   "display_name": "Python 3",
   "language": "python",
   "name": "python3"
  },
  "language_info": {
   "codemirror_mode": {
    "name": "ipython",
    "version": 3
   },
   "file_extension": ".py",
   "mimetype": "text/x-python",
   "name": "python",
   "nbconvert_exporter": "python",
   "pygments_lexer": "ipython3",
   "version": "3.10.12"
  }
 },
 "nbformat": 4,
 "nbformat_minor": 2
}
