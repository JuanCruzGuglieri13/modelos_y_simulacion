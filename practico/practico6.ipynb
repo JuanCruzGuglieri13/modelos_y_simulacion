{
 "cells": [
  {
   "cell_type": "markdown",
   "id": "0e82e624",
   "metadata": {},
   "source": [
    "# Práctico 6"
   ]
  },
  {
   "cell_type": "code",
   "execution_count": 2,
   "id": "a55c24bd",
   "metadata": {},
   "outputs": [],
   "source": [
    "from random import random\n",
    "import numpy as np \n",
    "from scipy import stats"
   ]
  },
  {
   "cell_type": "markdown",
   "id": "dd42c5d8",
   "metadata": {},
   "source": [
    "## Ejercicio 1  \n",
    "Genere $n$ valores de una variable aleatoria normal estándar de manera tal que se cumplan las condiciones: $n \\ge 100$ y $S / \\sqrt{n} < 0,1$, siendo S el estimador de la desviación estándar de los n datos generados.  \n",
    "\n",
    "a) ¿Cuál es el número de datos generados efectivamente?  \n",
    "b) ¿Cuál es la media muestral de los datos generados?  \n",
    "c) ¿Cuál es la varianza muestral de los datos generados?  "
   ]
  },
  {
   "cell_type": "code",
   "execution_count": 89,
   "id": "6de8723b",
   "metadata": {},
   "outputs": [
    {
     "name": "stdout",
     "output_type": "stream",
     "text": [
      "(a) n = 102\n",
      "(b) Media muestral = -0.2062\n",
      "(c) Varianza muestral = 1.0171\n"
     ]
    }
   ],
   "source": [
    "def media_muestral(d=0.1):\n",
    "    X = np.random.normal()\n",
    "    media = X\n",
    "    Scuad = 0\n",
    "    n = 1\n",
    "    \n",
    "    while n <= 100 or np.sqrt(Scuad / n) > d:\n",
    "        n += 1\n",
    "        X = np.random.normal()\n",
    "        media_ant = media\n",
    "        media = media_ant + (X - media_ant) / n\n",
    "        Scuad = Scuad * (1 - 1 / (n-1)) + n * (media - media_ant)**2\n",
    "        \n",
    "    return n, media, Scuad\n",
    "\n",
    "# Ejecutamos la simulación\n",
    "n, media_m, var_m = media_muestral()\n",
    "print(f\"(a) n = {n}\\n(b) Media muestral = {media_m:.4f}\\n(c) Varianza muestral = {var_m:.4f}\")"
   ]
  },
  {
   "cell_type": "markdown",
   "id": "303caeb9",
   "metadata": {},
   "source": [
    "## Ejercicio 2  \n",
    "Estime mediante el método de Monte Carlo la integral  \n",
    "$$ i) \\int_{0}^1 \\frac{e^{x}}{\\sqrt{2x}}\\,dx $$\n",
    "$$ ii) \\int_{-\\infty}^{\\infty} x^{2}exp(-x^2)\\,dx $$  \n",
    "\n",
    "Genere al menos 100 valores y deténgase cuando la desviación estándar muestral $S$ del estimador sea menor que $0,01$.\n"
   ]
  },
  {
   "cell_type": "code",
   "execution_count": null,
   "id": "81f3831f",
   "metadata": {},
   "outputs": [
    {
     "name": "stdout",
     "output_type": "stream",
     "text": [
      "Media por montecarlo: 2.064797795877232\n",
      "Por estimacion muestral tomó: 25456 iteraciones\n",
      "Por estimacion muestral: 2.0546087267777002\n",
      "-0.7384\n",
      "-1.0171\n",
      "0.3646\n"
     ]
    }
   ],
   "source": [
    "# i)\n",
    "\n",
    "def monteCarlo_0_a_1(g, Nsim):\n",
    "    integral = 0\n",
    "    for _ in range(Nsim):\n",
    "        integral += g(random())\n",
    "    return integral / Nsim\n",
    "\n",
    "\n",
    "\n",
    "def g_i(u):\n",
    "    return np.exp(u) / np.sqrt(2*u)\n",
    "\n",
    "print(\"Media por montecarlo:\", monteCarlo_0_a_1(g_i, 100000)) # ~ 2.07\n",
    "\n",
    "\n",
    "def Media_Muestral_X(d=0.01):\n",
    "    n = 1\n",
    "    X = g_i(random())\n",
    "    media = X / n\n",
    "    Scuad = 0\n",
    "    while n <= 100 or np.sqrt(Scuad/n) > d:\n",
    "        n += 1\n",
    "        X = g_i(random())\n",
    "        media_ant = media\n",
    "        media = media_ant + (X - media_ant) / n\n",
    "        Scuad = Scuad * (1 - 1 /(n-1)) + n*(media - media_ant)**2\n",
    "    return n, media\n",
    "\n",
    "n, mediaMuestral = Media_Muestral_X() \n",
    "print(f\"Por estimacion muestral tomó: {n} iteraciones\")\n",
    "\n",
    "print(\"Por estimacion muestral:\", mediaMuestral)\n",
    "\n",
    "\"\"\"\n",
    "Se quiere estimar mediante un intervalo de confianza de 95% el valor de la siguiente integral:\n",
    "integral_0^1 (sen(x)/2x) dx\n",
    "En el paso n = 109, se obtienen los siguientes valores:\n",
    "S^2(109) = 0.1, ¯X(109) = 0.5, U_110 = π/6,\n",
    "donde U_110 es el valor de la variable uniforme sorteada en el paso 110 de la simulación.\n",
    "a) Calcular S^2(110).\n",
    "b) Usar este valor para calcular la longitud del intervalo de confianza del 95%.\n",
    "\n",
    "Scuad(109) = 0.1\n",
    "media(109) = 0.5\n",
    "U_110 = pi/6\n",
    "\n",
    "generamos X con u = pi/6\n",
    "X = 0.4775\n",
    "media_ant = media(109) = 0.5\n",
    "media = 0.5 + (0.4775 - 0.5) / 110 => 0.4998\n",
    "Scuad = 0.1 * (1 - 1 /(110-1)) + 110*(0.4998 - 0.5)**2 => 0.0991\n",
    "\n",
    "alpha = 0.95\n",
    "z_alpha_2 = stats.norm.ppf(1 - (1 - 0.95) / 2) => 1.96\n",
    "\n",
    "IC = (0.4998 - 1.96 * np.sqrt(Scuad) / np.sqrt(110), 0.4998 + 1.96 * np.sqrt(Scuad) / np.sqrt(110))\n",
    "\n",
    "\n",
    "IC = (0.4410, 0.5586), la longitud es 0.1176\n",
    "\"\"\"\n",
    "\n",
    "print(f\"{(0.4998 - 1.96 * np.sqrt(0.0991) / np.sqrt(110), 0.4998 + 1.96 * np.sqrt(0.0991) / np.sqrt(110))}\")\n"
   ]
  },
  {
   "cell_type": "markdown",
   "id": "eb324e5d",
   "metadata": {},
   "source": [
    "$$ ii) \\int_{-\\infty}^{\\infty} x^{2}exp(-x^2)\\,dx $$\n",
    "Tomemos $x=1$, vemos que $(1)^{2}exp(-(1)^2)$ = $exp(-1)$  \n",
    "Tomemos $x=-1$, vemos que $(-1)^{2}exp(-(-1)^2)$ = $1.exp(-1)$ = $exp(-1)$  \n",
    "\n",
    "Por lo tanto es simetrica, entonces  \n",
    "$$ \\int_{-\\infty}^{\\infty} x^{2}exp(-x^2)\\,dx $$  \n",
    "$$ = \\int_{-\\infty}^{0} x^{2}exp(-x^2)\\,dx + \\int_{0}^{\\infty} x^{2}exp(-x^2)\\,dx $$  \n",
    "$$ = 2 \\int_{0}^{\\infty} x^{2}exp(-x^2)\\,dx $$  \n",
    "\n",
    "Aplicamos monteCarlo:  \n",
    "Hacemos cambio de variable $ y = \\frac{1}{x+1} $, vemos que si $x = 0; y = 1$ y si $x \\rightarrow \\infty; y = 0$  \n",
    "Entonces \n",
    "$$ y = \\frac{1}{x+1} $$  \n",
    "$$\\rightarrow y(x+1) = 1 $$  \n",
    "$$ \\rightarrow x+1 = \\frac{1}{y} $$\n",
    "$$ \\rightarrow x = \\frac{1}{y} - 1 $$  \n",
    "Por otro lado\n",
    "$$dy = - \\frac{1}{(x+1)^2} dx$$\n",
    "$$dy = - y^2 dx$$\n",
    "$$dx = - \\frac{1}{y^2} dy$$  \n",
    "\n",
    "Por lo tanto nos queda:\n",
    "$$ 2 \\int_{0}^{\\infty} g(x)\\,dx $$\n",
    "$$ 2 \\int_{1}^{0} g(\\frac{1}{y} - 1)(- \\frac{1}{y^2})\\,dy $$\n",
    "$$ 2 \\int_{0}^{1} g(\\frac{1}{y} - 1)(\\frac{1}{y^2})\\,dy $$\n",
    "\n",
    "$$ 2 \\int_{0}^{1} (\\frac{1}{y} - 1)^{2}exp(-(\\frac{1}{y} - 1)^2)(\\frac{1}{y^2})\\,dy $$\n",
    "\n",
    "\n",
    "\n",
    "\n",
    "\n",
    "\n",
    "\n",
    " "
   ]
  },
  {
   "cell_type": "code",
   "execution_count": 91,
   "id": "a1eead0f",
   "metadata": {},
   "outputs": [
    {
     "name": "stdout",
     "output_type": "stream",
     "text": [
      "Media por montecarlo: 0.8897654199987113\n",
      "Por estimacion muestral tomó: 12456 iteraciones\n",
      "Por estimacion muestral: 0.8687425902472325\n"
     ]
    }
   ],
   "source": [
    "# ii)\n",
    "\n",
    "def g_ii(u):\n",
    "    return 2 * (1/u - 1)**2 * np.exp(-(1/u - 1)**2) * (1 / u**2)\n",
    "\n",
    "print(\"Media por montecarlo:\", monteCarlo_0_a_1(g_ii, 100000)) # 0.8864\n",
    "\n",
    "def Media_Muestral_X(d=0.01):\n",
    "    n = 1\n",
    "    X = g_ii(random())\n",
    "    media = X / n\n",
    "    Scuad = 0\n",
    "    while n <= 100 or np.sqrt(Scuad/n) > d:\n",
    "        n += 1\n",
    "        X = g_ii(random())\n",
    "        media_ant = media\n",
    "        media = media_ant + (X - media_ant) / n\n",
    "        Scuad = Scuad * (1 - 1 /(n-1)) + n*(media - media_ant)**2\n",
    "    return n, media\n",
    "\n",
    "n, mediaMuestral = Media_Muestral_X() \n",
    "print(f\"Por estimacion muestral tomó: {n} iteraciones\")\n",
    "\n",
    "print(\"Por estimacion muestral:\", mediaMuestral)\n"
   ]
  },
  {
   "cell_type": "markdown",
   "id": "33c10d34",
   "metadata": {},
   "source": [
    "## Ejercicio 3  \n",
    "Calcule mediante un método de Monte Carlo las siguientes integrales:\n",
    "$$ i) \\int_{\\pi}^{2\\pi} \\frac{sin(x)}{x}\\,dx $$\n",
    "$$ ii) \\int_{0}^{\\infty} \\frac{3}{3+x^4}\\,dx $$  \n",
    "\n",
    "a) Obtenga mediante simulación en computadora el valor de la integral deteniendo la simulación cuando el semi-ancho del intervalo de confianza del 95 % sea justo inferior a 0,001.  \n",
    "\n",
    "b) Indique cuál es el número de simulaciones Ns necesarias en la simulación realizada para lograr la condición pedida y complete con los valores obtenidos la siguiente tabla (usando 4 decimales):\n"
   ]
  },
  {
   "cell_type": "markdown",
   "id": "35585954",
   "metadata": {},
   "source": [
    "Calculamos Las funciones g(x) para i y ii usando montecarlo:  \n",
    "\n",
    "- i) $ \\int_{\\pi}^{2\\pi} \\frac{sin(x)}{x}\\,dx = \\int_{\\pi}^{2\\pi} g(x)\\,dx $  \n",
    "\n",
    "Tenemos los extremos $a=\\pi$ y $b=2\\pi$  \n",
    "$$ y = \\frac{x-a}{b-a} \\rightarrow y = \\frac{x-\\pi}{2\\pi-\\pi} \\rightarrow y = \\frac{x-\\pi}{\\pi} $$\n",
    "$$ \\rightarrow y*\\pi = x-\\pi \\rightarrow y\\pi+\\pi = x \\rightarrow \\pi(y+1) = x $$  \n",
    "Por otro lado,  \n",
    "$$ dy = 1 / \\pi dx \\rightarrow \\pi dy = dx $$  \n",
    "Entonces\n",
    "$$ \\int_{\\pi}^{2\\pi} g(x)\\,dx = \\int_{0}^{1} g(\\pi(y+1))(\\pi)\\,dy = \\int_0^1 \\frac{sin(\\pi(y+1)) \\pi}{\\pi(y+1)}\\,dy$$\n"
   ]
  },
  {
   "cell_type": "markdown",
   "id": "b4f4ebe8",
   "metadata": {},
   "source": [
    "Por otro lado vemos que nos pide **El intervalo de confianza es del 95%**, por lo tanto:\n",
    "$$ 1 - \\alpha = 0.95 \\rightarrow - \\alpha = 0.95 - 1 \\rightarrow \\alpha = 0.05 \\rightarrow \\alpha/2 = 0.025 $$"
   ]
  },
  {
   "cell_type": "code",
   "execution_count": 92,
   "id": "43a252b2",
   "metadata": {},
   "outputs": [
    {
     "name": "stdout",
     "output_type": "stream",
     "text": [
      "N° de sim: 1000\n",
      "I: -0.4320\n",
      "S: 0.2110\n",
      "IC: (-0.44504454960455503, -0.4188884184372382)\n",
      "\n",
      "N° de sim: 5000\n",
      "I: -0.4313\n",
      "S: 0.2113\n",
      "IC: (-0.43712745332298786, -0.42541322899095957)\n",
      "\n",
      "N° de sim: 7000\n",
      "I: -0.4345\n",
      "S: 0.2115\n",
      "IC: (-0.43948750245984786, -0.42957925181107964)\n",
      "\n",
      "N° de sim: 169677\n",
      "I: -0.4336\n",
      "S: 0.2102\n",
      "IC: (-0.43462075186720517, -0.43262075402835)\n"
     ]
    }
   ],
   "source": [
    "# i)\n",
    "\n",
    "def g_3i(u):\n",
    "    return np.pi * np.sin(np.pi * (u + 1)) / (np.pi * (u + 1))\n",
    "\n",
    "\n",
    "\n",
    "def Media_Muestral_X(g, z_alpha_2, L):\n",
    "    d = L / (2 * z_alpha_2)\n",
    "    media = g(random())\n",
    "    Scuad = 0\n",
    "    n = 1\n",
    "    while n <= 100 or np.sqrt(Scuad / n) > d:\n",
    "        n += 1\n",
    "        X = g(random())\n",
    "        media_ant = media\n",
    "        media = media_ant + (X - media_ant) / n\n",
    "        Scuad = Scuad * (1 - 1 / (n - 1)) + n * (media - media_ant) ** 2\n",
    "        if n==1000 or n==5000 or n==7000:\n",
    "            S = np.sqrt(Scuad)\n",
    "            IC = (media - z_alpha_2 * np.sqrt(Scuad) / np.sqrt(n), media + z_alpha_2 * np.sqrt(Scuad) / np.sqrt(n))\n",
    "            print(f\"N° de sim: {n}\")\n",
    "            print(f\"I: {media:.4f}\")\n",
    "            print(f\"S: {S:.4f}\")\n",
    "            print(f\"IC: {IC}\\n\")\n",
    "            \n",
    "        \n",
    "    S = np.sqrt(Scuad)\n",
    "    IC = (media - z_alpha_2 * np.sqrt(Scuad) / np.sqrt(n), media + z_alpha_2 * np.sqrt(Scuad) / np.sqrt(n))\n",
    "    return n, media, S, IC\n",
    "\n",
    "alpha = 0.95\n",
    "z_alpha_2 = stats.norm.ppf(1 - (1 - alpha) / 2)\n",
    "d = 0.001\n",
    "L = 2 * d\n",
    "n, I, S, IC = Media_Muestral_X(g=g_3i, z_alpha_2=z_alpha_2, L=L)\n",
    "print(f\"N° de sim: {n}\")\n",
    "print(f\"I: {I:.4f}\")\n",
    "print(f\"S: {S:.4f}\")\n",
    "print(f\"IC: {IC}\")\n"
   ]
  },
  {
   "cell_type": "markdown",
   "id": "9740f3c8",
   "metadata": {},
   "source": [
    "$$ ii) \\int_0^{\\infty} \\frac{3}{3+x^4}\\,dx $$  \n",
    "\n",
    "Aplicamos monteCarlo:  \n",
    "Hacemos cambio de variable $ y = \\frac{1}{x+1} $, vemos que si $x = 0; y = 1$ y si $x \\rightarrow \\infty; y = 0$  \n",
    "Entonces \n",
    "$$ y = \\frac{1}{x+1} $$  \n",
    "$$\\rightarrow y(x+1) = 1 $$  \n",
    "$$ \\rightarrow x+1 = \\frac{1}{y} $$\n",
    "$$ \\rightarrow x = \\frac{1}{y} - 1 $$  \n",
    "Por otro lado\n",
    "$$dy = - \\frac{1}{(x+1)^2} dx$$\n",
    "$$dy = - y^2 dx$$\n",
    "$$dx = - \\frac{1}{y^2} dy$$  \n",
    "\n",
    "Por lo tanto nos queda:\n",
    "$$ \\int_{0}^{\\infty} g(x)\\,dx $$\n",
    "$$ \\int_{1}^{0} g(\\frac{1}{y} - 1)(- \\frac{1}{y^2})\\,dy $$\n",
    "$$ \\int_{0}^{1} g(\\frac{1}{y} - 1)(\\frac{1}{y^2})\\,dy $$\n",
    "\n",
    "$$ \\int_{0}^{1} (\\frac{3}{3+(\\frac{1}{y} - 1)^4})(\\frac{1}{y^2})\\,dy $$"
   ]
  },
  {
   "cell_type": "code",
   "execution_count": 93,
   "id": "19cd66ba",
   "metadata": {},
   "outputs": [
    {
     "name": "stdout",
     "output_type": "stream",
     "text": [
      "N° de sim: 1000\n",
      "I: 1.5116\n",
      "S: 0.9615\n",
      "IC: (1.4519967331180927, 1.5711836851962806)\n",
      "\n",
      "N° de sim: 5000\n",
      "I: 1.4753\n",
      "S: 0.9813\n",
      "IC: (1.448102470131154, 1.5025043200677515)\n",
      "\n",
      "N° de sim: 7000\n",
      "I: 1.4741\n",
      "S: 0.9738\n",
      "IC: (1.45125806903827, 1.4968809776638934)\n",
      "\n",
      "N° de sim: 3660384\n",
      "I: 1.4618\n",
      "S: 0.9761\n",
      "IC: (1.4608150455310098, 1.4628150454114612)\n"
     ]
    }
   ],
   "source": [
    "# ii)\n",
    "\n",
    "def g_3ii(u):\n",
    "    return (3 / (3 + (1/u - 1)**4))*(1/u**2)\n",
    "\n",
    "n, I, S, IC = Media_Muestral_X(g=g_3ii, z_alpha_2=z_alpha_2, L=L)\n",
    "print(f\"N° de sim: {n}\")\n",
    "print(f\"I: {I:.4f}\")\n",
    "print(f\"S: {S:.4f}\")\n",
    "print(f\"IC: {IC}\")"
   ]
  },
  {
   "cell_type": "markdown",
   "id": "16cea171",
   "metadata": {},
   "source": [
    "## Ejercicio 4  \n",
    "Para $U_1,U_2,...$ variables aleatorias uniformemente distribuidas en el intervalo $(0, 1)$, se define:\n",
    "$$ N = Mínimo\\{n : \\sum_{i=1}^{n} U_i > 1\\}\\$$  \n",
    "Esto es, N es igual a la cantidad de números aleatorios que deben sumarse para exceder a 1.  \n",
    "\n",
    "a) Estimar e a partir de la media muestral ¯N con 1000 simulaciones.  \n",
    "b) Dar el valor obtenido de la varianza muestral de ¯N correspondiente a 1000 ejecuciones de la simulación.  \n",
    "c) Dar una estimación de e mediante un intervalo de confianza de 95 % con longitud a lo sumo 0.025."
   ]
  },
  {
   "cell_type": "code",
   "execution_count": 94,
   "id": "b6208d96",
   "metadata": {},
   "outputs": [
    {
     "name": "stdout",
     "output_type": "stream",
     "text": [
      "a) Estimación de e con 1000 simulaciones: 2.723000\n",
      "b) Varianza muestral de N: 0.690962\n",
      "c)\n",
      "n: 4767\n",
      "Estimacion de e: 2.7184812250891586\n",
      "Varianza muestral: 0.8806448877923518\n",
      "IC (95%) = (2.693482012289497, 2.7434804378888202)\n"
     ]
    }
   ],
   "source": [
    "def estimar_N():\n",
    "    suma = 0\n",
    "    n = 0\n",
    "    while suma <= 1:\n",
    "        suma += random()\n",
    "        n += 1\n",
    "    return n\n",
    "\n",
    "# Realizamos 1000 simulaciones\n",
    "Ns = [estimar_N() for _ in range(1000)]\n",
    "media_N = np.mean(Ns)\n",
    "print(f\"a) Estimación de e con 1000 simulaciones: {media_N:.6f}\")\n",
    "\n",
    "# b)\n",
    "varianza_muestral = np.var(Ns, ddof=1)\n",
    "print(f\"b) Varianza muestral de N: {varianza_muestral:.6f}\")\n",
    "\n",
    "# c) \n",
    "def Estimar_N_IC(z_alpha_2, L):\n",
    "    d = L / (2 * z_alpha_2)\n",
    "    media = estimar_N()\n",
    "    Scuad = 0\n",
    "    n = 1\n",
    "    while n <= 100 or np.sqrt(Scuad / n) > d:\n",
    "        n += 1\n",
    "        X = estimar_N()\n",
    "        media_ant = media\n",
    "        media = media_ant + (X - media_ant) / n\n",
    "        Scuad = Scuad * (1 - 1 / (n - 1)) + n * (media - media_ant) ** 2            \n",
    "        \n",
    "    S = np.sqrt(Scuad)\n",
    "    IC = (media - z_alpha_2 * np.sqrt(Scuad) / np.sqrt(n), media + z_alpha_2 * np.sqrt(Scuad) / np.sqrt(n))\n",
    "    return n, media, S, IC\n",
    "\n",
    "alpha = 0.95\n",
    "z_alpha_2 = stats.norm.ppf(1 - (1 - alpha) / 2)\n",
    "d = 0.025\n",
    "L = 2 * d\n",
    "n, I, S, IC = Estimar_N_IC(z_alpha_2=z_alpha_2, L=L)\n",
    "\n",
    "print(\"c)\")\n",
    "print(\"n:\", n)\n",
    "print(\"Estimacion de e:\", I)\n",
    "print(\"Varianza muestral:\", S)\n",
    "print(\"IC (95%) =\", IC)\n",
    "\n",
    "\n"
   ]
  },
  {
   "cell_type": "markdown",
   "id": "9d6a84e2",
   "metadata": {},
   "source": [
    "## Ejercicio 5  \n",
    "Considere una sucesión de números aleatorios $\\{U_i\\}_i$ y sea $M$ el primer $n$ tal que la variable $U_n$ es menor que su variable predecesora. Es decir,  \n",
    "$ M = n $ tal que $ U_1 \\le U_2 \\le · · · \\le U_{n−1} $ y $ U_n < U_{n−1} $  \n",
    "a) Justifique que $P(M > n) = 1/n!$, $n \\ge 0$.  \n",
    "\n",
    "b) Utilice la identidad\n",
    "$$ E[M] = \\sum_{n=0}^{\\infty} P(M > n)$$  \n",
    "para mostrar que $E[M] = e$.  \n",
    "\n",
    "c) Utilice el resultado del item anterior para dar un estimador de E[M], calcule el valor de su varianza muestral. Mediante una simulación estime el valor de $e$ deteniéndose cuando la varianza muestral sea menor que 0,01.  \n",
    "\n",
    "d) Dé una estimación de $e$ mediante un intervalo de ancho menor que 0,1 y con una confianza del 95%"
   ]
  },
  {
   "cell_type": "markdown",
   "id": "23149649",
   "metadata": {},
   "source": [
    "- a) Justifique que $P(M > n) = 1/n!$, $n \\ge 0$.  \n",
    "\n",
    "Los $U_i$​ son variables aleatorias **uniformes independientes**. La probabilidad de que $n$ números uniformes aleatorios estén en orden **no decreciente** es igual a la probabilidad de que estén en orden creciente, porque no hay empates casi seguro.  \n",
    "\n",
    "Y la probabilidad de que $U_1 \\le U_2 \\le ... \\le U_n$​ (en cualquier orden específico) es:\n",
    "$$ P(M>n)=\\frac{1}{n!} $$  \n",
    "\n",
    "porque hay $n!$ permutaciones posibles de nn números uniformes independientes, y solo **una de ellas** cumple la condición de estar ordenados crecientemente."
   ]
  },
  {
   "cell_type": "markdown",
   "id": "fa81c264",
   "metadata": {},
   "source": [
    "- b) Mostrar que $ E[M] = \\sum_{n=0}^{\\infty} P(M > n) = e $  \n",
    "\n",
    "Usamos la fórmula de esperanza por cola de distribución:\n",
    "$$ E[M] = \\sum_{n=0}^{\\infty} P(M > n) = \\sum_{n=0}^{\\infty} \\frac{1}{n!} = e $$  \n",
    "\n",
    "Esto es exactamente la serie de Taylor de $e^1$:\n",
    "$$ e = \\sum_{n=0}^{\\infty} \\frac{1}{n!} $$\n"
   ]
  },
  {
   "cell_type": "code",
   "execution_count": 95,
   "id": "48cb7af0",
   "metadata": {},
   "outputs": [
    {
     "name": "stdout",
     "output_type": "stream",
     "text": [
      "N° de simulaciones: 7696\n",
      "Estimación de e: 2.716866\n",
      "Varianza muestral: 0.769597\n"
     ]
    }
   ],
   "source": [
    "# c)\n",
    "\n",
    "def U_orden_creciente():\n",
    "    n = 1\n",
    "    u = random()\n",
    "    u_ant = u\n",
    "    while u_ant <= u:\n",
    "        n += 1\n",
    "        u_ant = u\n",
    "        u = random()\n",
    "    return n\n",
    "\n",
    "def media_muestral(d=0.01):\n",
    "    X = U_orden_creciente()\n",
    "    media = X\n",
    "    Scuad = 0\n",
    "    n = 1\n",
    "    \n",
    "    while n <= 100 or np.sqrt(Scuad / n) > d:\n",
    "        n += 1\n",
    "        X = U_orden_creciente()\n",
    "        media_ant = media\n",
    "        media = media_ant + (X - media_ant) / n\n",
    "        Scuad = Scuad * (1 - 1 / (n-1)) + n * (media - media_ant)**2\n",
    "        \n",
    "    return n, media, Scuad\n",
    "\n",
    "n, media, var = media_muestral()\n",
    "print(f\"N° de simulaciones: {n}\")\n",
    "print(f\"Estimación de e: {media:.6f}\")\n",
    "print(f\"Varianza muestral: {var:.6f}\")"
   ]
  },
  {
   "cell_type": "code",
   "execution_count": 96,
   "id": "86643d16",
   "metadata": {},
   "outputs": [
    {
     "name": "stdout",
     "output_type": "stream",
     "text": [
      "n: 1223\n",
      "Estimacion de e: 2.757972199509401\n",
      "Varianza muestral: 0.8920267710522799\n",
      "IC (95%) = (2.7079787906205706, 2.8079656083982316)\n"
     ]
    }
   ],
   "source": [
    "# d)\n",
    "\n",
    "def Estimar_N_IC(z_alpha_2, L):\n",
    "    d = L / (2 * z_alpha_2)\n",
    "    media = U_orden_creciente()\n",
    "    Scuad = 0\n",
    "    n = 1\n",
    "    while n <= 100 or np.sqrt(Scuad / n) > d:\n",
    "        n += 1\n",
    "        X = U_orden_creciente()\n",
    "        media_ant = media\n",
    "        media = media_ant + (X - media_ant) / n\n",
    "        Scuad = Scuad * (1 - 1 / (n - 1)) + n * (media - media_ant) ** 2            \n",
    "        \n",
    "    S = np.sqrt(Scuad)\n",
    "    IC = (media - z_alpha_2 * np.sqrt(Scuad) / np.sqrt(n), media + z_alpha_2 * np.sqrt(Scuad) / np.sqrt(n))\n",
    "    return n, media, S, IC\n",
    "\n",
    "alpha = 0.95\n",
    "z_alpha_2 = stats.norm.ppf(1 - (1 - alpha) / 2)\n",
    "L = 0.1\n",
    "n, I, S, IC = Estimar_N_IC(z_alpha_2=z_alpha_2, L=L)\n",
    "\n",
    "print(\"n:\", n)\n",
    "print(\"Estimacion de e:\", I)\n",
    "print(\"Varianza muestral:\", S)\n",
    "print(\"IC (95%) =\", IC)\n"
   ]
  },
  {
   "cell_type": "markdown",
   "id": "65144b67",
   "metadata": {},
   "source": [
    "## Ejercicio 6\n",
    "Estime $\\pi$ sorteando puntos uniformemente distribuidos en el cuadrado cuyos vértices son: $(1, 1), (−1, 1), (−1, −1), (1, −1)$, y contabilizando la fracción que cae dentro del círculo inscrito de radio 1.  \n",
    "\n",
    "a) Utilice un algoritmo para estimar la proporción de puntos que caen dentro del círculo y deténgase cuando la desviación estandar muestral del estimador sea menor que $0,01$.  \n",
    "\n",
    "b) Obtenga un intervalo de ancho menor que $0,1$, el cual contenga a $\\pi$ con el $95 \\%$ de confianza. ¿Cuántas\n",
    "ejecuciones son necesarias?"
   ]
  },
  {
   "cell_type": "code",
   "execution_count": 97,
   "id": "477e37f9",
   "metadata": {},
   "outputs": [
    {
     "name": "stdout",
     "output_type": "stream",
     "text": [
      "(1624, 3.1847290640394075)\n"
     ]
    }
   ],
   "source": [
    "# a)\n",
    "def punto_dentro_circulo():\n",
    "    x, y = np.random.uniform(-1, 1), np.random.uniform(-1, 1)\n",
    "    if x**2 + y**2 <= 1:\n",
    "        return 1\n",
    "    else:\n",
    "        return 0\n",
    "    \n",
    "def estimador_p(d):\n",
    "    p = 0\n",
    "    n = 0\n",
    "    while n <= 100 or np.sqrt(p * (1 - p) / n) > d:\n",
    "        n += 1\n",
    "        X = punto_dentro_circulo()\n",
    "        p = p + (X - p) / n\n",
    "    pi_est = 4 * p\n",
    "    return n, pi_est\n",
    "\n",
    "# ¿Por qué se multiplica por 4?\n",
    "# Porque la proporción de puntos dentro del círculo estima π/4. Para estimar π, se hace:\n",
    "# π^= 4⋅proporción dentro\n",
    "\n",
    "\n",
    "print(estimador_p(0.01))"
   ]
  },
  {
   "cell_type": "code",
   "execution_count": 98,
   "id": "1228710e",
   "metadata": {},
   "outputs": [
    {
     "name": "stdout",
     "output_type": "stream",
     "text": [
      "272\n",
      "3.088235294117645\n",
      "(2.8888191941409156, 3.2876513940943743)\n"
     ]
    }
   ],
   "source": [
    "# b)\n",
    "def estimador_p_intervalo(z_alpha_2, L):\n",
    "    d = L / (2 * z_alpha_2)\n",
    "    p = 0\n",
    "    n = 0\n",
    "    while n <= 100 or np.sqrt(p * (1 - p) / n) > d:\n",
    "        n += 1\n",
    "        X = punto_dentro_circulo()\n",
    "        p = p + (X - p) / n\n",
    "    pi_est = 4 * p\n",
    "    IC = (4 * (p - z_alpha_2 * np.sqrt(p * (1 - p) / n)), 4 * (p + z_alpha_2 * np.sqrt(p * (1 - p) / n)))\n",
    "    return n, pi_est, IC\n",
    "\n",
    "alpha = 0.95\n",
    "z_alpha_2 = stats.norm.ppf(1 - (1 - alpha) / 2)\n",
    "L = 0.1\n",
    "n, I, IC = estimador_p_intervalo(z_alpha_2=z_alpha_2, L=L)\n",
    "\n",
    "print(n)\n",
    "print(I)\n",
    "print(IC)\n",
    "\n"
   ]
  },
  {
   "cell_type": "markdown",
   "id": "e2d84e3a",
   "metadata": {},
   "source": [
    "## Ejercicio 7\n",
    "Sean $X_1, ... , X_n$ variables aleatorias i.i.d., con media desconocida $\\mu$. Para constantes $a < b$, se quiere estimar $p = P(a < \\sum_{i=1}^{n} \\frac{X_i}{n} − \\mu < b)$. Estimar $p$ if $n = 10$ y los valores de $X_i$ son $56, 101, 78, 67, 93, 87, 64, 72, 80$ y $69$. Tomar $a = −5, b = 5$."
   ]
  },
  {
   "cell_type": "markdown",
   "id": "2be5ba99",
   "metadata": {},
   "source": [
    "En este caso el estimador para analizar es la media muestral\n",
    "$$ \\^\\theta(X_1,...,X_n) = \\=X(n) $$\n",
    "Dado que $ a = -5, b = 5 $ queremos estimar:  \n",
    "$$ P(-5 < \\=X(n) - \\mu < 5) = P(|\\=X(n) - \\mu| < 5) $$  \n",
    "\n",
    "Hay $10$ datos $(x_1,...,x_10)$ por lo tanto hay $10^{10}$ posibles muestras bootstrap, elegimos generar solo $N = 1000$. Como la media $\\mu$ es desconocida tomamos una estimacion en base a la muestra dada $\\mu \\sim \\^\\theta(X_1,...,X_n)$  \n",
    "\n",
    "Entonces estimamos la probabilidad deseada generando $N$ muestras bootstrap de la forma $(x_{i_{1}}^{(j)}, ..., x_{i_{10}}^{(j)})$ y luego contando:  \n",
    "$$ \\frac{1}{N} \\# \\{ (x_{i_{1}}^{(j)}, ..., x_{i_{10}}^{(j)}), 1 \\le j \\le N : | \\^\\theta(x_{i_{1}}^{(j)}, ..., x_{i_{10}}^{(j)}) - \\mu | < 5 \\} $$"
   ]
  },
  {
   "cell_type": "code",
   "execution_count": 99,
   "id": "e7813049",
   "metadata": {},
   "outputs": [
    {
     "name": "stdout",
     "output_type": "stream",
     "text": [
      "Estimacion de P(a < X̄ − μ < b) =  0.74\n"
     ]
    }
   ],
   "source": [
    "from random import choice\n",
    "\n",
    "def Muestra_Bootstrap(X):\n",
    "    muestra = []\n",
    "    for _ in range(len(X)):\n",
    "        muestra.append(choice(X))\n",
    "    return muestra\n",
    "\n",
    "def ejercicio_7(X, a, b, N=1000):\n",
    "    mu = np.mean(X) # Media Empírica\n",
    "    p = 0\n",
    "    for _ in range(N):\n",
    "        muestra = Muestra_Bootstrap(X)\n",
    "        replica = np.mean(muestra)\n",
    "        if a < replica - mu < b:\n",
    "            p += 1\n",
    "    return p / N\n",
    "\n",
    "X = [56, 101, 78, 67, 93, 87, 64, 72, 80, 69]\n",
    "a = -5\n",
    "b = 5\n",
    "\n",
    "print(\"Estimacion de P(a < X̄ − μ < b) = \", ejercicio_7(X, a, b))"
   ]
  },
  {
   "cell_type": "markdown",
   "id": "bb79f343",
   "metadata": {},
   "source": [
    "## Ejercicio 8\n",
    "Sean $X_1, ..., X_n$ variables aleatorias independientes e idénticamente distribuidas con varianza $\\sigma^2$ desconocida. Se planea estimar $\\sigma^2$ mediante la varianza muestral  \n",
    "$$ S^2 = \\sum_{i=1}^{n} (X_i-\\=X)^2 / (n-1)\\$$\n",
    "\n",
    "a) Si $n = 2, X_1 = 1$ y $X_2 = 3$, ¿cuál es la estimación “bootstrap” de $Var(S^2)$?  \n",
    "\n",
    "b) Si $n = 15$, los datos son:\n",
    "$$5, 4, 9, 6, 21, 17, 11, 20, 7, 10, 21, 15, 13, 16, 8$$\n",
    "¿Cómo se calcula la estimación bootstrap en este caso? Dé un valor posible de la estimación."
   ]
  },
  {
   "cell_type": "code",
   "execution_count": 100,
   "id": "51f998a3",
   "metadata": {},
   "outputs": [
    {
     "name": "stdout",
     "output_type": "stream",
     "text": [
      "Varianza empírica del estimador:  0.25\n"
     ]
    }
   ],
   "source": [
    "# a)\n",
    "# Estimacion de Bootstrap ideal de Var(S_cuadrado)\n",
    "\n",
    "def ejercicio_8(muestras_bootstrap):\n",
    "    replicas = []\n",
    "    for mb in muestras_bootstrap:\n",
    "        replicas.append(np.var(mb))\n",
    "    varianza = np.var(replicas) # Divido por n porque conozco todos los valores\n",
    "    return varianza\n",
    "\n",
    "# X = [1, 3]\n",
    "muestras_bootstrap = [[1, 1], [1, 3], [3, 1], [3, 3]]\n",
    "print(\"Varianza empírica del estimador: \", ejercicio_8(muestras_bootstrap))"
   ]
  },
  {
   "cell_type": "code",
   "execution_count": 101,
   "id": "08a84d0d",
   "metadata": {},
   "outputs": [
    {
     "name": "stdout",
     "output_type": "stream",
     "text": [
      "Estimación Bootstrap de la varianza del estimador:  0.2501861861861862\n",
      "Estimación Bootstrap de la varianza del estimador:  50.999109594453714\n"
     ]
    }
   ],
   "source": [
    "# b)\n",
    "\n",
    "def ejercicio_8b(X, N=1000):\n",
    "    replicas = []\n",
    "    for _ in range(N):\n",
    "        muestra = Muestra_Bootstrap(X)\n",
    "        replicas.append(np.var(muestra))\n",
    "    varianza = np.var(replicas, ddof=1) # Divido por (n-1) porque estimo\n",
    "    return varianza\n",
    "\n",
    "X = [1, 3]\n",
    "print(\"Estimación Bootstrap de la varianza del estimador: \", ejercicio_8b(X))\n",
    "\n",
    "X = [5, 4, 9, 6, 21, 17, 11, 20, 7, 10, 21, 15, 13, 16, 8]\n",
    "print(\"Estimación Bootstrap de la varianza del estimador: \", ejercicio_8b(X))\n"
   ]
  },
  {
   "cell_type": "markdown",
   "id": "f1824e7c",
   "metadata": {},
   "source": [
    "## Ejercicio 9\n",
    "Considerar un sistema de un único servidor que recibe solicitudes de ejecución de acuerdo a un proceso de Poisson no homogéneo. La función de intensidad $\\lambda(t)$ es inicialmente de $4$ requerimientos por hora, y luego crece de manera lineal durante $5$ horas hasta llegar a $19$ requerimientos por hora. Luego decrece linealmente durante $5$ horas hasta alcanzar una tasa de $4$ requerimientos por hora.  \n",
    "Este comportamiento de la función de intensidad se repite de manera indefinida, esto es:\n",
    "$$ \\lambda(t + 10) = \\lambda(t), t \\ge 0.$$\n",
    "Suponer que:  \n",
    "- El tiempo de servicio del servidor se distribuye de manera exponencial, con una tasa de $25$ servicios por hora.\n",
    "- Siempre que el servidor completa un trabajo y no encuentra trabajos para realizar, deja de funcionar por un tiempo uniformemente distribuido en el intervalo $(0, 0,3)$.\n",
    "- Si al retomar no encuentra trabajos para realizar, vuelve a detenerse con la misma distribución.  \n",
    "\n",
    "Se pide:  \n",
    "a) Desarrollar un programa que simule el proceso durante un tiempo $T$.  \n",
    "b) Realizar $5000$ simulaciones para estimar el tiempo esperado que el servidor está fuera de funcionamiento en las primeras $100$ horas de operación.  \n",
    "c) Representar en un histograma la distribución de los tiempos de parada."
   ]
  },
  {
   "cell_type": "code",
   "execution_count": 102,
   "id": "a8035f65",
   "metadata": {},
   "outputs": [
    {
     "name": "stdout",
     "output_type": "stream",
     "text": [
      "(5, [0.06913057824181536, 0.39281595792718726, 0.5092358527476688, 0.7114832127807763, 0.7884695809732292])\n"
     ]
    }
   ],
   "source": [
    "# Definamos la funcion lambda(t)\n",
    "\n",
    "# Arranca desde 4, osea lambda(0) = 4 y sube linealmente hasta 19 luego de 5 horas y luego decrece nuevamente a 4, asi cada 10 horas\n",
    "\n",
    "def lambda_t(t):\n",
    "    t_mod = t % 10\n",
    "    if t_mod < 5:\n",
    "        return 4 + 3*t_mod\n",
    "    else:\n",
    "        return 34 - 3*t_mod\n",
    "    \n",
    "def Poisson_no_homogeneo(T):\n",
    "    NT = 0\n",
    "    eventos = []\n",
    "    u = 1 - random()\n",
    "    t = -np.log(u) / 19 # vemos que el maximo valor que puede tomar lamda_t es 19\n",
    "    while t < T:\n",
    "        v = random()\n",
    "        if v < lambda_t(t) / 19:\n",
    "            NT += 1\n",
    "            eventos.append(t)\n",
    "        t += -np.log(1 - random()) / 19\n",
    "    return NT, eventos\n",
    "\n",
    "print(Poisson_no_homogeneo(1))"
   ]
  },
  {
   "cell_type": "code",
   "execution_count": 103,
   "id": "edd9dd2a",
   "metadata": {},
   "outputs": [],
   "source": [
    "def simular_sistema(T):\n",
    "    _, llegadas = Poisson_no_homogeneo(T)\n",
    "    cola = []\n",
    "    tiempo_actual = 0\n",
    "    servidor_ocupado = False\n",
    "    tiempo_fuera_servicio = 0\n",
    "    indice_llegada = 0\n",
    "    proxima_salida = float('inf')\n",
    "    \n",
    "    while tiempo_actual < T:\n",
    "        if indice_llegada < len(llegadas):\n",
    "            proxima_llegada = llegadas[indice_llegada]\n",
    "        else: \n",
    "            proxima_llegada = float('inf')\n",
    "            \n",
    "        if servidor_ocupado:\n",
    "            proximo_evento = min(proxima_llegada, proxima_salida)\n",
    "        else:\n",
    "            proximo_evento = proxima_llegada\n",
    "            \n",
    "        if proximo_evento == float('inf'):\n",
    "            break\n",
    "        \n",
    "        tiempo_actual = proximo_evento\n",
    "\n",
    "        if proximo_evento == proxima_llegada:\n",
    "            cola.append(tiempo_actual)\n",
    "            indice_llegada += 1\n",
    "            if not servidor_ocupado:\n",
    "                servidor_ocupado = True\n",
    "                tiempo_servicio = np.random.exponential(1/25)\n",
    "                proxima_salida = tiempo_actual + tiempo_servicio\n",
    "        else:\n",
    "            cola.pop(0)\n",
    "            if cola:\n",
    "                tiempo_servicio = np.random.exponential(1/25)\n",
    "                proxima_salida = tiempo_actual + tiempo_servicio\n",
    "            else:\n",
    "                servidor_ocupado = False\n",
    "                proxima_salida = float('inf')\n",
    "                while True:\n",
    "                    tiempo_parada = np.random.uniform(0, 0.3)\n",
    "                    tiempo_actual += tiempo_parada\n",
    "                    tiempo_fuera_servicio += tiempo_parada\n",
    "                    while indice_llegada < len(llegadas) and llegadas[indice_llegada] <= tiempo_actual:\n",
    "                        cola.append(llegadas[indice_llegada])\n",
    "                        indice_llegada += 1\n",
    "                    if cola:\n",
    "                        servidor_ocupado = True\n",
    "                        tiempo_servicio = np.random.exponential(1/25)\n",
    "                        proxima_salida = tiempo_actual + tiempo_servicio\n",
    "                        break\n",
    "                    if tiempo_actual >= T:\n",
    "                        break\n",
    "    return tiempo_fuera_servicio    "
   ]
  },
  {
   "cell_type": "code",
   "execution_count": 104,
   "id": "5cca4533",
   "metadata": {},
   "outputs": [
    {
     "name": "stdout",
     "output_type": "stream",
     "text": [
      "Tiempo promedio fuera de servicio: 53.8079 horas\n",
      "Varianza muestral: 3.7993\n"
     ]
    }
   ],
   "source": [
    "def estimar_tiempo_fuera_servicio(N, T):\n",
    "    tiempos_fuera_servicio = []\n",
    "    for _ in range(N):\n",
    "        tiempo_fuera = simular_sistema(T)\n",
    "        tiempos_fuera_servicio.append(tiempo_fuera)\n",
    "    media = np.mean(tiempos_fuera_servicio)\n",
    "    varianza = np.var(tiempos_fuera_servicio, ddof=1)\n",
    "    return media, varianza, tiempos_fuera_servicio\n",
    "\n",
    "media, varianza, tiempos = estimar_tiempo_fuera_servicio(500, 100)\n",
    "print(f\"Tiempo promedio fuera de servicio: {media:.4f} horas\")\n",
    "print(f\"Varianza muestral: {varianza:.4f}\")"
   ]
  },
  {
   "cell_type": "code",
   "execution_count": 105,
   "id": "cc97eed9",
   "metadata": {},
   "outputs": [
    {
     "data": {
      "image/png": "[encoded data removed]",
      "text/plain": [
       "<Figure size 640x480 with 1 Axes>"
      ]
     },
     "metadata": {},
     "output_type": "display_data"
    }
   ],
   "source": [
    "import matplotlib.pyplot as plt\n",
    "\n",
    "plt.hist(tiempos, bins=50, edgecolor='black')\n",
    "plt.title(\"Distribución de tiempos fuera de servicio\")\n",
    "plt.xlabel(\"Tiempo fuera de servicio (horas)\")\n",
    "plt.ylabel(\"Frecuencia\")\n",
    "plt.grid(True)\n",
    "plt.show()\n"
   ]
  }
 ],
 "metadata": {
  "kernelspec": {
   "display_name": "Python 3",
   "language": "python",
   "name": "python3"
  },
  "language_info": {
   "codemirror_mode": {
    "name": "ipython",
    "version": 3
   },
   "file_extension": ".py",
   "mimetype": "text/x-python",
   "name": "python",
   "nbconvert_exporter": "python",
   "pygments_lexer": "ipython3",
   "version": "3.10.12"
  }
 },
 "nbformat": 4,
 "nbformat_minor": 5
}
