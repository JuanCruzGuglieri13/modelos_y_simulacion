{
 "cells": [
  {
   "cell_type": "markdown",
   "id": "54986671",
   "metadata": {},
   "source": [
    "# Practico 4 - Generacion de variables aleatorias discretas"
   ]
  },
  {
   "cell_type": "code",
   "execution_count": 267,
   "id": "297d67aa",
   "metadata": {},
   "outputs": [],
   "source": [
    "from random import random\n",
    "import numpy as np \n",
    "import time"
   ]
  },
  {
   "cell_type": "markdown",
   "id": "8d0dae0e",
   "metadata": {},
   "source": [
    "## Ejercicio 2"
   ]
  },
  {
   "cell_type": "code",
   "execution_count": 268,
   "id": "60c96dca",
   "metadata": {},
   "outputs": [
    {
     "name": "stdout",
     "output_type": "stream",
     "text": [
      "Resultado de la suma: 17183.677439823703\n"
     ]
    }
   ],
   "source": [
    "# a)\n",
    "\n",
    "def calc_sum_exp(N):\n",
    "    sum = 0\n",
    "    for k in range(1, N + 1):\n",
    "        sum += np.exp(k/N)\n",
    "    return sum\n",
    "\n",
    "res_a = calc_sum_exp(10000)\n",
    "print(\"Resultado de la suma:\", res_a)"
   ]
  },
  {
   "cell_type": "code",
   "execution_count": 269,
   "id": "c2b5c6d9",
   "metadata": {},
   "outputs": [
    {
     "name": "stdout",
     "output_type": "stream",
     "text": [
      "Resultado de la suma promedio: 16704.006477145147\n"
     ]
    }
   ],
   "source": [
    "# b) \n",
    "def calc_sum_exp_promedio(M, N):\n",
    "    sum = 0 \n",
    "    for _ in range(M):\n",
    "        x = np.random.uniform(1, N)\n",
    "        sum += np.exp(x/N)\n",
    "    return N * sum / M\n",
    "\n",
    "res_b = calc_sum_exp_promedio(100, 10000)\n",
    "print(\"Resultado de la suma promedio:\", res_b)"
   ]
  },
  {
   "cell_type": "code",
   "execution_count": 271,
   "id": "46201d03",
   "metadata": {},
   "outputs": [
    {
     "name": "stdout",
     "output_type": "stream",
     "text": [
      "Exacta: 172.68875565927127 Tiempo: 0.00021958351135253906\n",
      "Aproximación: 174.13446201677135 Tiempo 0.0003452301025390625\n"
     ]
    }
   ],
   "source": [
    "# c)\n",
    "\n",
    "start = time.time()\n",
    "exacta = calc_sum_exp(100)\n",
    "end = time.time()\n",
    "print(\"Exacta:\", exacta, \"Tiempo:\", end - start)\n",
    "\n",
    "start = time.time()\n",
    "aprox = calc_sum_exp_promedio(100, 100)\n",
    "end = time.time()\n",
    "print(\"Aproximación:\", aprox, \"Tiempo\", end - start)"
   ]
  },
  {
   "cell_type": "markdown",
   "id": "5af419b7",
   "metadata": {},
   "source": [
    "## Ejercicio 3"
   ]
  },
  {
   "cell_type": "code",
   "execution_count": 272,
   "id": "f128040b",
   "metadata": {},
   "outputs": [
    {
     "data": {
      "text/plain": [
       "50"
      ]
     },
     "execution_count": 272,
     "metadata": {},
     "output_type": "execute_result"
    }
   ],
   "source": [
    "# a)\n",
    "\n",
    "def dados():\n",
    "    combinaciones = [2, 3, 4, 5, 6, 7, 8, 9, 10, 11, 12]\n",
    "    iteraciones = 0\n",
    "    while len(combinaciones) > 0:\n",
    "        d1 = np.random.randint(1, 7)\n",
    "        d2 = np.random.randint(1, 7)\n",
    "        suma = d1 + d2\n",
    "        iteraciones += 1\n",
    "        if suma in combinaciones:\n",
    "            combinaciones.remove(suma)\n",
    "            \n",
    "    return iteraciones\n",
    "            \n",
    "dados()"
   ]
  },
  {
   "cell_type": "code",
   "execution_count": 273,
   "id": "c1430e06",
   "metadata": {},
   "outputs": [
    {
     "name": "stdout",
     "output_type": "stream",
     "text": [
      "Repeticiones: 100\n",
      "Media estimada de lanzamientos: 61.8800\n",
      "Desviación estándar estimada: 40.6521\n",
      "\n",
      "Repeticiones: 1000\n",
      "Media estimada de lanzamientos: 60.4160\n",
      "Desviación estándar estimada: 36.9409\n",
      "\n",
      "Repeticiones: 10000\n",
      "Media estimada de lanzamientos: 61.3681\n",
      "Desviación estándar estimada: 36.1378\n",
      "\n",
      "Repeticiones: 100000\n",
      "Media estimada de lanzamientos: 61.2118\n",
      "Desviación estándar estimada: 36.0094\n",
      "\n"
     ]
    }
   ],
   "source": [
    "# b) i)\n",
    "\n",
    "def simular_repeticiones(n_repeticiones):\n",
    "    resultados = [dados() for _ in range(n_repeticiones)]\n",
    "    media = np.mean(resultados)\n",
    "    desv_std = np.std(resultados, ddof=1)  # muestra (no poblacional)\n",
    "    return media, desv_std\n",
    "\n",
    "# Repeticiones solicitadas\n",
    "repeticiones = [100, 1000, 10000, 100000]\n",
    "\n",
    "for n in repeticiones:\n",
    "    media, desviacion = simular_repeticiones(n)\n",
    "    print(f\"Repeticiones: {n}\")\n",
    "    print(f\"Media estimada de lanzamientos: {media:.4f}\")\n",
    "    print(f\"Desviación estándar estimada: {desviacion:.4f}\\n\")"
   ]
  },
  {
   "cell_type": "code",
   "execution_count": 274,
   "id": "ae2002b2",
   "metadata": {},
   "outputs": [
    {
     "name": "stdout",
     "output_type": "stream",
     "text": [
      "Repeticiones: 100\n",
      "P(N ≥ 15): 1.0000\n",
      "P(N ≤ 9): 0.0000\n",
      "\n",
      "Repeticiones: 1000\n",
      "P(N ≥ 15): 0.9980\n",
      "P(N ≤ 9): 0.0000\n",
      "\n",
      "Repeticiones: 10000\n",
      "P(N ≥ 15): 0.9988\n",
      "P(N ≤ 9): 0.0000\n",
      "\n",
      "Repeticiones: 100000\n",
      "P(N ≥ 15): 0.9985\n",
      "P(N ≤ 9): 0.0000\n",
      "\n"
     ]
    }
   ],
   "source": [
    "# b) ii)\n",
    "\n",
    "def estimar_probabilidades(n_repeticiones):\n",
    "    resultados = [dados() for _ in range(n_repeticiones)]\n",
    "    resultados = np.array(resultados)\n",
    "\n",
    "    p_ge_15 = np.mean(resultados >= 15)\n",
    "    p_le_9 = np.mean(resultados <= 9)\n",
    "\n",
    "    return p_ge_15, p_le_9\n",
    "\n",
    "# Repeticiones solicitadas\n",
    "repeticiones = [100, 1000, 10000, 100000]\n",
    "\n",
    "for n in repeticiones:\n",
    "    p_ge_15, p_le_9 = estimar_probabilidades(n)\n",
    "    print(f\"Repeticiones: {n}\")\n",
    "    print(f\"P(N ≥ 15): {p_ge_15:.4f}\")\n",
    "    print(f\"P(N ≤ 9): {p_le_9:.4f}\\n\")\n"
   ]
  },
  {
   "cell_type": "markdown",
   "id": "6aaec5e4",
   "metadata": {},
   "source": [
    "## Ejercicio 4"
   ]
  },
  {
   "cell_type": "code",
   "execution_count": 275,
   "id": "7d92a49a",
   "metadata": {},
   "outputs": [],
   "source": [
    "# a) Metodo de rechazo con c mas bajo posible\n",
    "\n",
    "# Calculamos c=1.4\n",
    "\n",
    "# arreglos de valores\n",
    "valores = [1, 2, 3, 4, 5, 6, 7, 8, 9, 10]\n",
    "probsX = [0.11, 0.14, 0.09, 0.08, 0.12, 0.10, 0.09, 0.07, 0.11, 0.09]\n",
    "probsY = [0.1, 0.1, 0.1, 0.1, 0.1, 0.1, 0.1, 0.1, 0.1, 0.1]\n",
    "\n",
    "def UniformeY(n):\n",
    "    u = random()\n",
    "    x = 1; F = 1/n\n",
    "    while u >= F:\n",
    "        F += 1/n\n",
    "        x += 1\n",
    "    return x\n",
    "\n",
    "def AyR1(c=1.4):\n",
    "    while True:\n",
    "        y = UniformeY(10)\n",
    "        u = random()\n",
    "        if u < probsX[y-1] / (c * probsY[y-1]):\n",
    "            return y"
   ]
  },
  {
   "cell_type": "code",
   "execution_count": 276,
   "id": "b75a78a0",
   "metadata": {},
   "outputs": [],
   "source": [
    "# MEtodo de transformada inversa\n",
    "\n",
    "x = [1, 2, 3, 4, 5, 6, 7, 8, 9, 10]\n",
    "p = [0.11, 0.14, 0.09, 0.08, 0.12, 0.10, 0.09, 0.07, 0.11, 0.09]\n",
    "# E[cantidad de comparaciones] = \n",
    "# 1*0.11 + 2*0.14 + 3*0.09 + 4*0.08 + 5*0.12 + 6*0.10 + 7*0.09 + 8*0.07 + 9*0.11 + 10*0.09 = \n",
    "#   0.11 +   0.24 +   0.27 +   0.32 +   0.60 +   0.60 +   0.63 +   0.56 +   0.99 +    0.90 = 5.22\n",
    "\n",
    "p_may_men = [0.14, 0.12, 0.11, 0.11, 0.10, 0.09, 0.09, 0.09, 0.08, 0.07]\n",
    "x_may_men = [2, 5, 1, 9, 6, 3, 7, 10, 4, 8]\n",
    "# E[cantidad de comparaciones] =\n",
    "# 1*0.14 + 2*0.12 + 3*0.11 + 4*0.11 + 5*0.10 + 6*0.09 + 7*0.09 + 8*0.09 + 9*0.08 + 10*0.07 =\n",
    "#   0.14 +   0.24 +   0.33 +   0.44 +   0.50 +   0.54 +   0.63 +   0.72 +   0.72 +    0.70 = 4.96\n",
    "\n",
    "def TIX(p, x):\n",
    "    u = random()\n",
    "    i = 0; F = p[0]\n",
    "    while u >= F:\n",
    "        i += 1\n",
    "        F += p[i]\n",
    "    return x[i]\n"
   ]
  },
  {
   "cell_type": "code",
   "execution_count": 277,
   "id": "99985f5c",
   "metadata": {},
   "outputs": [
    {
     "name": "stdout",
     "output_type": "stream",
     "text": [
      "Urna: 1\n"
     ]
    }
   ],
   "source": [
    "# Metodo de la urna\n",
    "\n",
    "def generarUrna():\n",
    "    res = []\n",
    "    npos = []\n",
    "    for i in p:\n",
    "        npos.append(i*100)\n",
    "        \n",
    "    for i in x:\n",
    "        for _ in range(int(npos[i-1])):\n",
    "            res.append(i)\n",
    "            \n",
    "    return res\n",
    "\n",
    "B = generarUrna()\n",
    "# len(generarUrna()) = 100\n",
    "\n",
    "def urna():\n",
    "    u = random()\n",
    "    I = int(u*100)\n",
    "    return B[I]\n",
    "\n",
    "print(\"Urna:\", urna())"
   ]
  },
  {
   "cell_type": "code",
   "execution_count": 278,
   "id": "475fdd25",
   "metadata": {},
   "outputs": [
    {
     "name": "stdout",
     "output_type": "stream",
     "text": [
      "AyR con c = 1.4:\n",
      "tiempo total: 0.0260 segundos\n",
      "tiempo promedio: 2.60 µs\n",
      "\n",
      "AyR con c = 3\n",
      "tiempo total: 0.0317 segundos\n",
      "tiempo promedio: 3.17 µs\n",
      "\n",
      "transformada inversa:\n",
      "tiempo total: 0.0093 segundos\n",
      "tiempo promedio: 0.93 µs\n",
      "\n",
      "metodo de urna:\n",
      "tiempo total: 0.0037 segundos\n",
      "tiempo promedio: 0.37 µs\n",
      "\n"
     ]
    }
   ],
   "source": [
    "# Calculemos la eficiencia de cada metodo\n",
    "\n",
    "\n",
    "start = time.perf_counter()\n",
    "for _ in range(10000):\n",
    "    AyR1(1.4)\n",
    "end = time.perf_counter()\n",
    "tiempo_total = end - start\n",
    "print(\"AyR con c = 1.4:\")\n",
    "print(f\"tiempo total: {tiempo_total:.4f} segundos\")\n",
    "print(f\"tiempo promedio: {(tiempo_total / 10000) * 1e6:.2f} µs\\n\")\n",
    "\n",
    "start = time.perf_counter()\n",
    "for _ in range(10000):\n",
    "    AyR1(3)\n",
    "end = time.perf_counter()\n",
    "tiempo_total = end - start\n",
    "print(\"AyR con c = 3\")\n",
    "print(f\"tiempo total: {tiempo_total:.4f} segundos\")\n",
    "print(f\"tiempo promedio: {(tiempo_total / 10000) * 1e6:.2f} µs\\n\")\n",
    "\n",
    "start = time.perf_counter()\n",
    "for _ in range(10000):\n",
    "    TIX(p_may_men, x_may_men)\n",
    "end = time.perf_counter()\n",
    "tiempo_total = end - start\n",
    "print(\"transformada inversa:\")\n",
    "print(f\"tiempo total: {tiempo_total:.4f} segundos\")\n",
    "print(f\"tiempo promedio: {(tiempo_total / 10000) * 1e6:.2f} µs\\n\")\n",
    "\n",
    "start = time.perf_counter()\n",
    "for _ in range(10000):\n",
    "    urna()\n",
    "end = time.perf_counter()\n",
    "tiempo_total = end - start\n",
    "print(\"metodo de urna:\") \n",
    "print(f\"tiempo total: {tiempo_total:.4f} segundos\")\n",
    "print(f\"tiempo promedio: {(tiempo_total / 10000) * 1e6:.2f} µs\\n\")\n",
    "\n",
    "\n"
   ]
  },
  {
   "cell_type": "markdown",
   "id": "1fe320bf",
   "metadata": {},
   "source": [
    "## ejercicio 5"
   ]
  },
  {
   "cell_type": "code",
   "execution_count": 279,
   "id": "79e87378",
   "metadata": {},
   "outputs": [],
   "source": [
    "# I)\n",
    "\n",
    "def binomial(n, p):\n",
    "    c = p / (1 - p)\n",
    "    prob = (1 - p) ** n\n",
    "    F = prob\n",
    "    i = 0\n",
    "    u = random()\n",
    "    while u >= F:\n",
    "        prob *= c * (n - i) / (i + 1)\n",
    "        F += prob\n",
    "        i += 1\n",
    "    return i"
   ]
  },
  {
   "cell_type": "code",
   "execution_count": 280,
   "id": "1fbc779c",
   "metadata": {},
   "outputs": [],
   "source": [
    "# II) Simulando n ensayos con probabilidad de éxito p y contando el número de éxitos.\n",
    "\n",
    "def binomial2(n, p):\n",
    "    res = 0\n",
    "    for _ in range(n):\n",
    "        u = random()\n",
    "        if u < p:\n",
    "            res += 1\n",
    "    return res"
   ]
  },
  {
   "cell_type": "code",
   "execution_count": 281,
   "id": "4aaef72c",
   "metadata": {},
   "outputs": [
    {
     "name": "stdout",
     "output_type": "stream",
     "text": [
      "binomial del punto I:\n",
      "tiempo total: 0.0229 segundos\n",
      "tiempo promedio: 2.29 µs\n",
      "\n",
      "binomial del punto II:\n",
      "tiempo total: 0.0155 segundos\n",
      "tiempo promedio: 1.55 µs\n",
      "\n"
     ]
    }
   ],
   "source": [
    "# a)Compare la eficiencia de ambos algoritmos para n = 10 y p = 0,3, evaluando el tiempo necesario para realizar 10000 simulaciones.\n",
    "\n",
    "start = time.perf_counter()\n",
    "for _ in range(10000):\n",
    "    binomial(10, 0.3)\n",
    "end = time.perf_counter()\n",
    "tiempo_total = end - start\n",
    "print(\"binomial del punto I:\")\n",
    "print(f\"tiempo total: {tiempo_total:.4f} segundos\")\n",
    "print(f\"tiempo promedio: {(tiempo_total / 10000) * 1e6:.2f} µs\\n\")\n",
    "\n",
    "start = time.perf_counter()\n",
    "for _ in range(10000):\n",
    "    binomial2(10, 0.3)\n",
    "end = time.perf_counter()\n",
    "tiempo_total = end - start\n",
    "print(\"binomial del punto II:\")\n",
    "print(f\"tiempo total: {tiempo_total:.4f} segundos\")\n",
    "print(f\"tiempo promedio: {(tiempo_total / 10000) * 1e6:.2f} µs\\n\")"
   ]
  },
  {
   "cell_type": "code",
   "execution_count": 282,
   "id": "1d68b28f",
   "metadata": {},
   "outputs": [
    {
     "name": "stdout",
     "output_type": "stream",
     "text": [
      "Resultados binomial I:\n",
      "ocurrencias: [287, 1236, 2289, 2738, 2027, 972, 342, 83, 23, 3]\n",
      "mayor ocurrencia: 4\n",
      "proporciones: [0.0287, 0.1236, 0.2289, 0.2738, 0.2027, 0.0972, 0.0342, 0.0083, 0.0023, 0.0003]\n",
      "Resultados binomial II:\n",
      "ocurrencias: [271, 1189, 2394, 2690, 1960, 1023, 389, 69, 14, 1]\n",
      "mayor ocurrencia: 4\n",
      "proporciones: [0.0271, 0.1189, 0.2394, 0.269, 0.196, 0.1023, 0.0389, 0.0069, 0.0014, 0.0001]\n"
     ]
    }
   ],
   "source": [
    "# b) Estime el valor con mayor ocurrencia y la proporción de veces que se obtuvieron los valores 0 y 10 respectivamente. \n",
    "\n",
    "resI = [0, 0, 0, 0, 0, 0, 0, 0, 0, 0]\n",
    "resII = [0, 0, 0, 0, 0, 0, 0, 0, 0, 0]\n",
    "\n",
    "for _ in range(10000):\n",
    "    resI[binomial(10, 0.3)] += 1\n",
    "    resII[binomial2(10, 0.3)] += 1\n",
    "    \n",
    "prom_resI = [0, 0, 0, 0, 0, 0, 0, 0, 0, 0]\n",
    "prom_resII = [0, 0, 0, 0, 0, 0, 0, 0, 0, 0]\n",
    "\n",
    "for i in range(10):\n",
    "    prom_resI[i] = resI[i] / 10000\n",
    "    prom_resII[i] = resII[i] / 10000    \n",
    "\n",
    "print(\"Resultados binomial I:\")\n",
    "print(\"ocurrencias:\", resI)\n",
    "print(\"mayor ocurrencia:\", np.argmax(resI) + 1)\n",
    "print(\"proporciones:\", prom_resI)\n",
    "print(\"Resultados binomial II:\")\n",
    "print(\"ocurrencias:\", resII)\n",
    "print(\"mayor ocurrencia:\", np.argmax(resII) + 1)\n",
    "print(\"proporciones:\", prom_resII)\n"
   ]
  },
  {
   "cell_type": "markdown",
   "id": "eb8f2354",
   "metadata": {},
   "source": [
    "## Ejercicio 6"
   ]
  },
  {
   "cell_type": "code",
   "execution_count": 283,
   "id": "91922c87",
   "metadata": {},
   "outputs": [
    {
     "name": "stdout",
     "output_type": "stream",
     "text": [
      "Transformada inversa:\n",
      "tiempo total: 0.0137 segundos\n",
      "tiempo promedio: 1.37 µs\n",
      "\n",
      "Transformada inversa mejorada:\n",
      "tiempo total: 0.0093 segundos\n",
      "tiempo promedio: 0.93 µs\n",
      "\n",
      "Metodo de aceptacion y rechazo:\n",
      "tiempo total: 0.0415 segundos\n",
      "tiempo promedio: 4.15 µs\n",
      "\n"
     ]
    }
   ],
   "source": [
    "p = [0.15, 0.20, 0.10, 0.35, 0.20]\n",
    "\n",
    "def TIX1():\n",
    "    u = random()\n",
    "    if u < p[0]: return 0\n",
    "    elif u < p[0] + p[1]: return 1\n",
    "    elif u < p[0] + p[1] + p[2]: return 2\n",
    "    elif u < p[0] + p[1] + p[2] + p[3]: return 3\n",
    "    else: return 4\n",
    "    \n",
    "def TIX2():\n",
    "    # Ordenado de mayor a menor las probabilidades\n",
    "    u = random()\n",
    "    if u < p[3]: return 3\n",
    "    elif u < p[3] + p[1]: return 1\n",
    "    elif u < p[3] + p[1] + p[4]: return 4\n",
    "    elif u < p[3] + p[1] + p[4] + p[0]: return 0\n",
    "    else: return 2\n",
    "    \n",
    "# Metodo de aceptacion y rechazo con Y ~ Bin(4,0.45)\n",
    "q = [0.0915, 0.2995, 0.3675, 0.2005, 0.0410]\n",
    "\n",
    "def AyR2():\n",
    "    while True:\n",
    "        y = binomial(4, 0.45)\n",
    "        u = random()\n",
    "        if u < p[y] / (4.878 * q[y]):\n",
    "            return y\n",
    "    \n",
    "    \n",
    "# Simulacion: Compare la eficiencia de los dos algoritmos realizando 10000 simulaciones.\n",
    "start = time.perf_counter()\n",
    "for _ in range(10000):\n",
    "    TIX1()\n",
    "end = time.perf_counter()\n",
    "tiempo_total = end - start\n",
    "print(\"Transformada inversa:\")\n",
    "print(f\"tiempo total: {tiempo_total:.4f} segundos\")\n",
    "print(f\"tiempo promedio: {(tiempo_total / 10000) * 1e6:.2f} µs\\n\")\n",
    "\n",
    "start = time.perf_counter()\n",
    "for _ in range(10000):\n",
    "    TIX2()\n",
    "end = time.perf_counter()\n",
    "tiempo_total = end - start\n",
    "print(\"Transformada inversa mejorada:\")\n",
    "print(f\"tiempo total: {tiempo_total:.4f} segundos\")\n",
    "print(f\"tiempo promedio: {(tiempo_total / 10000) * 1e6:.2f} µs\\n\")\n",
    "\n",
    "start = time.perf_counter()\n",
    "for _ in range(10000):\n",
    "    AyR2()\n",
    "end = time.perf_counter()\n",
    "tiempo_total = end - start\n",
    "print(\"Metodo de aceptacion y rechazo:\")\n",
    "print(f\"tiempo total: {tiempo_total:.4f} segundos\")\n",
    "print(f\"tiempo promedio: {(tiempo_total / 10000) * 1e6:.2f} µs\\n\")\n",
    "\n"
   ]
  },
  {
   "cell_type": "markdown",
   "id": "e152a1bf",
   "metadata": {},
   "source": [
    "## Ejercicio 7\n",
    "\n",
    "Estime P(Y > 2) con λ = 10, y 1000 repeticiones para la variable Poisson, simulando con método de transformada inversa común e inversa mejorado."
   ]
  },
  {
   "cell_type": "code",
   "execution_count": 284,
   "id": "c0a9cf7d",
   "metadata": {},
   "outputs": [
    {
     "name": "stdout",
     "output_type": "stream",
     "text": [
      "Metodo de transformada inversa de Poisson: 0.999\n",
      "tiempo total: 0.0034 segundos\n",
      "tiempo promedio: 0.34 µs\n",
      "\n",
      "Metodo de transformada inversa mejorado de Poisson: 0.996\n",
      "tiempo total: 0.0049 segundos\n",
      "tiempo promedio: 0.49 µs\n",
      "\n"
     ]
    }
   ],
   "source": [
    "def Poisson(lambda_):\n",
    "    u = random()\n",
    "    i = 0; p = np.exp(-lambda_)\n",
    "    F = p\n",
    "    while u >= F:\n",
    "        i += 1\n",
    "        p *= lambda_ / i\n",
    "        F += p\n",
    "    return i\n",
    "\n",
    "# Mejoramos el algoritmo comenzando por analizar el valor mas probable. El valor maximo de las probabilidades son los valores cercanos a lambda (lambda_),  asi que comenzamos por el valor l y decrecemos o crecemos si U es mayor o menor a la acumulada\n",
    "def PoissonMejorado(lambda_):\n",
    "    p = np.exp(-lambda_); F = p\n",
    "    for j in range(1, int(lambda_) + 1):\n",
    "        p *= lambda_ / j\n",
    "        F += p\n",
    "    u = random()\n",
    "    if u >= F:\n",
    "        j = int(lambda_) + 1\n",
    "        while u >= F:\n",
    "            p *= lambda_ / j\n",
    "            F += p\n",
    "            j += 1 \n",
    "        return j\n",
    "    else:\n",
    "        j = int(lambda_)\n",
    "        while u < F:\n",
    "            F -= p\n",
    "            p *= j / lambda_\n",
    "            j -= 1\n",
    "        return j + 1 \n",
    "    \n",
    "\n",
    "def ejercicio7(metodo, lambda_, n=1000):\n",
    "    conteo = 0\n",
    "    for _ in range(n):\n",
    "        y = metodo(lambda_)\n",
    "        if y > 2:\n",
    "            conteo += 1\n",
    "    return conteo / n\n",
    "\n",
    "\n",
    "\n",
    "start = time.perf_counter()\n",
    "print(\"Metodo de transformada inversa de Poisson:\", ejercicio7(Poisson, 10))\n",
    "end = time.perf_counter()\n",
    "tiempo_total = end - start\n",
    "print(f\"tiempo total: {tiempo_total:.4f} segundos\")\n",
    "print(f\"tiempo promedio: {(tiempo_total / 10000) * 1e6:.2f} µs\\n\")\n",
    "\n",
    "start = time.perf_counter()\n",
    "print(\"Metodo de transformada inversa mejorado de Poisson:\", ejercicio7(PoissonMejorado, 10))\n",
    "end = time.perf_counter()\n",
    "tiempo_total = end - start\n",
    "print(f\"tiempo total: {tiempo_total:.4f} segundos\")\n",
    "print(f\"tiempo promedio: {(tiempo_total / 10000) * 1e6:.2f} µs\\n\")"
   ]
  },
  {
   "cell_type": "markdown",
   "id": "c57a7aac",
   "metadata": {},
   "source": [
    "## Ejercicio 8"
   ]
  },
  {
   "cell_type": "markdown",
   "id": "c2701a86",
   "metadata": {},
   "source": [
    "$$ P(X = i) = \\frac{\\frac{\\lambda^i}{i!} e^{-\\lambda}}{\\sum_{j=0}^{k} \\frac{\\lambda^j}{j!} e^{-\\lambda}} $$"
   ]
  },
  {
   "cell_type": "markdown",
   "id": "a0114747",
   "metadata": {},
   "source": [
    "Primero haremos el numerador:\n",
    "$$\\frac{\\lambda^i}{i!} e^{-\\lambda}$$"
   ]
  },
  {
   "cell_type": "code",
   "execution_count": 285,
   "id": "18279411",
   "metadata": {},
   "outputs": [],
   "source": [
    "def numerador(lamb, i):\n",
    "    \"\"\"\n",
    "    P(Y=i), es la funcion de masa de Poisson\n",
    "    \"\"\"\n",
    "    p = np.exp(-lamb)\n",
    "    for j in range(1, i + 1):\n",
    "        p *= lamb / j\n",
    "    return p"
   ]
  },
  {
   "cell_type": "markdown",
   "id": "25ad5855",
   "metadata": {},
   "source": [
    "Luego el denominador, el cual es una sumatoria\n",
    "$$\\sum_{j=0}^{k} \\frac{\\lambda^j}{j!} e^{-\\lambda}$$\n"
   ]
  },
  {
   "cell_type": "code",
   "execution_count": 286,
   "id": "5d4ae75d",
   "metadata": {},
   "outputs": [],
   "source": [
    "def denominador(lamb, k):\n",
    "    \"\"\"\n",
    "    P(Y<=k), es la funcion de distribucion acumulada de Poisson\n",
    "    \"\"\"\n",
    "    p = np.exp(-lamb)\n",
    "    F = p\n",
    "    for j in range(1, k + 1):\n",
    "        p *= lamb / j\n",
    "        F += p\n",
    "    return F"
   ]
  },
  {
   "cell_type": "markdown",
   "id": "5d12062a",
   "metadata": {},
   "source": [
    "Ahora dividimos el nominador con el denominador"
   ]
  },
  {
   "cell_type": "code",
   "execution_count": 287,
   "id": "f3b8f03a",
   "metadata": {},
   "outputs": [],
   "source": [
    "def PX(lamb, k, i):\n",
    "    \"\"\"\n",
    "    P(X=i) (i=1,...,k)\n",
    "    \"\"\"\n",
    "    return numerador(lamb, i) / denominador(lamb, k)"
   ]
  },
  {
   "cell_type": "markdown",
   "id": "6a1703b4",
   "metadata": {},
   "source": [
    "Hacemos ahora los generadores "
   ]
  },
  {
   "cell_type": "code",
   "execution_count": 288,
   "id": "a7d1304b",
   "metadata": {},
   "outputs": [],
   "source": [
    "def poisson_truncada(lamb, k):\n",
    "    \"\"\"\n",
    "    Con Transformada inversa\n",
    "    \"\"\"\n",
    "    \n",
    "    u = random()\n",
    "    S = denominador(lamb, k)\n",
    "    i = 0 \n",
    "    p = np.exp(-lamb) / S\n",
    "    F = p\n",
    "    while u >= F:\n",
    "        i += 1\n",
    "        p *= lamb / i\n",
    "        F += p\n",
    "    return i\n",
    "\n",
    "def poisson_truncada_mejorada(lamb, k):\n",
    "    \"\"\"\n",
    "    Con transformada inversa mejorada\n",
    "    \"\"\"\n",
    "    S = denominador(lamb, k)\n",
    "    p = np.exp(-lamb) / S \n",
    "    F = p\n",
    "    for j in range(int(lamb)):\n",
    "        p *= lamb / j\n",
    "        F += p\n",
    "    j = int(lamb)\n",
    "    u = random()\n",
    "    if u < F:\n",
    "        while u < F:\n",
    "            F -= p\n",
    "            p *= j / lamb\n",
    "            j -= 1\n",
    "        return j + 1\n",
    "    else:\n",
    "        while u >= F:\n",
    "            j += 1\n",
    "            p *= lamb / j\n",
    "            F += p\n",
    "        return j\n",
    "    \n",
    "def est_P(X, lamb, k, i, n_sim=100): #P(X>i)\n",
    "    c = 0\n",
    "    for _ in range(n_sim):\n",
    "        x = X(lamb, k)\n",
    "        if x > i:\n",
    "            c += 1\n",
    "    return c / n_sim"
   ]
  },
  {
   "cell_type": "markdown",
   "id": "8f8604ba",
   "metadata": {},
   "source": [
    "Ahora con em metodo de aceptacion y rechazo"
   ]
  },
  {
   "cell_type": "code",
   "execution_count": 289,
   "id": "275c341c",
   "metadata": {},
   "outputs": [],
   "source": [
    "def poisson_ayr(lamb, k):\n",
    "    \"\"\"\n",
    "    Aceptación y Rechazo\n",
    "    \"\"\"\n",
    "    y = Poisson(lamb)\n",
    "    u = random()\n",
    "    S = denominador(lamb, k)\n",
    "    c = 1 / S\n",
    "    qy = numerador(lamb, y)\n",
    "    while u >= PX(lamb, k, y) / (c * qy):\n",
    "        y = Poisson(lamb)\n",
    "        u = random()\n",
    "    return y\n",
    "\n",
    "def poisson_ayr_mej(lamb, k):\n",
    "    while True:\n",
    "        y = Poisson(lamb)\n",
    "        if y <= k:\n",
    "            return y"
   ]
  },
  {
   "cell_type": "markdown",
   "id": "4f409744",
   "metadata": {},
   "source": [
    "Simulaciones:"
   ]
  },
  {
   "cell_type": "code",
   "execution_count": 291,
   "id": "0db9cf77",
   "metadata": {},
   "outputs": [
    {
     "name": "stdout",
     "output_type": "stream",
     "text": [
      "Estimación de P(X>2) con 1000 simulaciones\n",
      "T. Inversa: 0.04\n",
      "T. Inversa MEJORADA: 0.037\n",
      "----------------------------------------------------------------------------------------\n",
      "Estimación usando Aceptación y Rechazo: 0.036\n",
      "Método Mejorado: 0.036\n",
      "----------------------------------------------------------------------------------------\n",
      "Valor exacto P(X > 2) = 0.03414158387347266\n",
      "----------------------------------------------------------------------------------------\n",
      "Tiempo de corrida comun: 0.03625\n",
      "Tiempo de corrida mejorada: 0.03910\n",
      "Tiempo de corrida AyR: 0.07540\n",
      "Tiempo de corrida AyR mejorada: 0.01029\n"
     ]
    }
   ],
   "source": [
    "print(\"Estimación de P(X>2) con 1000 simulaciones\")\n",
    "print(f\"T. Inversa: {est_P(poisson_truncada, 0.7, 10, 2, n_sim=1000)}\")\n",
    "print(f\"T. Inversa MEJORADA: {est_P(poisson_truncada_mejorada, 0.7, 10, 2, n_sim=1000)}\" )\n",
    "print(\"----------------------------------------------------------------------------------------\")\n",
    "print(f\"Estimación usando Aceptación y Rechazo: {est_P(poisson_ayr, 0.7, 10, 2, n_sim=1000)}\")\n",
    "print(f\"Método Mejorado: {est_P(poisson_ayr, 0.7, 10, 2, n_sim=1000)}\")\n",
    "print(\"----------------------------------------------------------------------------------------\")\n",
    "print(f\"Valor exacto P(X > 2) = {1 - (PX(0.7, k=10, i=0) + PX(0.7, k=10, i=1) + PX(0.7, k=10, i=2))}\")\n",
    "\n",
    "# Si quiero comparar el tiempo de corrida de las distintas funciones de Transf Inversa\n",
    "print(\"----------------------------------------------------------------------------------------\")\n",
    "start = time.time()\n",
    "est_P(poisson_truncada, 0.7, 10, 2, n_sim=10000)\n",
    "print(f\"Tiempo de corrida comun: {time.time() - start:.5f}\")\n",
    "start = time.time()\n",
    "est_P(poisson_truncada_mejorada, 0.7, 10, 2, n_sim=10000)\n",
    "print(f\"Tiempo de corrida mejorada: {time.time() - start:.5f}\")\n",
    "start = time.time()\n",
    "est_P(poisson_ayr, 0.7, 10, 2, n_sim=10000)\n",
    "print(f\"Tiempo de corrida AyR: {time.time() - start:.5f}\")\n",
    "start = time.time()\n",
    "est_P(poisson_ayr_mej, 0.7, 10, 2, n_sim=10000)\n",
    "print(f\"Tiempo de corrida AyR mejorada: {time.time() - start:.5f}\")"
   ]
  },
  {
   "cell_type": "markdown",
   "id": "9ee92180",
   "metadata": {},
   "source": [
    "## Ejercicio 9"
   ]
  },
  {
   "cell_type": "markdown",
   "id": "21957cfc",
   "metadata": {},
   "source": [
    "Implemente dos métodos para simular una variable geométrica Geom(p):"
   ]
  },
  {
   "cell_type": "code",
   "execution_count": 348,
   "id": "5b61e39a",
   "metadata": {},
   "outputs": [],
   "source": [
    "# a) Usando transformada inversa y aplicando la fórmula recursiva para P(X = i).\n",
    "\n",
    "def geomentrica(p):\n",
    "    \"\"\"\n",
    "    Generador de variable aleatoria Geometrica\n",
    "    \"\"\"\n",
    "    u = random()\n",
    "    i = 1\n",
    "    F = p\n",
    "    while u >= F:\n",
    "        i += 1\n",
    "        F += p * (1 - p) ** (i - 1)\n",
    "    return i\n",
    "\n",
    "def geomentrica_mejorada(p):\n",
    "    \"\"\"\n",
    "    Generador de variable aleatoria Geometrica mejorada\n",
    "    \"\"\"\n",
    "    u = random()\n",
    "    return int(np.log(1-u) / np.log(1-p)) + 1\n",
    "\n",
    "# Ambas funciones devuelven la cantidad de intentos hasta obtner el primer éxito (mientras mas alto sea p menos intentos son necesarios)."
   ]
  },
  {
   "cell_type": "code",
   "execution_count": 347,
   "id": "44f6ead0",
   "metadata": {},
   "outputs": [
    {
     "name": "stdout",
     "output_type": "stream",
     "text": [
      "2\n"
     ]
    }
   ],
   "source": [
    "# b) Simulando ensayos con probabilidad de éxito p hasta obtener un éxito\n",
    "\n",
    "def obtener_exito(p):\n",
    "    u = random()\n",
    "    i = 1\n",
    "    while u >= p:\n",
    "        i += 1\n",
    "        u = random()\n",
    "    return i\n",
    "    \n",
    "print(obtener_exito(0.8))"
   ]
  },
  {
   "cell_type": "code",
   "execution_count": 354,
   "id": "c1ae908a",
   "metadata": {},
   "outputs": [
    {
     "name": "stdout",
     "output_type": "stream",
     "text": [
      "Promedio geométrica p=0.8: 1.2489\n",
      "Promedio obtención de éxito p=0.8: 1.2579\n",
      "----------------------------------------------------------------------------------------\n",
      "Promedio geométrica p=0.2: 4.9877\n",
      "Promedio obtención de éxito p=0.2: 5.0811\n"
     ]
    }
   ],
   "source": [
    "\"\"\"\n",
    "Compare la eficiencia de estos algoritmos para p = 0,8 y para p = 0,2.\n",
    "Para cada caso, realice 10000 simulaciones y calcule el promedio de los valores obtenidos. Comparar estos valores con el valor esperado de la distribución correspondiente. Si están alejados, revisar el código\n",
    "\"\"\"\n",
    "res_geom_0_8 = []\n",
    "res_obt_exito_0_8 = []\n",
    "res_geom_0_2 = []\n",
    "res_obt_exito_0_2 = []\n",
    "for _ in range(10000):\n",
    "    res_geom_0_8.append(geomentrica_mejorada(0.8))\n",
    "    res_obt_exito_0_8.append(obtener_exito(0.8))\n",
    "    res_geom_0_2.append(geomentrica_mejorada(0.2))\n",
    "    res_obt_exito_0_2.append(obtener_exito(0.2))\n",
    "    \n",
    "prom_geom_0_8 = np.mean(res_geom_0_8)\n",
    "prom_obt_exito_0_8 = np.mean(res_obt_exito_0_8)\n",
    "prom_geom_0_2 = np.mean(res_geom_0_2)\n",
    "prom_obt_exito_0_2 = np.mean(res_obt_exito_0_2)\n",
    "print(\"Promedio geométrica p=0.8:\", prom_geom_0_8)\n",
    "print(\"Promedio obtención de éxito p=0.8:\", prom_obt_exito_0_8)\n",
    "print(\"----------------------------------------------------------------------------------------\")\n",
    "print(\"Promedio geométrica p=0.2:\", prom_geom_0_2)\n",
    "print(\"Promedio obtención de éxito p=0.2:\", prom_obt_exito_0_2)\n"
   ]
  },
  {
   "cell_type": "markdown",
   "id": "d2428e4d",
   "metadata": {},
   "source": [
    "# Ejercicio 10"
   ]
  },
  {
   "cell_type": "markdown",
   "id": "48eb80b9",
   "metadata": {},
   "source": [
    "- a) Desarrolle un método para generar una variable aleatoria X cuya distribución de probabilidad está dada por:  \n",
    "$$ P(X = j) = \\left( \\frac{1}{2} \\right)^{j+1} + \\frac{\\left( \\frac{1}{2} \\right) 2^{j-1}}{3^j} $$  \n",
    "Para $j = 1,2,...$\n",
    "- b) Estime E(X) con 1000 repeticiones y compare con la esperanza exacta"
   ]
  },
  {
   "cell_type": "code",
   "execution_count": 379,
   "id": "6677cec7",
   "metadata": {},
   "outputs": [],
   "source": [
    "def funcion10(j):\n",
    "    return (1/2) ** (j+1) + ((1/2) * np.power(2.0,j-1)) / np.power(3.0,j)\n",
    "\n",
    "def ejercicio10():\n",
    "    u = random()\n",
    "    j = 1\n",
    "    F = funcion10(j)\n",
    "    while u >= F:\n",
    "        j += 1\n",
    "        F += funcion10(j)\n",
    "    return j"
   ]
  },
  {
   "cell_type": "code",
   "execution_count": 383,
   "id": "a6449c6d",
   "metadata": {},
   "outputs": [
    {
     "name": "stdout",
     "output_type": "stream",
     "text": [
      "Promedio o esperanza del ejercicio 10: 2.487\n",
      "Esperanza teorica del ejercicio 10: 2.4999999999999987\n"
     ]
    }
   ],
   "source": [
    "# b)\n",
    "res = []\n",
    "#sum_teorica = 0\n",
    "for j in range(1, 1001):\n",
    "    #sum_teorica += j * funcion10(j) da 2.4999999999999987\n",
    "    res.append(ejercicio10())\n",
    "prom = np.mean(res)\n",
    "\n",
    "print(\"Promedio o esperanza del ejercicio 10:\", prom)\n",
    "print(\"Esperanza teorica del ejercicio 10:\", 2.4999999999999987)"
   ]
  },
  {
   "cell_type": "markdown",
   "id": "de62bff5",
   "metadata": {},
   "source": [
    "## Ejercicio 12"
   ]
  },
  {
   "cell_type": "code",
   "execution_count": 386,
   "id": "2a79ef79",
   "metadata": {},
   "outputs": [
    {
     "name": "stdout",
     "output_type": "stream",
     "text": [
      "Promedio de la función que devuelve el mínimo de dos geometricas:\n",
      "4.152\n",
      "Promedio de la función que devuelve una geométrica con p=0.24:\n",
      "4.1391\n"
     ]
    }
   ],
   "source": [
    "def queDevuelve(p1, p2):\n",
    "    X = int(np.log(1-random()) / np.log(1-p1)) + 1\n",
    "    Y = int(np.log(1-random()) / np.log(1-p2)) + 1\n",
    "    return min(X, Y)\n",
    "\n",
    "def queDevuelve2(p):\n",
    "    return int(np.log(1-random()) / np.log(1-p)) + 1\n",
    "\n",
    "# Nos pide que p1=0.05 y p2=0.2, calculamos que la probabilidad de Z ~ geom(p) es 0.24\n",
    "\n",
    "res1 = []\n",
    "res2 = []\n",
    "for i in range(10000):\n",
    "    res1.append(queDevuelve(0.05, 0.2))\n",
    "    res2.append(queDevuelve2(0.24))\n",
    "prom1 = np.mean(res1)\n",
    "prom2 = np.mean(res2)\n",
    "\n",
    "print(\"Promedio de la función que devuelve el mínimo de dos geometricas:\")\n",
    "print(prom1)\n",
    "print(\"Promedio de la función que devuelve una geométrica con p=0.24:\")\n",
    "print(prom2)\n",
    "    "
   ]
  }
 ],
 "metadata": {
  "kernelspec": {
   "display_name": "Python 3",
   "language": "python",
   "name": "python3"
  },
  "language_info": {
   "codemirror_mode": {
    "name": "ipython",
    "version": 3
   },
   "file_extension": ".py",
   "mimetype": "text/x-python",
   "name": "python",
   "nbconvert_exporter": "python",
   "pygments_lexer": "ipython3",
   "version": "3.10.12"
  }
 },
 "nbformat": 4,
 "nbformat_minor": 5
}
