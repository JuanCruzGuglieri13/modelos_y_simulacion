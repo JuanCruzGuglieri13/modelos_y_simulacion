{
 "cells": [
  {
   "cell_type": "code",
   "execution_count": 1,
   "metadata": {},
   "outputs": [],
   "source": [
    "import numpy as np\n",
    "from random import random"
   ]
  },
  {
   "cell_type": "markdown",
   "metadata": {},
   "source": [
    "# Ejercicio 2"
   ]
  },
  {
   "cell_type": "code",
   "execution_count": 2,
   "metadata": {},
   "outputs": [
    {
     "name": "stdout",
     "output_type": "stream",
     "text": [
      "Probabilidad de ganar: 0.638\n"
     ]
    }
   ],
   "source": [
    "ganados = 0\n",
    "for i in range(10000):\n",
    "    U = random()\n",
    "    V = random()\n",
    "    if np.max([U, V]) > 0.6:\n",
    "        ganados += 1\n",
    "        \n",
    "print(\"Probabilidad de ganar:\", ganados / 10000)"
   ]
  },
  {
   "cell_type": "markdown",
   "metadata": {},
   "source": [
    "# Ejercicio 4"
   ]
  },
  {
   "cell_type": "code",
   "execution_count": 4,
   "metadata": {},
   "outputs": [
    {
     "name": "stdout",
     "output_type": "stream",
     "text": [
      "para 100 iteraciones, el valor esperado es 0.5963\n",
      "para 1000 iteraciones, el valor esperado es 0.6064\n",
      "para 10000 iteraciones, el valor esperado es 0.6017\n",
      "para 100000 iteraciones, el valor esperado es 0.6006\n",
      "para 1000000 iteraciones, el valor esperado es 0.6005\n"
     ]
    }
   ],
   "source": [
    "# inciso a\n",
    "\n",
    "def g1(u,v):\n",
    "    return 1 - np.exp(-(u+v))\n",
    "\n",
    "def monteCarlo1(g,n):\n",
    "    integral = 0\n",
    "    for _ in range(n):\n",
    "        u = random()\n",
    "        v = random()\n",
    "        integral += g(u,v)\n",
    "    return integral / n\n",
    "\n",
    "for n in [100, 1000, 10000, 100000, 1000000]:\n",
    "    print(f\"para {n} iteraciones, el valor esperado es {monteCarlo1(g1, n):.4f}\")"
   ]
  },
  {
   "cell_type": "code",
   "execution_count": 5,
   "metadata": {},
   "outputs": [
    {
     "name": "stdout",
     "output_type": "stream",
     "text": [
      "para 100 iteraciones, el valor esperado es 0.2694\n",
      "para 1000 iteraciones, el valor esperado es 0.2561\n",
      "para 10000 iteraciones, el valor esperado es 0.2522\n",
      "para 100000 iteraciones, el valor esperado es 0.2535\n",
      "para 1000000 iteraciones, el valor esperado es 0.2535\n"
     ]
    }
   ],
   "source": [
    "# inciso b\n",
    "\n",
    "def g2(u):\n",
    "    return (u**4) * (np.exp(-u**2))\n",
    "\n",
    "def monteCarlo2(g,n):\n",
    "    integral = 0\n",
    "    for _ in range(n):\n",
    "        u = random()\n",
    "        integral += g(1/(1-u))\n",
    "    return integral / n\n",
    "\n",
    "for n in [100, 1000, 10000, 100000, 1000000]:\n",
    "    print(f\"para {n} iteraciones, el valor esperado es {monteCarlo2(g2, n):.4f}\")"
   ]
  }
 ],
 "metadata": {
  "kernelspec": {
   "display_name": "Python 3",
   "language": "python",
   "name": "python3"
  },
  "language_info": {
   "codemirror_mode": {
    "name": "ipython",
    "version": 3
   },
   "file_extension": ".py",
   "mimetype": "text/x-python",
   "name": "python",
   "nbconvert_exporter": "python",
   "pygments_lexer": "ipython3",
   "version": "3.10.12"
  }
 },
 "nbformat": 4,
 "nbformat_minor": 2
}
