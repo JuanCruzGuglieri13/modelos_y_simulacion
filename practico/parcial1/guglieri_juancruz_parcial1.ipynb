{
 "cells": [
  {
   "cell_type": "markdown",
   "metadata": {},
   "source": [
    "# Resolución parcial 1 (Ejercicios 1 y 2)\n",
    "- Alumno: Juan Cruz Guglieri\n",
    "- DNI: 44329939"
   ]
  },
  {
   "cell_type": "code",
   "execution_count": 13,
   "metadata": {},
   "outputs": [],
   "source": [
    "import numpy as np\n",
    "from random import random"
   ]
  },
  {
   "cell_type": "markdown",
   "metadata": {},
   "source": [
    "## Ejercicio 1"
   ]
  },
  {
   "cell_type": "markdown",
   "metadata": {},
   "source": [
    "Estimar el valor de la integral con N simulaciones, para N = [1000, 10000, 100000]"
   ]
  },
  {
   "cell_type": "code",
   "execution_count": 14,
   "metadata": {},
   "outputs": [
    {
     "name": "stdout",
     "output_type": "stream",
     "text": [
      "montecarlo ejecutado 1000 veces: 14.142362\n",
      "montecarlo ejecutado 10000 veces: 14.453921\n",
      "montecarlo ejecutado 100000 veces: 14.349572\n"
     ]
    }
   ],
   "source": [
    "def g(u):\n",
    "    return np.sqrt(u + np.sqrt(u))\n",
    "\n",
    "def monte_carlo(N):\n",
    "    integral = 0\n",
    "    for _ in range(N):\n",
    "        u = random()\n",
    "        integral += g(6 * u + 1)\n",
    "    return (integral * 6) / N\n",
    "\n",
    "for N in [1000, 10000, 100000]:\n",
    "    print(f\"montecarlo ejecutado {N} veces: {monte_carlo(N):.6f}\")"
   ]
  },
  {
   "cell_type": "markdown",
   "metadata": {},
   "source": [
    "## Ejercicio 2"
   ]
  },
  {
   "cell_type": "markdown",
   "metadata": {},
   "source": [
    "El juego consiste en generan valores a partir de variables aleatorias independientes, distribuidas uniformemente en el intervalo (0,1)\n",
    "- Si la suma acumulada es mayor que 1, se considera acierto\n",
    "- Si no, se sigue generando hasta que se supere 1."
   ]
  },
  {
   "cell_type": "code",
   "execution_count": 15,
   "metadata": {},
   "outputs": [
    {
     "name": "stdout",
     "output_type": "stream",
     "text": [
      "Se necesitaron 5 lanzamientos para superar 1\n"
     ]
    }
   ],
   "source": [
    "def juego():\n",
    "    suma = 0\n",
    "    n_sumandos = 0\n",
    "    while suma <= 1:\n",
    "        suma += random()\n",
    "        n_sumandos += 1\n",
    "        \n",
    "    return n_sumandos \n",
    "\n",
    "# ejemplo de ejecutar el juego\n",
    "print(f\"Se necesitaron {juego()} lanzamientos para superar 1\")      "
   ]
  },
  {
   "cell_type": "markdown",
   "metadata": {},
   "source": [
    "-  Escribir e implementar un programa pares(N) para estimar p con N = 100, 1000 y 10000 simulaciones"
   ]
  },
  {
   "cell_type": "code",
   "execution_count": 16,
   "metadata": {},
   "outputs": [
    {
     "name": "stdout",
     "output_type": "stream",
     "text": [
      "N° de sim.: 100, p: 0.31\n",
      "N° de sim.: 1000, p: 0.363\n",
      "N° de sim.: 10000, p: 0.3733\n"
     ]
    }
   ],
   "source": [
    "def pares(N):\n",
    "    aciertos = 0\n",
    "    for _ in range(N):\n",
    "        if juego() % 2 == 1: # si el numero de lanzamientos es impar\n",
    "            aciertos += 1\n",
    "            \n",
    "    return aciertos / N\n",
    "\n",
    "for N in [100, 1000, 10000]:\n",
    "    print(f\"N° de sim.: {N}, p: {pares(N)}\")"
   ]
  }
 ],
 "metadata": {
  "kernelspec": {
   "display_name": "Python 3",
   "language": "python",
   "name": "python3"
  },
  "language_info": {
   "codemirror_mode": {
    "name": "ipython",
    "version": 3
   },
   "file_extension": ".py",
   "mimetype": "text/x-python",
   "name": "python",
   "nbconvert_exporter": "python",
   "pygments_lexer": "ipython3",
   "version": "3.10.12"
  }
 },
 "nbformat": 4,
 "nbformat_minor": 2
}
