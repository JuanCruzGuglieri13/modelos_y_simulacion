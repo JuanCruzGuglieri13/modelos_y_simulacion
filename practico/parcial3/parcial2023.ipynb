{
 "cells": [
  {
   "cell_type": "markdown",
   "id": "42e3f4ce",
   "metadata": {},
   "source": [
    "## Ejercicio 1"
   ]
  },
  {
   "cell_type": "code",
   "execution_count": 2,
   "id": "eec882ca",
   "metadata": {},
   "outputs": [],
   "source": [
    "from random import random\n",
    "import numpy as np \n",
    "from scipy import stats\n",
    "from scipy.stats import chi2, norm"
   ]
  },
  {
   "cell_type": "code",
   "execution_count": 3,
   "id": "bc90148f",
   "metadata": {},
   "outputs": [
    {
     "name": "stdout",
     "output_type": "stream",
     "text": [
      "15.964309985059911\n",
      "p_valor = 0.0429\n"
     ]
    }
   ],
   "source": [
    "frec_obs = [120, 114, 92, 85, 34, 33, 45, 11, 5]\n",
    "probs = [0.22, 0.2, 0.19, 0.12, 0.09, 0.08, 0.07, 0.02, 0.01]\n",
    "n = sum(frec_obs)\n",
    "\n",
    "frec_esp = []\n",
    "for p in probs:\n",
    "    frec_esp.append(n * p)\n",
    "\n",
    "T = 0\n",
    "for i in range(9):\n",
    "    t_i = (frec_obs[i] - frec_esp[i])**2 / frec_esp[i]\n",
    "    T += t_i\n",
    "\n",
    "print(T)\n",
    "df = len(probs) - 1\n",
    "p_valor = chi2.sf(T, df)\n",
    "\n",
    "print(f\"p_valor = {p_valor:.4f}\")"
   ]
  },
  {
   "cell_type": "code",
   "execution_count": 4,
   "id": "39b22eb1",
   "metadata": {},
   "outputs": [
    {
     "name": "stdout",
     "output_type": "stream",
     "text": [
      "p-valor simulado: 0.0483\n"
     ]
    }
   ],
   "source": [
    "def multinomial(n, p):\n",
    "    res = [0] * len(p)\n",
    "    for _ in range(n):\n",
    "        x = random()\n",
    "        i = 0\n",
    "        prob = p[i]\n",
    "        while x > prob:\n",
    "            i += 1\n",
    "            prob += p[i]\n",
    "        res[i] += 1\n",
    "        \n",
    "    return res\n",
    "\n",
    "\n",
    "Nsim = 10000\n",
    "p = 0\n",
    "\n",
    "# simulacion del p-valor\n",
    "for _ in range(Nsim):\n",
    "    obs = multinomial(n, probs)\n",
    "    t_sim = 0\n",
    "    for i in range(9):\n",
    "        t_sim += (obs[i] - frec_esp[i])**2 / frec_esp[i]\n",
    "        \n",
    "    if t_sim >= T:\n",
    "        p += 1\n",
    "        \n",
    "print(\"p-valor simulado:\", p / Nsim)"
   ]
  },
  {
   "cell_type": "markdown",
   "id": "93a06bac",
   "metadata": {},
   "source": [
    "## Ejercicio 4"
   ]
  },
  {
   "cell_type": "code",
   "execution_count": 5,
   "id": "fc1baa28",
   "metadata": {},
   "outputs": [
    {
     "name": "stdout",
     "output_type": "stream",
     "text": [
      "(1832, 0.7587336244541467)\n"
     ]
    }
   ],
   "source": [
    "# b)\n",
    "def punto_dentro_elipse():\n",
    "    x = np.random.uniform(-2, 2)\n",
    "    y = np.random.uniform(-1, 1) \n",
    "    if x**2 / 4 + y**2 <= 1:\n",
    "        return 1\n",
    "    else:\n",
    "        return 0\n",
    "    \n",
    "def estimador_p(d):\n",
    "    p = 0\n",
    "    n = 0\n",
    "    while n <= 100 or np.sqrt(p * (1 - p) / n) > d:\n",
    "        n += 1\n",
    "        X = punto_dentro_elipse()\n",
    "        p = p + (X - p) / n\n",
    "    return n, p\n",
    "\n",
    "print(estimador_p(0.01))"
   ]
  },
  {
   "cell_type": "code",
   "execution_count": 6,
   "id": "161c227d",
   "metadata": {},
   "outputs": [
    {
     "name": "stdout",
     "output_type": "stream",
     "text": [
      "16687\n",
      "6.267393779588917\n",
      "(6.217395808187293, 6.3173917509905415)\n"
     ]
    }
   ],
   "source": [
    "# b)\n",
    "def estimar_area_IC(z_alpha_2, L):\n",
    "    d = L / (2 * z_alpha_2) / 8\n",
    "    p = 0\n",
    "    n = 0\n",
    "    while n <= 100 or np.sqrt(p * (1 - p) / n) > d:\n",
    "        n += 1\n",
    "        X = punto_dentro_elipse()\n",
    "        p = p + (X - p) / n\n",
    "    area = 8 * p\n",
    "    S = np.sqrt(p * (1 - p) / n)\n",
    "    IC = (8 * (p - z_alpha_2 * S), 8 * (p + z_alpha_2 * S))\n",
    "    return n, area, IC\n",
    "\n",
    "alpha = 0.95\n",
    "z_alpha_2 = stats.norm.ppf(1 - (1 - alpha) / 2)\n",
    "L = 0.1\n",
    "n, I, IC = estimar_area_IC(z_alpha_2=z_alpha_2, L=L)\n",
    "\n",
    "print(n)\n",
    "print(I)\n",
    "print(IC)\n",
    "\n"
   ]
  }
 ],
 "metadata": {
  "kernelspec": {
   "display_name": "Python 3",
   "language": "python",
   "name": "python3"
  },
  "language_info": {
   "codemirror_mode": {
    "name": "ipython",
    "version": 3
   },
   "file_extension": ".py",
   "mimetype": "text/x-python",
   "name": "python",
   "nbconvert_exporter": "python",
   "pygments_lexer": "ipython3",
   "version": "3.10.12"
  }
 },
 "nbformat": 4,
 "nbformat_minor": 5
}
