{
 "cells": [
  {
   "cell_type": "markdown",
   "id": "9b43a381",
   "metadata": {},
   "source": [
    "# Parcial 2 \n",
    "- Alumno: Juan Cruz Guglieri\n",
    "- DNI: 44329939"
   ]
  },
  {
   "cell_type": "code",
   "execution_count": 85,
   "id": "14fdcd74",
   "metadata": {},
   "outputs": [],
   "source": [
    "from random import random, choice\n",
    "import numpy as np\n",
    "from scipy.stats import chi2, norm\n",
    "import math"
   ]
  },
  {
   "cell_type": "markdown",
   "id": "e32d3e3b",
   "metadata": {},
   "source": [
    "## Ejercicio 2"
   ]
  },
  {
   "cell_type": "code",
   "execution_count": 6,
   "id": "cae53f8a",
   "metadata": {},
   "outputs": [],
   "source": [
    "# Los datos del ejercicio:\n",
    "data = [15.22860536, 40.60145536, 33.67482894, 44.03841737, 15.69560109, 16.2321714, 25.02174735, 30.34655637, 3.3181228, 5.69447539, 10.1119561, 49.10266584, 3.6536329, 35.82047148, 3.37816632, 36.72299321, 50.67085322, 3.25476304, 20.12426236, 20.2668814, 17.49593589, 2.70768636, 14.77332745, 1.72267967, 23.34685662, 8.46376635, 9.18330789, 9.97428217, 2.33951729, 137.51657441, 9.79485269, 10.40308179, 1.57849658, 6.26959703, 4.74251574, 1.53479053, 34.74136011, 27.47600572, 9.1075566, 1.88056595, 27.59551348, 6.82283137, 12.45162807, 28.01983651, 0.36890593, 7.82520791, 3.17626161, 46.91791271, 38.08371186, 41.10961135]"
   ]
  },
  {
   "cell_type": "code",
   "execution_count": 11,
   "id": "65aa1004",
   "metadata": {},
   "outputs": [
    {
     "name": "stdout",
     "output_type": "stream",
     "text": [
      "Estadistico D: 0.0744289456538767\n"
     ]
    }
   ],
   "source": [
    "def F_exponencial(x, lambda_):\n",
    "    return 1 - np.exp(-x*lambda_)\n",
    "\n",
    "n = len(data)\n",
    "\n",
    "# Kolmogorov-Smirnov con exponenciales\n",
    "def K_S_exponencial(datos, lambda_):\n",
    "    datos.sort()\n",
    "    d = 0\n",
    "    for j in range(n):\n",
    "        x = datos[j]\n",
    "        F_x = F_exponencial(x, lambda_)\n",
    "        # D = max_{1<=j<=n} {j/n - F(X_j), F(X_j) - (j-1)/n}\n",
    "        d = max(d, (j+1)/n - F_x, F_x-j/n)\n",
    "    return d\n",
    "\n",
    "d = K_S_exponencial(data, 0.05)\n",
    "print(\"Estadistico D:\", d)"
   ]
  },
  {
   "cell_type": "markdown",
   "id": "828ba6ca",
   "metadata": {},
   "source": [
    "## c)  \n",
    "**Determine si la hipótesis nula es rechazada o no, con un nivel de rechazo del 4%. Para esto, utilizar simulaciones con variables uniformes.**"
   ]
  },
  {
   "cell_type": "code",
   "execution_count": 35,
   "id": "74d7eff1",
   "metadata": {},
   "outputs": [
    {
     "name": "stdout",
     "output_type": "stream",
     "text": [
      "p-valor simulado= 0.913\n",
      "Como 91.3% > 4%; Hipotesis nula no es rechazada\n"
     ]
    }
   ],
   "source": [
    "# Simulamos el p-valor usando variables uniformes\n",
    "def sim(Nsim=1000):\n",
    "    p_valor = 0\n",
    "    for _ in range(Nsim):\n",
    "        # Generamos n variables uniformes\n",
    "        uniformes = np.random.uniform(0, 1, n)\n",
    "        exp_sim = -np.log(1 - uniformes) / 0.05\n",
    "        d_j = K_S_exponencial(exp_sim.tolist(), 0.05)\n",
    "        if d_j >= d:\n",
    "            p_valor += 1\n",
    "    return p_valor / Nsim\n",
    "\n",
    "p_valor = sim()\n",
    "print(\"p-valor simulado=\", p_valor)\n",
    "\n",
    "if p_valor < 0.04:\n",
    "    print(f\"Como {p_valor*100}% < 4%; Hipotesis nula rechazada\")\n",
    "else:\n",
    "    print(f\"Como {p_valor*100}% > 4%; Hipotesis nula no es rechazada\")\n"
   ]
  },
  {
   "cell_type": "markdown",
   "id": "bcf437d9",
   "metadata": {},
   "source": [
    "## d)\n",
    "**Determine si la hipótesis nula es rechazada o no, con un nivel de rechazo del 4%, esta vez simulando variables que verifiquen la hipótesis nula.**"
   ]
  },
  {
   "cell_type": "code",
   "execution_count": 33,
   "id": "7c5413c0",
   "metadata": {},
   "outputs": [
    {
     "name": "stdout",
     "output_type": "stream",
     "text": [
      "p-valor simulado= 0.92\n",
      "Como 92.0% > 4%; Hipotesis nula no es rechazada\n"
     ]
    }
   ],
   "source": [
    "# Simulamos el p-valor usando variables exponenciales con lambda 0.05\n",
    "def sim(Nsim=1000):\n",
    "    p_valor = 0\n",
    "    for _ in range(Nsim):\n",
    "        # Generamos n variables exponenciales con lambda 0.05\n",
    "        exp_sim = np.random.exponential(scale=1/0.05, size=n)\n",
    "        d_j = K_S_exponencial(exp_sim.tolist(), 0.05)\n",
    "        if d_j >= d:\n",
    "            p_valor += 1\n",
    "    return p_valor / Nsim\n",
    "\n",
    "p_valor = sim()\n",
    "print(\"p-valor simulado=\", p_valor)\n",
    "\n",
    "if p_valor < 0.04:\n",
    "    print(f\"Como {p_valor*100}% < 4%; Hipotesis nula rechazada\")\n",
    "else:\n",
    "    print(f\"Como {p_valor*100}% > 4%; Hipotesis nula no es rechazada\")"
   ]
  },
  {
   "cell_type": "markdown",
   "id": "9d2bb1c4",
   "metadata": {},
   "source": [
    "## Ejercicio 3"
   ]
  },
  {
   "cell_type": "code",
   "execution_count": null,
   "id": "2ab5739a",
   "metadata": {},
   "outputs": [
    {
     "name": "stdout",
     "output_type": "stream",
     "text": [
      "Parametro p estimado: 0.494\n",
      "T de Pearson: 8.161627432060547\n",
      "p-valor: 0.08583\n"
     ]
    }
   ],
   "source": [
    "frec_obs = [38, 144, 342, 287, 164, 25]\n",
    "n = sum(frec_obs)\n",
    "k = len(frec_obs) # Cantidad de intervalos o número de agrupamiento de los valores \n",
    "\n",
    "# Calculo de p\n",
    "E_X_obs = sum(i * frec_obs[i] for i in range(6))\n",
    "p_est = (E_X_obs / 5)  / n  # Estimación de p para una Binomial(5, p)\n",
    "print(\"Parametro p estimado:\", p_est)\n",
    "\n",
    "# Probabilidades teoricas p_i\n",
    "probs = []\n",
    "for i in range(6):\n",
    "    comb = math.comb(5, i)\n",
    "    probs.append(comb * p_est**i * (1-p_est)**(5-i))\n",
    "\n",
    "\n",
    "# Estadístico de prueba\n",
    "T = 0\n",
    "for i in range(k):\n",
    "    frec_esp = n * probs[i]\n",
    "    T += (frec_obs[i] - frec_esp)**2 / frec_esp\n",
    "    \n",
    "print(\"T de Pearson:\", T)\n",
    "gl = k - 1 - 1 # Grados de libertad\n",
    "p_valor = chi2.sf(T, gl)\n",
    "print(f\"p-valor: {p_valor:.5f}\")"
   ]
  },
  {
   "cell_type": "markdown",
   "id": "efc1066a",
   "metadata": {},
   "source": [
    "## c)"
   ]
  },
  {
   "cell_type": "code",
   "execution_count": 82,
   "id": "9a9a1272",
   "metadata": {},
   "outputs": [
    {
     "name": "stdout",
     "output_type": "stream",
     "text": [
      "p-valor simulado: 0.088\n"
     ]
    }
   ],
   "source": [
    "def sim(Nsim=1000):\n",
    "    p_valor = 0\n",
    "    for _ in range(Nsim):\n",
    "        \n",
    "        # Genero la frecuencia muestral con una binomial, con n=5, y p=p_est=0.494\n",
    "        frec_muestral = [0] * 6\n",
    "        muestras = np.random.binomial(5, p_est, 1000)\n",
    "        for i in muestras:\n",
    "            frec_muestral[i] += 1 \n",
    "            \n",
    "        # Estimacion de p con los datos nuevos:\n",
    "        E_X_sim = sum(i * frec_muestral[i] for i in range(6))\n",
    "        p_est_sim = (E_X_sim / 5)  / n \n",
    "        \n",
    "        # Probabilidades teoricas p_i\n",
    "        probs_sim = []\n",
    "        for i in range(6):\n",
    "            comb = math.comb(5, i)\n",
    "            probs_sim.append(comb * p_est_sim**i * (1-p_est_sim)**(5-i))\n",
    "        \n",
    "        # Calculo de t_sim\n",
    "        t_sim = 0\n",
    "        for s in range(6):\n",
    "            frec_esp_sim = probs_sim[s] * n\n",
    "            t_sim += (frec_muestral[s] - frec_esp_sim)**2 / frec_esp_sim\n",
    "        \n",
    "        if t_sim >= T:\n",
    "            p_valor += 1\n",
    "            \n",
    "    return p_valor / Nsim\n",
    "            \n",
    "print(\"p-valor simulado:\", sim())"
   ]
  },
  {
   "cell_type": "markdown",
   "id": "37d1b4cc",
   "metadata": {},
   "source": [
    "## Ejercicio 4"
   ]
  },
  {
   "cell_type": "code",
   "execution_count": null,
   "id": "b4ab2f40",
   "metadata": {},
   "outputs": [
    {
     "name": "stdout",
     "output_type": "stream",
     "text": [
      "Media por montecarlo: -3.081026686859957\n",
      "\n",
      "Media por estimacion por intervalo:\n",
      "N° de sim: 1000\n",
      "I: -3.1045\n",
      "S: 0.5595\n",
      "IC: (-3.1391, -3.0698)\n",
      "\n",
      "N° de sim: 5000\n",
      "I: -3.0969\n",
      "S: 0.5675\n",
      "IC: (-3.1126, -3.0812)\n",
      "\n",
      "N° de sim: 7000\n",
      "I: -3.0962\n",
      "S: 0.5665\n",
      "IC: (-3.1094, -3.0829)\n",
      "\n",
      "N° de sim: 1251582\n",
      "I: -3.0849\n",
      "S: 0.5708\n",
      "IC: (-3.0859, -3.0839)\n"
     ]
    }
   ],
   "source": [
    "def monteCarlo_0_a_1(g, Nsim):\n",
    "    integral = 0\n",
    "    for _ in range(Nsim):\n",
    "        integral += g(random())\n",
    "    return integral / Nsim\n",
    "\n",
    "\n",
    "def g(u):\n",
    "    return np.exp(-(u+2)) * (1 - (u + 2)**4)\n",
    "\n",
    "print(\"Media por montecarlo:\", monteCarlo_0_a_1(g, 100000)) \n",
    "print()\n",
    "print(\"Media por estimacion por intervalo:\")\n",
    "\n",
    "\n",
    "def Media_Muestral_X(g, z_alpha_2, L):\n",
    "    d = L / (2 * z_alpha_2)\n",
    "    media = g(random())\n",
    "    Scuad = 0\n",
    "    n = 1\n",
    "    while n <= 100 or np.sqrt(Scuad / n) > d:\n",
    "        n += 1\n",
    "        X = g(random())\n",
    "        media_ant = media\n",
    "        media = media_ant + (X - media_ant) / n\n",
    "        Scuad = Scuad * (1 - 1 / (n - 1)) + n * (media - media_ant) ** 2\n",
    "        if n==1000 or n==5000 or n==7000:\n",
    "            S = np.sqrt(Scuad)\n",
    "            IC = (media - z_alpha_2 * S / np.sqrt(n), media + z_alpha_2 * S / np.sqrt(n))\n",
    "            print(f\"N° de sim: {n}\")\n",
    "            print(f\"I: {media:.4f}\")\n",
    "            print(f\"S: {S:.4f}\")\n",
    "            print(f\"IC: ({IC[0]:.4f}, {IC[1]:.4f})\\n\")\n",
    "            \n",
    "        \n",
    "    S = np.sqrt(Scuad)\n",
    "    IC = (media - z_alpha_2 * np.sqrt(Scuad) / np.sqrt(n), media + z_alpha_2 * np.sqrt(Scuad) / np.sqrt(n))\n",
    "    return n, media, S, IC\n",
    "\n",
    "alpha = 0.95\n",
    "z_alpha_2 = norm.ppf(1 - (1 - alpha) / 2) # = 1.96\n",
    "d = 0.001\n",
    "L = 2 * d # = 0.002 \n",
    "n, I, S, IC = Media_Muestral_X(g=g, z_alpha_2=z_alpha_2, L=L)\n",
    "print(f\"N° de sim: {n}\")\n",
    "print(f\"I: {I:.4f}\")\n",
    "print(f\"S: {S:.4f}\")\n",
    "print(f\"IC: ({IC[0]:.4f}, {IC[1]:.4f})\")"
   ]
  }
 ],
 "metadata": {
  "kernelspec": {
   "display_name": "Python 3",
   "language": "python",
   "name": "python3"
  },
  "language_info": {
   "codemirror_mode": {
    "name": "ipython",
    "version": 3
   },
   "file_extension": ".py",
   "mimetype": "text/x-python",
   "name": "python",
   "nbconvert_exporter": "python",
   "pygments_lexer": "ipython3",
   "version": "3.10.12"
  }
 },
 "nbformat": 4,
 "nbformat_minor": 5
}
