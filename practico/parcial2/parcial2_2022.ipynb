{
 "cells": [
  {
   "cell_type": "markdown",
   "id": "b4067274",
   "metadata": {},
   "source": [
    "# Parcial 2 - 2022 "
   ]
  },
  {
   "cell_type": "code",
   "execution_count": 1,
   "id": "74a0ec63",
   "metadata": {},
   "outputs": [],
   "source": [
    "from random import random\n",
    "import numpy as np \n",
    "import time\n",
    "import matplotlib.pyplot as plt\n",
    "from scipy.stats import norm"
   ]
  },
  {
   "cell_type": "markdown",
   "id": "4074214b",
   "metadata": {},
   "source": [
    "## Ejercicio 1"
   ]
  },
  {
   "cell_type": "code",
   "execution_count": 12,
   "id": "36af6101",
   "metadata": {},
   "outputs": [
    {
     "data": {
      "image/png": "[encoded data removed]",
      "text/plain": [
       "<Figure size 1000x600 with 1 Axes>"
      ]
     },
     "metadata": {},
     "output_type": "display_data"
    }
   ],
   "source": [
    "#c)\n",
    "\n",
    "def generar_urna():\n",
    "    a = []\n",
    "    for i in range(100):\n",
    "        if i < 32:\n",
    "            a.append(0)\n",
    "        elif i < 53:\n",
    "            a.append(1)\n",
    "        elif i < 86:\n",
    "            a.append(2)\n",
    "        else:\n",
    "            a.append(3)\n",
    "            \n",
    "    return a\n",
    "\n",
    "a = generar_urna()\n",
    "\n",
    "def metodo_urna(a):\n",
    "    I = int(random() * 100)\n",
    "    return a[I]\n",
    "\n",
    "import matplotlib.pyplot as plt\n",
    "from collections import Counter\n",
    "\n",
    "def plot_frecuencias(muestras, label):\n",
    "    conteos = Counter(muestras)\n",
    "    xs = sorted(conteos.keys())\n",
    "    ys = [conteos[x] / len(muestras) for x in xs]\n",
    "    plt.bar(xs, ys, alpha=0.6, label=label)\n",
    "\n",
    "# Parámetro de simulación\n",
    "n_sim = 10000\n",
    "\n",
    "# Simulación con cada método\n",
    "muestras = [metodo_urna(a) for _ in range(n_sim)]\n",
    "\n",
    "# Plot\n",
    "plt.figure(figsize=(10, 6))\n",
    "plot_frecuencias(muestras, \"urna\")\n",
    "\n",
    "plt.xticks(range(5))\n",
    "plt.xlabel(\"Valor simulado de X\")\n",
    "plt.ylabel(\"Frecuencia relativa\")\n",
    "plt.title(\"Comparación de distribuciones simuladas\")\n",
    "plt.legend()\n",
    "plt.grid(True)\n",
    "plt.tight_layout()\n",
    "plt.show()"
   ]
  },
  {
   "cell_type": "markdown",
   "id": "3d96a72c",
   "metadata": {},
   "source": [
    "## Ejercicio 2"
   ]
  },
  {
   "cell_type": "code",
   "execution_count": 13,
   "id": "1391dfeb",
   "metadata": {},
   "outputs": [],
   "source": [
    "# b)\n",
    "\n",
    "def TIX():\n",
    "    u = random()\n",
    "    if u < 1/3:\n",
    "        return np.log(3 * u)\n",
    "    else:\n",
    "        return -(np.log(3/2 * (1 - u)) / 2)"
   ]
  },
  {
   "cell_type": "code",
   "execution_count": 21,
   "id": "a4ccac00",
   "metadata": {},
   "outputs": [
    {
     "name": "stdout",
     "output_type": "stream",
     "text": [
      "La probabilidad de que TIX sea menor o igual a 1 es: 0.9075\n"
     ]
    }
   ],
   "source": [
    "Nsim = 10000\n",
    "total = 0\n",
    "for _ in range(Nsim):\n",
    "    if TIX() <= 1:\n",
    "        total += 1\n",
    "\n",
    "print(\"La probabilidad de que TIX sea menor o igual a 1 es:\", total / Nsim)"
   ]
  },
  {
   "cell_type": "markdown",
   "id": "483569e6",
   "metadata": {},
   "source": [
    "## Ejercicio 3"
   ]
  },
  {
   "cell_type": "code",
   "execution_count": 86,
   "id": "578ce33b",
   "metadata": {},
   "outputs": [],
   "source": [
    "def AyR():\n",
    "    while True:\n",
    "        y = np.random.uniform(-1, 1)\n",
    "        u = random()\n",
    "        if u < 1 - y ** 2:\n",
    "            return y"
   ]
  },
  {
   "cell_type": "code",
   "execution_count": 87,
   "id": "cee272c1",
   "metadata": {},
   "outputs": [
    {
     "name": "stdout",
     "output_type": "stream",
     "text": [
      "La probabilidad de que AyR sea menor o igual a 1 es: 0.4996\n"
     ]
    }
   ],
   "source": [
    "Nsim = 10000\n",
    "total = 0\n",
    "for _ in range(Nsim):\n",
    "    if AyR() > 0:\n",
    "        total += 1\n",
    "\n",
    "print(f\"La probabilidad de que AyR sea menor o igual a 1 es: {total / Nsim}\")"
   ]
  },
  {
   "cell_type": "markdown",
   "id": "9af5dbe0",
   "metadata": {},
   "source": [
    "## Ejercicio 4"
   ]
  },
  {
   "cell_type": "code",
   "execution_count": 39,
   "id": "687ff83f",
   "metadata": {},
   "outputs": [
    {
     "name": "stdout",
     "output_type": "stream",
     "text": [
      "Estimación de P(X = 4): 0.1234\n"
     ]
    }
   ],
   "source": [
    "# a)\n",
    "\n",
    "CARA = 0\n",
    "CRUZ = 1\n",
    "\n",
    "def dos_distintos(p=1/3):\n",
    "    anterior = None\n",
    "    if random() < p:\n",
    "        anterior = CARA\n",
    "    else:\n",
    "        anterior = CRUZ\n",
    "    tiradas = 1\n",
    "    while True:\n",
    "        tiradas += 1\n",
    "        if random() < p:\n",
    "            actual = CARA\n",
    "        else:\n",
    "            actual = CRUZ\n",
    "        if anterior != actual:\n",
    "            return tiradas\n",
    "        anterior = actual\n",
    "        \n",
    "\n",
    "# Estimar P(X = 4)\n",
    "Nsim = 10000000\n",
    "conteo = sum(1 for _ in range(Nsim) if dos_distintos() == 4)\n",
    "\n",
    "print(f\"Estimación de P(X = 4): {conteo / Nsim:.4f}\")"
   ]
  },
  {
   "cell_type": "code",
   "execution_count": null,
   "id": "14a9385a",
   "metadata": {},
   "outputs": [
    {
     "name": "stdout",
     "output_type": "stream",
     "text": [
      "Estimación de P(X = 4): 0.1262\n"
     ]
    }
   ],
   "source": [
    "#b)\n",
    "\n",
    "def geom(p):\n",
    "    u = random()\n",
    "    return int(np.log(1 - u) / np.log(1 - p)) + 1\n",
    "\n",
    "def AyR():\n",
    "    while True:\n",
    "        y = geom(1/3)\n",
    "        if y < 2:\n",
    "            continue # ignorar valores invalidos\n",
    "        u = random()\n",
    "        if u < 0.5 * (1 + 2**(2-y)):\n",
    "            return y\n",
    "        \n",
    "# Estimar P(X = 4)\n",
    "Nsim = 10000\n",
    "conteo = sum(1 for _ in range(Nsim) if AyR() == 4)\n",
    "\n",
    "print(f\"Estimación de P(X = 4): {conteo / Nsim:.4f}\")"
   ]
  }
 ],
 "metadata": {
  "kernelspec": {
   "display_name": "Python 3",
   "language": "python",
   "name": "python3"
  },
  "language_info": {
   "codemirror_mode": {
    "name": "ipython",
    "version": 3
   },
   "file_extension": ".py",
   "mimetype": "text/x-python",
   "name": "python",
   "nbconvert_exporter": "python",
   "pygments_lexer": "ipython3",
   "version": "3.10.12"
  }
 },
 "nbformat": 4,
 "nbformat_minor": 5
}
