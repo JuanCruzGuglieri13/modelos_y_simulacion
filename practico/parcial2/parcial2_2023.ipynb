{
 "cells": [
  {
   "cell_type": "markdown",
   "id": "250b9b60",
   "metadata": {},
   "source": [
    "# PArcial 2 - 2023"
   ]
  },
  {
   "cell_type": "code",
   "execution_count": 3,
   "id": "484300c5",
   "metadata": {},
   "outputs": [],
   "source": [
    "from random import random\n",
    "import numpy as np \n",
    "import time\n",
    "import matplotlib.pyplot as plt\n",
    "from scipy.stats import norm"
   ]
  },
  {
   "cell_type": "markdown",
   "id": "72cba9ba",
   "metadata": {},
   "source": [
    "## Ejercicio 2"
   ]
  },
  {
   "cell_type": "code",
   "execution_count": 4,
   "id": "1da0215f",
   "metadata": {},
   "outputs": [],
   "source": [
    "def TIX():\n",
    "    u = random()\n",
    "    if u < 1/2:\n",
    "        return 4 * u\n",
    "    else: \n",
    "        return 1 / (1 - u)"
   ]
  },
  {
   "cell_type": "code",
   "execution_count": 19,
   "id": "12b31039",
   "metadata": {},
   "outputs": [
    {
     "name": "stdout",
     "output_type": "stream",
     "text": [
      "0.6688\n"
     ]
    }
   ],
   "source": [
    "Nsim = 10000\n",
    "\n",
    "muestras = [TIX() for _ in range(Nsim)]\n",
    "\n",
    "count = sum(x <= 3 for x in muestras)\n",
    "est_prob = count / Nsim\n",
    "\n",
    "print(est_prob)"
   ]
  },
  {
   "cell_type": "markdown",
   "id": "6a8709cd",
   "metadata": {},
   "source": [
    "## Ejercicio 4"
   ]
  },
  {
   "cell_type": "code",
   "execution_count": 48,
   "id": "6f60256d",
   "metadata": {},
   "outputs": [
    {
     "name": "stdout",
     "output_type": "stream",
     "text": [
      "0.1121\n"
     ]
    }
   ],
   "source": [
    "def exponencial(lamb):\n",
    "    u = 1 - random()\n",
    "    return -np.log(u) / lamb\n",
    "\n",
    "def compañia():\n",
    "    reclamos = 0\n",
    "    for _ in range(1000):\n",
    "        u = random()\n",
    "        if u < 0.05:\n",
    "            reclamos += 1\n",
    "    total = 0\n",
    "    for _ in range(reclamos):\n",
    "        total += exponencial(1/800)\n",
    "        \n",
    "    return total\n",
    "    \n",
    "Nsim = 10000\n",
    "contador = 0\n",
    "for _ in range(Nsim):\n",
    "    x = compañia()\n",
    "    if x > 50000:\n",
    "        contador += 1\n",
    "        \n",
    "print(contador/Nsim)\n"
   ]
  }
 ],
 "metadata": {
  "kernelspec": {
   "display_name": "Python 3",
   "language": "python",
   "name": "python3"
  },
  "language_info": {
   "codemirror_mode": {
    "name": "ipython",
    "version": 3
   },
   "file_extension": ".py",
   "mimetype": "text/x-python",
   "name": "python",
   "nbconvert_exporter": "python",
   "pygments_lexer": "ipython3",
   "version": "3.10.12"
  }
 },
 "nbformat": 4,
 "nbformat_minor": 5
}
