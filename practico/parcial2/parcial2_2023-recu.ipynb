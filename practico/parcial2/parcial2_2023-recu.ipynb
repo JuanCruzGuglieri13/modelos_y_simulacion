{
 "cells": [
  {
   "cell_type": "markdown",
   "id": "63894c77",
   "metadata": {},
   "source": [
    "# Parcial recuperatorio 2023"
   ]
  },
  {
   "cell_type": "code",
   "execution_count": 1,
   "id": "a27ed41c",
   "metadata": {},
   "outputs": [],
   "source": [
    "from random import random\n",
    "import numpy as np \n",
    "import time\n",
    "import matplotlib.pyplot as plt\n",
    "from scipy.stats import norm"
   ]
  },
  {
   "cell_type": "markdown",
   "id": "aa946b39",
   "metadata": {},
   "source": [
    "# Ejercicio 1"
   ]
  },
  {
   "cell_type": "code",
   "execution_count": 26,
   "id": "2a3ee76f",
   "metadata": {},
   "outputs": [
    {
     "name": "stdout",
     "output_type": "stream",
     "text": [
      "Intentos promedio:  5.5464\n"
     ]
    }
   ],
   "source": [
    "def acertar_carta():\n",
    "    cartas = [1, 2, 3, 4, 5, 6, 7, 8, 9, 10]\n",
    "    tope = cartas[int(random()*len(cartas))]\n",
    "    acierto = cartas[int(random()*len(cartas))]\n",
    "    intentos = 1\n",
    "    while tope != acierto:\n",
    "        intentos += 1\n",
    "        cartas.remove(tope)\n",
    "        tope = cartas[int(random()*len(cartas))]\n",
    "        acierto = cartas[int(random()*len(cartas))]\n",
    "    return intentos\n",
    "\n",
    "nSim = 10000\n",
    "contador = 0\n",
    "for _ in range(nSim):\n",
    "    contador += acertar_carta()\n",
    "print(\"Intentos promedio: \", contador/nSim)"
   ]
  }
 ],
 "metadata": {
  "kernelspec": {
   "display_name": "Python 3",
   "language": "python",
   "name": "python3"
  },
  "language_info": {
   "codemirror_mode": {
    "name": "ipython",
    "version": 3
   },
   "file_extension": ".py",
   "mimetype": "text/x-python",
   "name": "python",
   "nbconvert_exporter": "python",
   "pygments_lexer": "ipython3",
   "version": "3.10.12"
  }
 },
 "nbformat": 4,
 "nbformat_minor": 5
}
