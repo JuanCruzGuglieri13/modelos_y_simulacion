{
 "cells": [
  {
   "cell_type": "markdown",
   "id": "549549b4",
   "metadata": {},
   "source": [
    "# Parcial 2 \n",
    "- Alumno: Juan Cruz Guglieri\n",
    "- DNI: 44329939"
   ]
  },
  {
   "cell_type": "code",
   "execution_count": 22,
   "id": "92c7fc20",
   "metadata": {},
   "outputs": [],
   "source": [
    "from random import random\n",
    "import numpy as np"
   ]
  },
  {
   "cell_type": "markdown",
   "id": "2cb3bf9e",
   "metadata": {},
   "source": [
    "## Ejercicio 1\n",
    "- Inciso c)"
   ]
  },
  {
   "cell_type": "code",
   "execution_count": 23,
   "id": "32c543cb",
   "metadata": {},
   "outputs": [
    {
     "name": "stdout",
     "output_type": "stream",
     "text": [
      "Valor esperado de X con 10000 simulaciones: 0.5005\n"
     ]
    }
   ],
   "source": [
    "def f(x):\n",
    "    if 0 <= x <= 1:\n",
    "        return 30 * (x**2 - 2 * x**3 + x**4)\n",
    "    else: \n",
    "        return 0\n",
    "\n",
    "def ejercicio1():\n",
    "    while True:\n",
    "        y = random() # generamos y~U(0,1)\n",
    "        u = random()\n",
    "        if u < f(y) / 1.875:\n",
    "            return y\n",
    "        \n",
    "# Valor esperado de X con 10000 simulaciones\n",
    "Nsim = 10000\n",
    "X = np.zeros(Nsim)\n",
    "for i in range(Nsim):\n",
    "    X[i] = ejercicio1()\n",
    "\n",
    "E_X = np.mean(X)\n",
    "\n",
    "print(f\"Valor esperado de X con 10000 simulaciones: {E_X:.4f}\")\n",
    "        "
   ]
  },
  {
   "cell_type": "markdown",
   "id": "8c0d0987",
   "metadata": {},
   "source": [
    "## Ejercicio 2\n",
    "- Inciso c)"
   ]
  },
  {
   "cell_type": "code",
   "execution_count": 24,
   "id": "c30b4b38",
   "metadata": {},
   "outputs": [],
   "source": [
    "def codigoX(p):\n",
    "    prob = p  # Caso base\n",
    "    F = prob  \n",
    "    x = 10\n",
    "    u = random()\n",
    "    while u > F:\n",
    "        x += 1\n",
    "        prob *= (1 - p)  # caso recursivo\n",
    "        F += prob\n",
    "    return x\n",
    "        "
   ]
  },
  {
   "cell_type": "markdown",
   "id": "98511113",
   "metadata": {},
   "source": [
    "- Inciso d)"
   ]
  },
  {
   "cell_type": "code",
   "execution_count": 27,
   "id": "a0de311d",
   "metadata": {},
   "outputs": [
    {
     "name": "stdout",
     "output_type": "stream",
     "text": [
      "Valor esperado de X con p = 0.5 en 10000 simulaciones: 10.9975\n"
     ]
    }
   ],
   "source": [
    "# Calculemos E[X] con 10000 simulaciones para p=0.5\n",
    "\n",
    "Nsim = 10000\n",
    "simulaciones = [codigoX(0.5) for _ in range(Nsim)]\n",
    "esperado = np.mean(simulaciones)\n",
    "print(f\"Valor esperado de X con p = 0.5 en 10000 simulaciones: {esperado:.4f}\")"
   ]
  }
 ],
 "metadata": {
  "kernelspec": {
   "display_name": "Python 3",
   "language": "python",
   "name": "python3"
  },
  "language_info": {
   "codemirror_mode": {
    "name": "ipython",
    "version": 3
   },
   "file_extension": ".py",
   "mimetype": "text/x-python",
   "name": "python",
   "nbconvert_exporter": "python",
   "pygments_lexer": "ipython3",
   "version": "3.10.12"
  }
 },
 "nbformat": 4,
 "nbformat_minor": 5
}
