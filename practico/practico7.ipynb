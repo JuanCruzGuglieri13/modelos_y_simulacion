{
 "cells": [
  {
   "cell_type": "markdown",
   "id": "7da19ee3",
   "metadata": {},
   "source": [
    "# Práctico 7"
   ]
  },
  {
   "cell_type": "code",
   "execution_count": 181,
   "id": "2b72b6ac",
   "metadata": {},
   "outputs": [],
   "source": [
    "import numpy as np\n",
    "from scipy.stats import chi2, norm\n",
    "from random import random\n",
    "import math"
   ]
  },
  {
   "cell_type": "markdown",
   "id": "66cb5001",
   "metadata": {},
   "source": [
    "## Ejercicio 1"
   ]
  },
  {
   "cell_type": "markdown",
   "id": "4a893554",
   "metadata": {},
   "source": [
    "- a)"
   ]
  },
  {
   "cell_type": "code",
   "execution_count": 152,
   "id": "f992f7b7",
   "metadata": {},
   "outputs": [
    {
     "name": "stdout",
     "output_type": "stream",
     "text": [
      "p_valor = 0.6500\n"
     ]
    }
   ],
   "source": [
    "probs = np.array([0.25, 0.5, 0.25])\n",
    "frec_obs = np.array([141, 291, 132])\n",
    "n = sum(frec_obs)\n",
    "frec_esp = [p_i * n for p_i in probs]\n",
    "\n",
    "# Estadistico T\n",
    "T = 0\n",
    "for i in range(3):\n",
    "    T += (frec_obs[i] - frec_esp[i])**2 / frec_esp[i]\n",
    "    \n",
    "\n",
    "df = len(probs) - 1\n",
    "p_valor = chi2.sf(T, df)\n",
    "\n",
    "print(f\"p_valor = {p_valor:.4f}\")"
   ]
  },
  {
   "cell_type": "markdown",
   "id": "432b2ce2",
   "metadata": {},
   "source": [
    "- b)"
   ]
  },
  {
   "cell_type": "code",
   "execution_count": 153,
   "id": "d2a8fd83",
   "metadata": {},
   "outputs": [
    {
     "name": "stdout",
     "output_type": "stream",
     "text": [
      "p-valor simulado: 0.654\n"
     ]
    }
   ],
   "source": [
    "def multinomial(n, p):\n",
    "    res = [0] * len(p)\n",
    "    for _ in range(n):\n",
    "        x = random()\n",
    "        if x < p[0]:\n",
    "            res[0] += 1\n",
    "        elif x < p[0] + p[1]:\n",
    "            res[1] += 1\n",
    "        else:\n",
    "            res[2] += 1\n",
    "    return res\n",
    "\n",
    "Nsim = 1000\n",
    "p = 0\n",
    "\n",
    "# simulacion del p-valor\n",
    "for _ in range(Nsim):\n",
    "    obs = multinomial(n, probs)\n",
    "    t_sim = 0\n",
    "    for i in range(3):\n",
    "        t_sim += (obs[i] - frec_esp[i])**2 / frec_esp[i]\n",
    "        \n",
    "    if t_sim >= T:\n",
    "        p += 1\n",
    "\n",
    "print(\"p-valor simulado:\", p / Nsim)"
   ]
  },
  {
   "cell_type": "markdown",
   "id": "9719e4ae",
   "metadata": {},
   "source": [
    "## Ejercicio 2"
   ]
  },
  {
   "cell_type": "code",
   "execution_count": 154,
   "id": "4b184be1",
   "metadata": {},
   "outputs": [
    {
     "name": "stdout",
     "output_type": "stream",
     "text": [
      "2.18\n",
      "p_valor = 0.8237\n"
     ]
    }
   ],
   "source": [
    "# a)\n",
    "\n",
    "probs = 1/6\n",
    "frec_obs = [158, 172, 164, 181, 160, 165]\n",
    "n = 1000\n",
    "frec_esp = 1/6 * n\n",
    "\n",
    "T = 0\n",
    "for i in range(6):\n",
    "    T += (frec_obs[i] - frec_esp) ** 2 / frec_esp\n",
    "    \n",
    "print(T)\n",
    "gl = 6 - 1 # Grados de libertad\n",
    "p_valor = chi2.sf(T, gl)\n",
    "\n",
    "print(f\"p_valor = {p_valor:.4f}\")"
   ]
  },
  {
   "cell_type": "code",
   "execution_count": 155,
   "id": "c452579c",
   "metadata": {},
   "outputs": [
    {
     "name": "stdout",
     "output_type": "stream",
     "text": [
      "p-valor simulado: 0.831\n"
     ]
    }
   ],
   "source": [
    "# b)\n",
    "\n",
    "def binomial(n, p):\n",
    "    i = 0\n",
    "    for _ in range(n):\n",
    "        if random() < p:\n",
    "            i += 1\n",
    "    return i\n",
    "\n",
    "\"\"\"\n",
    "x_1 = binomial(1000, 1/6)\n",
    "x_2 = binomial(1000 - x_1, 1/5)\n",
    "x_3 = binomial(1000 - (x_1 + x_2), 1/4)\n",
    "x_4 = binomial(1000 - (x_1 + x_2 + x_3), 1/3)\n",
    "x_5 = binomial(1000 - (x_1 + x_2 + x_3 + x_4), 1/2)\n",
    "x_6 = 1000 - (x_1 + x_2 + x_3 + x_4 + x_5)\n",
    "\n",
    "print(\"1:\", x_1)\n",
    "print(\"2:\", x_2)\n",
    "print(\"3:\", x_3)\n",
    "print(\"4:\", x_4)\n",
    "print(\"5:\", x_5)\n",
    "print(\"6:\", x_6)\n",
    "print(x_1 + x_2 + x_3 + x_4 + x_5 + x_6)\"\"\"\n",
    "\n",
    "def sim(Nsim=1000):\n",
    "    p_valor = 0\n",
    "    for _ in range(Nsim):\n",
    "        \n",
    "        # Genero la frecuencia observada de la tirada de dados\n",
    "        frec_muestral = []\n",
    "        tasas_riesgo = [1/6, 1/5, 1/4, 1/3, 1/2]\n",
    "        total_tiradas = 0\n",
    "        for k in range(6-1):\n",
    "            x_k = binomial(n - total_tiradas, tasas_riesgo[k])\n",
    "            total_tiradas += x_k\n",
    "            frec_muestral.append(x_k)\n",
    "        frec_muestral.append(n - total_tiradas)\n",
    "        \n",
    "        t_sim = 0\n",
    "        for s in range(6):\n",
    "            t_sim += (frec_muestral[s] - frec_esp)**2 / frec_esp\n",
    "        \n",
    "        if t_sim >= T:\n",
    "            p_valor += 1\n",
    "            \n",
    "    return p_valor / Nsim\n",
    "            \n",
    "print(\"p-valor simulado:\", sim())\n"
   ]
  },
  {
   "cell_type": "markdown",
   "id": "a0e0b4c8",
   "metadata": {},
   "source": [
    "## Ejercicio 3"
   ]
  },
  {
   "cell_type": "code",
   "execution_count": 156,
   "id": "4d64a15a",
   "metadata": {},
   "outputs": [],
   "source": [
    "# Kolmogorov-Smirnov con Uniformes\n",
    "def K_S_unif(datos):\n",
    "    n = len(datos)\n",
    "    datos.sort()\n",
    "    d = 0\n",
    "    for j in range(n):\n",
    "        x = datos[j]\n",
    "        # D = max_{1<=j<=n} {j/n - F(X_j), F(X_j) - (j-1)/n}\n",
    "        d = max(d, (j+1)/n - x, x-j/n)\n",
    "    return d"
   ]
  },
  {
   "cell_type": "code",
   "execution_count": 157,
   "id": "e3698828",
   "metadata": {},
   "outputs": [
    {
     "name": "stdout",
     "output_type": "stream",
     "text": [
      "Estimador de Kolmogorv-Smirnov D = 0.24\n"
     ]
    },
    {
     "name": "stdout",
     "output_type": "stream",
     "text": [
      "p-valor simulado= 0.5323\n"
     ]
    }
   ],
   "source": [
    "datos_ej3 = [0.12, 0.18, 0.06, 0.33, 0.72, 0.83, 0.36, 0.27, 0.77, 0.74]\n",
    "#datos_ej3_a = [0.12, 0.98] * 5\n",
    "#print(datos_ej3_a)\n",
    "n = len(datos_ej3)\n",
    "d = K_S_unif(datos_ej3)\n",
    "\n",
    "def sim(Nsim=10000):\n",
    "    p_valor = 0\n",
    "    for _ in range(Nsim):\n",
    "        uniformes = np.random.uniform(0, 1, n)\n",
    "        d_j = K_S_unif(uniformes)\n",
    "        if d_j >= d:\n",
    "            p_valor += 1\n",
    "    return p_valor / Nsim\n",
    "\n",
    "print(\"Estimador de Kolmogorv-Smirnov D =\", d)\n",
    "print(\"p-valor simulado=\", sim())"
   ]
  },
  {
   "cell_type": "markdown",
   "id": "9e93a1a2",
   "metadata": {},
   "source": [
    "## Ejercicio 4\n"
   ]
  },
  {
   "cell_type": "code",
   "execution_count": 158,
   "id": "1e808c3d",
   "metadata": {},
   "outputs": [],
   "source": [
    "def F_exponencial(x, lambda_):\n",
    "    return 1 - np.exp(-x*lambda_)\n",
    "\n",
    "# Kolmogorov-Smirnov con exponenciales\n",
    "def K_S_exponencial(datos, lambda_):\n",
    "    n = len(datos)\n",
    "    datos.sort()\n",
    "    d = 0\n",
    "    for j in range(n):\n",
    "        x = datos[j]\n",
    "        F_x = F_exponencial(x, lambda_)\n",
    "        # D = max_{1<=j<=n} {j/n - F(X_j), F(X_j) - (j-1)/n}\n",
    "        d = max(d, (j+1)/n - F_x, F_x-j/n)\n",
    "    return d"
   ]
  },
  {
   "cell_type": "code",
   "execution_count": 159,
   "id": "0235a809",
   "metadata": {},
   "outputs": [
    {
     "name": "stdout",
     "output_type": "stream",
     "text": [
      "Estimador de Kolmogorv-Smirnov D = 0.3922544552361856\n"
     ]
    },
    {
     "name": "stdout",
     "output_type": "stream",
     "text": [
      "p-valor simulado= 0.0252\n",
      "si el nivel de rechazo es de 5%;\n",
      "Hipotesis nula rechazada\n"
     ]
    }
   ],
   "source": [
    "datos_ej4 = [86, 133, 75, 22, 11, 144, 78, 122, 8, 146, 33, 41, 99]\n",
    "n = len(datos_ej4)\n",
    "l = 1/50\n",
    "d = K_S_exponencial(datos_ej4, l)\n",
    "\n",
    "def sim(Nsim=10000):\n",
    "    p_valor = 0\n",
    "    for _ in range(Nsim):\n",
    "        # Como no estimamos parametros usamos uniformes\n",
    "        uniformes = np.random.uniform(0, 1, n)\n",
    "        d_j = K_S_unif(uniformes)\n",
    "        if d_j >= d:\n",
    "            p_valor += 1\n",
    "    return p_valor / Nsim\n",
    "\n",
    "print(\"Estimador de Kolmogorv-Smirnov D =\", d)\n",
    "p_valor = sim()\n",
    "print(\"p-valor simulado=\", p_valor)\n",
    "\n",
    "\n",
    "print(\"si el nivel de rechazo es de 5%;\")\n",
    "if p_valor < 0.05:\n",
    "    print(\"Hipotesis nula rechazada\")\n",
    "else:\n",
    "    print(\"Hipotesis nula no rechazada\")"
   ]
  },
  {
   "cell_type": "markdown",
   "id": "22655aff",
   "metadata": {},
   "source": [
    "## Ejercicio 5"
   ]
  },
  {
   "cell_type": "code",
   "execution_count": 160,
   "id": "b64ac5c7",
   "metadata": {},
   "outputs": [
    {
     "name": "stdout",
     "output_type": "stream",
     "text": [
      "Parametro p estimado: 0.6180555555555556\n",
      "T de Pearson: 31.499330934155324\n",
      "p-valor: 0.00005\n"
     ]
    }
   ],
   "source": [
    "datos = [6, 7, 3, 4, 7, 3, 7, 2, 6, 3, 7, 8, 2, 1, 3, 5, 8, 7]\n",
    "n = len(datos)\n",
    "k = 9 # Cantidad de intervalos o número de agrupamiento de los valores \n",
    "\n",
    "p = (sum(datos)/n) / 8 # Estimación de p para una Binomial(8, p)\n",
    "print(\"Parametro p estimado:\", p)\n",
    "\n",
    "# Probabilidades teoricas p_i\n",
    "probs = []\n",
    "for i in range(9):\n",
    "    comb = math.comb(8, i)\n",
    "    probs.append(comb * p**i * (1-p)**(8-i))\n",
    "\n",
    "# Frecuencias observadas N_i\n",
    "frec_obs = [0]*k\n",
    "for obs in datos:\n",
    "    frec_obs[obs] += 1\n",
    "\n",
    "# Estadístico de prueba\n",
    "T = 0\n",
    "for i in range(k):\n",
    "    frec_esp = n * probs[i]\n",
    "    T += (frec_obs[i] - frec_esp)**2 / frec_esp\n",
    "    \n",
    "print(\"T de Pearson:\", T)\n",
    "gl = k - 1 - 1 # Grados de libertad\n",
    "p_valor = chi2.sf(T, 7)\n",
    "print(f\"p-valor: {p_valor:.5f}\")"
   ]
  },
  {
   "cell_type": "markdown",
   "id": "37a2f558",
   "metadata": {},
   "source": [
    "## Ejercicio 6"
   ]
  },
  {
   "cell_type": "code",
   "execution_count": 161,
   "id": "82966ad4",
   "metadata": {},
   "outputs": [
    {
     "name": "stdout",
     "output_type": "stream",
     "text": [
      "T de Pearson: 9.810370888711903\n",
      "p-valor: 0.3661\n"
     ]
    }
   ],
   "source": [
    "probs = [0.31, 0.22, 0.12, 0.10, 0.08, 0.06, 0.04, 0.04, 0.02, 0.01]\n",
    "frec_obs = [188, 138, 87, 65, 48, 32, 30, 34, 13, 2]\n",
    "n = sum(frec_obs)\n",
    "k = 10 # Numero de términos\n",
    "\n",
    "T = 0\n",
    "for i in range(k):\n",
    "    frec_esp = probs[i] * n\n",
    "    T += (frec_obs[i] - frec_esp)**2 / frec_esp\n",
    "print(\"T de Pearson:\", T)\n",
    "gl = k - 1 # Grados de libertad\n",
    "p_valor = chi2.sf(T, gl)\n",
    "print(f\"p-valor: {p_valor:.4f}\")"
   ]
  },
  {
   "cell_type": "markdown",
   "id": "ab9af68b",
   "metadata": {},
   "source": [
    "**Haciendo una simulacion**"
   ]
  },
  {
   "cell_type": "code",
   "execution_count": 162,
   "id": "de025695",
   "metadata": {},
   "outputs": [
    {
     "name": "stdout",
     "output_type": "stream",
     "text": [
      "p-valor simulado: 0.3637\n"
     ]
    }
   ],
   "source": [
    "probs = [0.31, 0.22, 0.12, 0.10, 0.08, 0.06, 0.04, 0.04, 0.02, 0.01] # del 1 al 10\n",
    "def premios():\n",
    "    u = random()\n",
    "    i = 0\n",
    "    p = probs[i]\n",
    "    while u > p:\n",
    "        i += 1\n",
    "        p += probs[i]\n",
    "    return i+1\n",
    "\n",
    "def sim(Nsim=10000):\n",
    "    p_valor = 0\n",
    "    \n",
    "    for _ in range(Nsim):\n",
    "        datos = []\n",
    "        for _ in range(n):\n",
    "            datos.append(premios())\n",
    "            \n",
    "        N = [0]*k # Frecuencias observadas en la simulacion\n",
    "        for obs in datos:\n",
    "            N[obs-1] += 1\n",
    "            \n",
    "        T_sim = 0\n",
    "        for i in range(k):\n",
    "            frec_esp = n * probs[i]\n",
    "            T_sim += (N[i] - frec_esp)**2 / frec_esp\n",
    "        \n",
    "        if T_sim >= T:\n",
    "            p_valor += 1\n",
    "    \n",
    "    return p_valor / Nsim\n",
    "\n",
    "print(\"p-valor simulado:\", sim())"
   ]
  },
  {
   "cell_type": "markdown",
   "id": "db4f7297",
   "metadata": {},
   "source": [
    "## Ejercicio 7"
   ]
  },
  {
   "cell_type": "code",
   "execution_count": 173,
   "id": "c20f9209",
   "metadata": {},
   "outputs": [
    {
     "name": "stdout",
     "output_type": "stream",
     "text": [
      "Estimador de Kolmorogov-Smirnov D = 0.12267763943821963\n"
     ]
    },
    {
     "name": "stdout",
     "output_type": "stream",
     "text": [
      "No rechazar H_0, pues p-valor= 0.7290 > 0.05\n"
     ]
    }
   ],
   "source": [
    "from random import random\n",
    "\n",
    "n = 30\n",
    "\n",
    "# Muestra de 30 exponenciales con lambda=1\n",
    "Y = [(-np.log(random())) for i in range(n)]\n",
    "Y.sort()\n",
    "\n",
    "# Calculo el estadistico de K - S porque los datos son continuos\n",
    "d = K_S_exponencial(Y, 1) # lambda=1\n",
    "print(\"Estimador de Kolmorogov-Smirnov D =\", d)\n",
    "\n",
    "# H0: La muestra proviene de una distribucion exponencial con media 1\n",
    "\n",
    "# Calculo del p-valor, con Nsim = 1000\n",
    "Nsim = 1000\n",
    "p_valor = 0\n",
    "for i in range(Nsim):\n",
    "    # usando uniformes:\n",
    "    Y = np.random.uniform(0, 1, n)\n",
    "    d_i = K_S_unif(Y)\n",
    "    \n",
    "    # Usando exponenciales: solo si el lambda fuera estimado si o si tendriamos que usar esta forma:\n",
    "    # Y = [(-np.log(random())) for i in range(n)]\n",
    "    # d_i = K_S_exponencial(Y, n/sum(Y))\n",
    "    # Tambien esta bien conociendo lambda, pero es menos eficiente\n",
    "    \n",
    "    if d_i >= d:\n",
    "        p_valor += 1\n",
    "estimacion = p_valor/Nsim\n",
    "\n",
    "if estimacion > 0.05:\n",
    "    print(f\"No rechazar H_0, pues p-valor= {estimacion:.4f} > 0.05\")\n",
    "else:\n",
    "    print(f\"Rechazar H_0, pues p-valor= {estimacion:.4f} < 0.05\")\n",
    "    "
   ]
  },
  {
   "cell_type": "markdown",
   "id": "efd9d7de",
   "metadata": {},
   "source": [
    "## Ejercicio 8"
   ]
  },
  {
   "cell_type": "code",
   "execution_count": 164,
   "id": "7aeafa21",
   "metadata": {},
   "outputs": [],
   "source": [
    "def norm_F(x):\n",
    "    if x >= 0:\n",
    "        Fi = math.erf(x / np.sqrt(2.)) / 2.+0.5\n",
    "    else:\n",
    "        Fi = 0.5-math.erf(-x / np.sqrt(2.)) / 2.\n",
    "    return Fi\n",
    "\n",
    "def K_S_norm(datos):\n",
    "    n = len(datos)\n",
    "    datos.sort()\n",
    "    d = 0\n",
    "    for j in range(n):\n",
    "        x = datos[j]\n",
    "        d = max(d, (j+1)/n - norm_F(x), norm_F(x) - j/n)\n",
    "    return d\n",
    "\n",
    "import random\n",
    "import math\n",
    "\n",
    "def rt(df): # df grados de libertad\n",
    "    x = random.gauss(0.0, 1.0)\n",
    "    y = 2.0 * random.gammavariate(0.5*df, 2.0)\n",
    "    return x / np.sqrt(y/df)\n"
   ]
  },
  {
   "cell_type": "markdown",
   "id": "31b07b9c",
   "metadata": {},
   "source": [
    "**(a)**"
   ]
  },
  {
   "cell_type": "code",
   "execution_count": 165,
   "id": "dfa83e83",
   "metadata": {},
   "outputs": [
    {
     "name": "stdout",
     "output_type": "stream",
     "text": [
      "\n",
      "n\t   D\t  \t p-valor\n"
     ]
    },
    {
     "name": "stdout",
     "output_type": "stream",
     "text": [
      "10\t 0.19639\t 0.76660\n",
      "20\t 0.24092\t 0.15930\n",
      "100\t 0.10846\t 0.17130\n",
      "1000\t 0.09023\t 0.00000\n"
     ]
    }
   ],
   "source": [
    "df = 11 # Grados de libertad\n",
    "\n",
    "print()\n",
    "print('n\\t  ', 'D\\t ', '\\t p-valor')\n",
    "n_muestra = [10, 20, 100, 1000]\n",
    "for n in n_muestra:\n",
    "    muestra = []\n",
    "    for _ in range(n):\n",
    "        muestra.append(rt(df))\n",
    "    D = K_S_norm(muestra)\n",
    "    \n",
    "    Nsim = 10000\n",
    "    p_valor = 0\n",
    "    for _ in range(Nsim):\n",
    "        uniformes = np.random.uniform(0, 1, n) # Usamos uniformes porque conocemos los parámetros\n",
    "        uniformes.sort()\n",
    "        d_j = 0\n",
    "        for j in range(n):\n",
    "            u_j = uniformes[j]\n",
    "            d_j = max(d_j, (j+1)/n - u_j, u_j - j/n)\n",
    "        if d_j >= D:\n",
    "            p_valor += 1\n",
    "    print(f'{n}\\t {D:.5f}\\t {(p_valor/Nsim):.5f}')"
   ]
  },
  {
   "cell_type": "markdown",
   "id": "053ba2a6",
   "metadata": {},
   "source": [
    "**(b)**"
   ]
  },
  {
   "cell_type": "code",
   "execution_count": 166,
   "id": "a36508a7",
   "metadata": {},
   "outputs": [
    {
     "name": "stdout",
     "output_type": "stream",
     "text": [
      "\n",
      "n\t   D\t  \t p-valor \t Nsim\n",
      "10\t 0.28034\t 0.34421\t 153664\n",
      "20\t 0.24328\t 0.15923\t 153664\n",
      "100\t 0.16438\t 0.00795\t 153664\n"
     ]
    }
   ],
   "source": [
    "df = 11 # Grados de libertad\n",
    "\n",
    "print()\n",
    "print('n\\t  ', 'D\\t ', '\\t p-valor', '\\t Nsim')\n",
    "n_muestra = [10, 20, 100]#, 1000]\n",
    "for n in n_muestra:\n",
    "    muestra = []\n",
    "    for _ in range(n):\n",
    "        muestra.append(rt(df))\n",
    "    D = K_S_norm(muestra)\n",
    "    \n",
    "    L = 0.01 # Amplitud del intervalo\n",
    "    z_alpha_2 = 1.96 # Si la confianza es del 95%\n",
    "    d = L/(2*z_alpha_2)\n",
    "    Nsim = 0\n",
    "    p_valor = 0\n",
    "    while Nsim <= 100 or np.sqrt(1/Nsim) > d:\n",
    "        Nsim += 1\n",
    "        uniformes = np.random.uniform(0, 1, n) # Usamos uniformes porque conocemos los parámetros\n",
    "        uniformes.sort()\n",
    "        d_j = 0\n",
    "        for j in range(n):\n",
    "            u_j = uniformes[j]\n",
    "            d_j = max(d_j, (j+1)/n - u_j, u_j - j/n)\n",
    "        if d_j >= D:\n",
    "            p_valor += 1\n",
    "    print(f'{n}\\t {D:.5f}\\t {(p_valor/Nsim):.5f}\\t {Nsim}')\n",
    "    # n\t        D\t  \t p-valor\n",
    "    # 1000\t 0.08756\t 0.00001"
   ]
  },
  {
   "cell_type": "markdown",
   "id": "499fd50b",
   "metadata": {},
   "source": [
    "## ejercicio 9"
   ]
  },
  {
   "cell_type": "code",
   "execution_count": 176,
   "id": "16c24fd4",
   "metadata": {},
   "outputs": [
    {
     "name": "stdout",
     "output_type": "stream",
     "text": [
      "Estimador de Kolmorogov-Smirnov D = 0.26949936321059237\n",
      "No rechazar H_0, pues p-valor= 0.0501 > 0.05\n"
     ]
    }
   ],
   "source": [
    "n = 15\n",
    "\n",
    "# Muestra de 15 exponenciales con lambda desconocida\n",
    "Y = [1.6, 10.3, 3.5, 13.5, 18.4, 7.7, 24.3, 10.7, 8.4, 4.9, 7.9, 12, 16.2, 6.8, 14.7]\n",
    "Y.sort()\n",
    "\n",
    "# Calculo el estadistico de K - S porque los datos son continuos\n",
    "lambda_est = n / sum(Y)\n",
    "d = K_S_exponencial(Y, lambda_est)\n",
    "print(\"Estimador de Kolmorogov-Smirnov D =\", d)\n",
    "\n",
    "# H0: La muestra proviene de una distribucion exponencial con media desconocida\n",
    "\n",
    "# Calculo del p-valor, con Nsim = 1000\n",
    "_lambda = 1 / lambda_est\n",
    "p_valor = 0\n",
    "Nsim = 10000\n",
    "for _ in range(Nsim):\n",
    "    muestra = []\n",
    "    # usando exponenciales:\n",
    "    for _ in range(n):\n",
    "        muestra.append(-np.log(1 - random()) / _lambda)\n",
    "    muestra.sort()\n",
    "    _lambda_est = n / sum(muestra)\n",
    "    d_sim = K_S_exponencial(muestra, _lambda_est)\n",
    "    \n",
    "    if d_sim >= d:\n",
    "        p_valor += 1\n",
    "estimacion = p_valor/Nsim\n",
    "\n",
    "if estimacion > 0.05:\n",
    "    print(f\"No rechazar H_0, pues p-valor= {estimacion:.4f} > 0.05\")\n",
    "else:\n",
    "    print(f\"Rechazar H_0, pues p-valor= {estimacion:.4f} < 0.05\")\n",
    "    "
   ]
  },
  {
   "cell_type": "markdown",
   "id": "5eda922d",
   "metadata": {},
   "source": [
    "## Ejercicio 10"
   ]
  },
  {
   "cell_type": "code",
   "execution_count": 185,
   "id": "8ac207a5",
   "metadata": {},
   "outputs": [
    {
     "name": "stdout",
     "output_type": "stream",
     "text": [
      "D observado: 0.19638944697995542\n",
      "No rechazar H_0, pues p-valor= 0.2237 > 0.05\n"
     ]
    }
   ],
   "source": [
    "# Datos\n",
    "muestra_obs = [91.9, 97.8, 111.4, 122.3, 105.4, 95.0, 103.8, 99.6, 96.6, 119.3, 104.8, 101.7]\n",
    "n = len(muestra_obs)\n",
    "\n",
    "# Estimacion de parametros\n",
    "mu_est = np.mean(muestra_obs)\n",
    "sigma_est = np.std(muestra_obs, ddof=1)\n",
    "\n",
    "# estandarizamos los datos con los parámetros estimados\n",
    "Z = [(x - mu_est) / sigma_est for x in muestra_obs]\n",
    "\n",
    "# Estadístico observado\n",
    "d = K_S_norm(Z)\n",
    "print(\"D observado:\", d)\n",
    "\n",
    "\n",
    "p_valor = 0\n",
    "Nsim = 10000\n",
    "for _ in range(Nsim):\n",
    "    # Generar muestra normal con mu y sigma estimados\n",
    "    muestra = np.random.normal(loc=mu_est, scale=sigma_est, size=n)\n",
    "    \n",
    "    # Estandarizar muestra\n",
    "    mu_sim = np.mean(muestra)\n",
    "    sigma_sim = np.std(muestra, ddof=1)\n",
    "    Z_sim = [(x - mu_sim) / sigma_sim for x in muestra]\n",
    "\n",
    "    # Calcular estadístico simulado    \n",
    "    d_sim = K_S_norm(Z_sim)\n",
    "    \n",
    "    if d_sim >= d:\n",
    "        p_valor += 1\n",
    "        \n",
    "estimacion = p_valor/Nsim\n",
    "\n",
    "if estimacion > 0.05:\n",
    "    print(f\"No rechazar H_0, pues p-valor= {estimacion:.4f} > 0.05\")\n",
    "else:\n",
    "    print(f\"Rechazar H_0, pues p-valor= {estimacion:.4f} < 0.05\")\n"
   ]
  }
 ],
 "metadata": {
  "kernelspec": {
   "display_name": "Python 3",
   "language": "python",
   "name": "python3"
  },
  "language_info": {
   "codemirror_mode": {
    "name": "ipython",
    "version": 3
   },
   "file_extension": ".py",
   "mimetype": "text/x-python",
   "name": "python",
   "nbconvert_exporter": "python",
   "pygments_lexer": "ipython3",
   "version": "3.10.12"
  }
 },
 "nbformat": 4,
 "nbformat_minor": 5
}
