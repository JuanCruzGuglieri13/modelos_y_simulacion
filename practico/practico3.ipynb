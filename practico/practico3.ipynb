{
 "cells": [
  {
   "cell_type": "markdown",
   "metadata": {},
   "source": [
    "# Ejercicio 1\n",
    "Para el estudio mediante simulación es necesario generar muchos números aleatorios en la computadora. Estos corresponden a variables aleatorias uniformemente distribuidas en el intervalo (0, 1). Existen en la literatura varias rutinas portables, optimizadas para generar enormes cantidades de números pseudo-aleatorios con velocidad razonable"
   ]
  },
  {
   "cell_type": "code",
   "execution_count": 62,
   "metadata": {},
   "outputs": [],
   "source": [
    "import time\n",
    "import numpy as np\n",
    "import matplotlib.pyplot as plt\n",
    "import scipy.integrate as sci\n",
    "import math\n",
    "from random import random, expovariate "
   ]
  },
  {
   "cell_type": "markdown",
   "metadata": {},
   "source": [
    "- a)\n",
    "Determinar el periodo de la secuencia de von Neumann generada a partir de la semilla:   \n",
    "I)3009   \n",
    "II)7600   \n",
    "III)1234   \n",
    "IV)4321"
   ]
  },
  {
   "cell_type": "code",
   "execution_count": 4,
   "metadata": {},
   "outputs": [
    {
     "name": "stdout",
     "output_type": "stream",
     "text": [
      "El perido K=4\n",
      "[3009, 540, 2916, 5030]\n",
      "El perido K=1\n",
      "[7600]\n",
      "El perido K=57\n",
      "[1234, 5227, 3215, 3362, 3030, 1809, 2724, 4201, 6484, 422, 1780, 1684, 8358, 8561, 2907, 4506, 3040, 2416, 8370, 569, 3237, 4781, 8579, 5992, 9040, 7216, 706, 4984, 8402, 5936, 2360, 5696, 4444, 7491, 1150, 3225, 4006, 480, 2304, 3084, 5110, 1121, 2566, 5843, 1406, 9768, 4138, 1230, 5129, 3066, 4003, 240, 576, 3317, 24, 5, 0]\n",
      "El perido K=71\n",
      "[4321, 6710, 241, 580, 3364, 3164, 108, 116, 134, 179, 320, 1024, 485, 2352, 5319, 2917, 5088, 8877, 8011, 1761, 1011, 221, 488, 2381, 6691, 7694, 1976, 9045, 8120, 9344, 3103, 6286, 5137, 3887, 1087, 1815, 2942, 6553, 9418, 6987, 8181, 9287, 2483, 1652, 7291, 1586, 5153, 5534, 6251, 750, 5625, 6406, 368, 1354, 8333, 4388, 2545, 4770, 7529, 6858, 321, 1030, 609, 3708, 7492, 1300, 6900, 6100, 2100, 4100, 8100]\n"
     ]
    }
   ],
   "source": [
    "'''Funcion Von Neumann del teorico '''\n",
    "def vonNeumann(u):\n",
    "    u = (u**2 // 100) % 10000\n",
    "    return u\n",
    "\n",
    "def sim(Nsim, semilla):\n",
    "    res = []\n",
    "    res.append(semilla)\n",
    "    y = semilla\n",
    "    for i in range(Nsim):\n",
    "        y_i = vonNeumann(y)\n",
    "        if y_i in res:\n",
    "            break\n",
    "        res.append(y_i)\n",
    "        y = y_i\n",
    "    print(f\"El perido K={i+1}\")\n",
    "    return res\n",
    "\n",
    "print(sim(Nsim=100, semilla=3009))\n",
    "print(sim(Nsim=100, semilla=7600))\n",
    "print(sim(Nsim=100, semilla=1234))\n",
    "print(sim(Nsim=100, semilla=4321))"
   ]
  },
  {
   "cell_type": "markdown",
   "metadata": {},
   "source": [
    "- b) Dar el valor de c y de a para que cada generador tenga período máximo.  \n",
    "\n",
    "y_i+1 = 5.yi + c mód(2^5), x_i+1 = a.xi mód(31)  \n",
    "\n",
    "Considerar el generador z_i = y_i + x_i mód (2^5) y calcular su período.\n",
    "\n",
    "Representar en tres gráficos separados pares (y_i, y_i+1), (x_i, x_i+1) y (z_i, z_i+1)"
   ]
  },
  {
   "cell_type": "code",
   "execution_count": null,
   "metadata": {},
   "outputs": [],
   "source": [
    "'''Generadores'''\n",
    "def randMixto(a,c,M,u):\n",
    "    return (a*u+c) % M\n",
    "\n",
    "def randMixto(a,M,u):\n",
    "    return (a*u) % M"
   ]
  },
  {
   "cell_type": "markdown",
   "metadata": {},
   "source": [
    "## Una secuencia tiene periodo M sii:\n",
    "- El Máximo comun divisor entre c y M es 1: (c,M) = 1\n",
    "- a congrunte a 1 mod p, para cualquier factor primo p de M\n",
    "- si 4 divide a M, entonces a congruente a 1 mod 4"
   ]
  },
  {
   "cell_type": "markdown",
   "metadata": {},
   "source": [
    "## Una secuencia multiplicativa tiene periodo M sii:\n",
    "- Si K = M - 1 entonces M es primo\n",
    "- Si M es primo, entonces K divide a M - 1\n",
    "- K = M - 1 sii a es raiz primitiva de M y M es primo\n",
    "\n",
    "### Sea M natural, se dice que a es una raiz primitiva de M sii:\n",
    "- a**((M-1)/p) % M != 1 "
   ]
  },
  {
   "cell_type": "code",
   "execution_count": 6,
   "metadata": {},
   "outputs": [
    {
     "data": {
      "image/png": "[encoded data removed]",
      "text/plain": [
       "<Figure size 640x480 with 3 Axes>"
      ]
     },
     "metadata": {},
     "output_type": "display_data"
    }
   ],
   "source": [
    "def generador_nuevo(a, c):\n",
    "    \"\"\"\n",
    "    Generador de números pseudoaleatorios utilizando un generador lineal congruencial\n",
    "    Pueden cambiar y x por cualquier semilla que se les ocurra\n",
    "    \"\"\"\n",
    "    y = 1\n",
    "    x = 1\n",
    "    z = (y + x) % 32\n",
    "    ys = [y]\n",
    "    xs = [x]\n",
    "    zs = [z]\n",
    "\n",
    "    for i in range(1000):\n",
    "        y = (5 * y + c) % 32\n",
    "        x = (a * x) % 31\n",
    "        z = (y + x) % 32\n",
    "        ys.append(y)\n",
    "        xs.append(x)\n",
    "        zs.append(z)\n",
    "\n",
    "    return ys, xs, zs\n",
    "\n",
    "# Test generador_nuevo\n",
    "ys, xs, zs = generador_nuevo(12, 9)\n",
    "\n",
    "fig, ax = plt.subplots(3, 1)\n",
    "ax[0].plot(ys[:-1], ys[1:], 'ro', label='y')\n",
    "ax[1].plot(xs[:-1], xs[1:], 'bo', label='x')\n",
    "ax[2].plot(zs[:-1], zs[1:], 'ko', label='z')\n",
    "plt.show()"
   ]
  },
  {
   "cell_type": "markdown",
   "metadata": {},
   "source": [
    "## c) Indicar en cuáles de los siguientes casos el generador\n",
    "yi+1 = ayi + c mód (M)"
   ]
  },
  {
   "cell_type": "code",
   "execution_count": 11,
   "metadata": {},
   "outputs": [
    {
     "name": "stdout",
     "output_type": "stream",
     "text": [
      "El periodo I) tiene periodo Maximo: True\n",
      "El periodo II) tiene periodo Maximo: False\n"
     ]
    }
   ],
   "source": [
    "''' Decide si n es primo '''\n",
    "def esPrimo(n):\n",
    "    for i in range(2, (n//2)+1):\n",
    "        if n % i == 0:\n",
    "            return False\n",
    "    return True\n",
    "\n",
    "''' Retorna los factores primos de n '''\n",
    "def factoresPrimos(n):\n",
    "    res = []\n",
    "    for i in range(2, (n//2)+1):\n",
    "        if (n%i == 0) and esPrimo(i):\n",
    "            res.append(i)\n",
    "    return(res)\n",
    "\n",
    "''' Decide si el generador mixto y_i+1 = a*y_i + c mod M, Tiene perido M '''\n",
    "def periodoMaximoMixto(a,c,M):\n",
    "    factoresP = factoresPrimos(M)\n",
    "    \n",
    "    # El máximo comun divisor de c y M es 1\n",
    "    if math.gcd(c,M) != 1: # MINIMO COMÚN DIVISOR\n",
    "        return False\n",
    "    \n",
    "    # Por cada factor primo de M, a % p == 1\n",
    "    for p in factoresP:\n",
    "        if (a % p != 1):\n",
    "            return False\n",
    "        \n",
    "    # si (M % 4 == 0) => (a % 4 == 1)\n",
    "    if (M%4==0) and not (a%4==1):\n",
    "        return False\n",
    "    return True\n",
    "    \n",
    "print(f'El periodo I) tiene periodo Maximo?: {periodoMaximoMixto(a=125,c=3,M=2**9)}')\n",
    "print(f'El periodo II) tiene periodo Maximo?: {periodoMaximoMixto(a=123,c=3,M=2**9)}')\n"
   ]
  },
  {
   "cell_type": "code",
   "execution_count": 31,
   "metadata": {},
   "outputs": [
    {
     "name": "stdout",
     "output_type": "stream",
     "text": [
      "El periodo III) tiene periodo Maximo?: False\n",
      "El periodo IV) tiene periodo Maximo?: True\n"
     ]
    }
   ],
   "source": [
    "# Una secuencia multiplicativa tiene periodo K sii:\n",
    "# Si K = M - 1 entonces M es primo\n",
    "# Si M es primo, entonces K divide a M - 1\n",
    "# K = M - 1 sii a es raiz primitiva de M y M es primo\n",
    "\n",
    "# Sea M natural, se dice que a es una raiz primitiva de M sii:\n",
    "# a**((M-1)/p) % M != 1\n",
    "\n",
    "def esRaizPrimitiva(a, M):\n",
    "    fp = factoresPrimos(M-1)\n",
    "    for p in fp:\n",
    "        if (a**((M-1)//p) % M == 1):\n",
    "            return False\n",
    "    return True\n",
    "\n",
    "def periodoMaximoMultiplicativo(a, M):\n",
    "    if esPrimo(M) and esRaizPrimitiva(a, M):\n",
    "        return True \n",
    "    return False\n",
    "\n",
    "print(f'El periodo III) tiene periodo Maximo?: {periodoMaximoMultiplicativo(a=5,M=71)}')\n",
    "print(f'El periodo IV) tiene periodo Maximo?: {periodoMaximoMultiplicativo(a=7,M=71)}')\n",
    "\n"
   ]
  },
  {
   "cell_type": "markdown",
   "metadata": {},
   "source": [
    "## d) Uilice el generador RANDU\n",
    "$u_{i} = a \\cdot u_{i−1} \\mod (M)$, $a = 2^{16} + 3, M = 2^{31}$,\n",
    "\n",
    "para generar puntos aleatorios en el cubo $[0, M) \\times [0, M] \\times [0, M)$, de la forma:  \n",
    "$(u_{1}, u_{2}, u_{3}), (u_{4}, u_{5}, u_{6}), ...$  \n",
    "\n",
    "y estimar el porcentaje de puntos que caen en la esfera centrada en $(M/2, M/2, M/2)$ de radio $M/10$.  \n",
    "\n",
    "Repetir el procedimiento con el generador  \n",
    "$y_{i} = a \\cdot y_{i−1} \\mod (M)$, $a = 7^{5}, M = 2^{31} - 1$,  \n",
    "¿Cuál de los dos generadores estima mejor el valor real?"
   ]
  },
  {
   "cell_type": "code",
   "execution_count": 32,
   "metadata": {},
   "outputs": [
    {
     "name": "stdout",
     "output_type": "stream",
     "text": [
      "RANDU estima: 0.32%\n",
      "Segundo generador estima: 0.43%\n",
      "Valor real: 0.42%\n"
     ]
    }
   ],
   "source": [
    "def generador_congruencial(a, M, seed, n):\n",
    "    valores = []\n",
    "    u = seed\n",
    "    for _ in range(n):\n",
    "        u = (a * u) % M\n",
    "        valores.append(u)\n",
    "    return valores\n",
    "\n",
    "def puntos_en_esfera(puntos, M):\n",
    "    centro = M / 2\n",
    "    radio_cuadrado = (M / 10) ** 2\n",
    "    dentro = 0\n",
    "    for x, y, z in puntos:\n",
    "        dist_cuadrada = (x - centro) ** 2 + (y - centro) ** 2 + (z - centro) ** 2\n",
    "        if dist_cuadrada <= radio_cuadrado:\n",
    "            dentro += 1\n",
    "    return dentro / len(puntos)\n",
    "\n",
    "def estimar_porcentaje_en_esfera(a, M, seed, n_puntos):\n",
    "    total_numeros = n_puntos * 3\n",
    "    numeros = generador_congruencial(a, M, seed, total_numeros)\n",
    "    puntos = [tuple(numeros[i:i+3]) for i in range(0, total_numeros, 3)]\n",
    "    porcentaje = puntos_en_esfera(puntos, M)\n",
    "    return porcentaje * 100\n",
    "\n",
    "# Parámetros\n",
    "n_puntos = 10000\n",
    "seed = 1\n",
    "\n",
    "# RANDU\n",
    "a_randu = 2**16 + 3\n",
    "M_randu = 2**31\n",
    "porcentaje_randu = estimar_porcentaje_en_esfera(a_randu, M_randu, seed, n_puntos)\n",
    "\n",
    "# Segundo generador\n",
    "a_alt = 7**5\n",
    "M_alt = 2**31 - 1\n",
    "porcentaje_alt = estimar_porcentaje_en_esfera(a_alt, M_alt, seed, n_puntos)\n",
    "\n",
    "# Valor real (volumen relativo de una esfera dentro de un cubo)\n",
    "volumen_esfera = (4/3) * np.pi * (1/10)**3\n",
    "porcentaje_real = volumen_esfera * 100\n",
    "\n",
    "print(f\"RANDU estima: {porcentaje_randu:.2f}%\")\n",
    "print(f\"Segundo generador estima: {porcentaje_alt:.2f}%\")\n",
    "print(f\"Valor real: {porcentaje_real:.2f}%\")"
   ]
  },
  {
   "cell_type": "markdown",
   "metadata": {},
   "source": [
    "# Ejercicio 2:"
   ]
  },
  {
   "cell_type": "code",
   "execution_count": 41,
   "metadata": {},
   "outputs": [
    {
     "name": "stdout",
     "output_type": "stream",
     "text": [
      "         n |    P(gana)\n",
      "-----------------------\n",
      "       100 |     0.6700\n",
      "      1000 |     0.6740\n",
      "     10000 |     0.6605\n",
      "    100000 |     0.6659\n",
      "   1000000 |     0.6665\n"
     ]
    }
   ],
   "source": [
    "def simular_juego(n):\n",
    "    \n",
    "    # Genera un arreglo de tamaño n con numeros uniformemente distribuidos entre 0 y 1\n",
    "    U = np.random.uniform(0, 1, n)\n",
    "    \n",
    "    # Inicializa el array de resultados a 0s\n",
    "    resultados = np.zeros(n)\n",
    "\n",
    "    # Caso U < 0.5 (sumar 2 números)\n",
    "    mask_2 = U < 0.5\n",
    "    W1 = np.random.uniform(0, 1, np.sum(mask_2)) # cuantos valores < 0.5\n",
    "    W2 = np.random.uniform(0, 1, np.sum(mask_2))\n",
    "    X2 = W1 + W2\n",
    "    resultados[mask_2] = X2\n",
    "\n",
    "    # Caso U >= 0.5 (sumar 3 números)\n",
    "    mask_3 = ~mask_2\n",
    "    W1 = np.random.uniform(0, 1, np.sum(mask_3)) \n",
    "    W2 = np.random.uniform(0, 1, np.sum(mask_3))\n",
    "    W3 = np.random.uniform(0, 1, np.sum(mask_3))\n",
    "    X3 = W1 + W2 + W3\n",
    "    resultados[mask_3] = X3\n",
    "\n",
    "    # Fracción de ganadas\n",
    "    ganadores = resultados >= 1\n",
    "    return np.mean(ganadores)\n",
    "\n",
    "# Valores de n a simular\n",
    "valores_n = [100, 1000, 10000, 100000, 1000000]\n",
    "\n",
    "# Mostrar resultados en tabla\n",
    "print(f\"{'n':>10} | {'P(gana)':>10}\")\n",
    "print(\"-\" * 23)\n",
    "for n in valores_n:\n",
    "    prob = simular_juego(n)\n",
    "    print(f\"{n:>10} | {prob:>10.4f}\")\n"
   ]
  },
  {
   "cell_type": "markdown",
   "metadata": {},
   "source": [
    "# Ejercicio 3"
   ]
  },
  {
   "cell_type": "code",
   "execution_count": 44,
   "metadata": {},
   "outputs": [
    {
     "name": "stdout",
     "output_type": "stream",
     "text": [
      "         n |    P(gana)\n",
      "-----------------------\n",
      "       100 |     0.8800\n",
      "      1000 |     0.8870\n",
      "     10000 |     0.8923\n",
      "    100000 |     0.8872\n",
      "   1000000 |     0.8882\n"
     ]
    }
   ],
   "source": [
    "'''\n",
    "Las máquinas tragamonedas usualmente generan un premio cuando hay un acierto. Suponga mos que se genera el acierto con el siguiente esquema: se genera un número aleatorio, y\n",
    "i) si es menor a un tercio, se suman dos nuevos números aleatorios\n",
    "ii) si es mayor o igual a un tercio, se suman tres números aleatorios.\n",
    "\n",
    "Si el resultado de la suma es menor o igual a 2, se genera un acierto.\n",
    "'''\n",
    "\n",
    "def tragamonedas(n):\n",
    "    U = np.random.uniform(0, 1, n)  #[U1, U2, U3, ..., Un]\n",
    "    resultados = np.zeros(n)        #[0, 0, 0, ..., 0]\n",
    "    \n",
    "    # Caso U < 1/3 (sumar 2 números)\n",
    "    mask_2 = U < 1/3                #[todos los valores menores a 1/3]\n",
    "    W1 = np.random.uniform(0, 1, np.sum(mask_2)) # cuantos valores < 1/3\n",
    "    W2 = np.random.uniform(0, 1, np.sum(mask_2))\n",
    "    X2 = W1 + W2\n",
    "    resultados[mask_2] = X2\n",
    "    \n",
    "    # Caso U >= 1/3 (sumar 3 números)\n",
    "    mask_3 = ~mask_2\n",
    "    W1 = np.random.uniform(0, 1, np.sum(mask_3))\n",
    "    W2 = np.random.uniform(0, 1, np.sum(mask_3))\n",
    "    W3 = np.random.uniform(0, 1, np.sum(mask_3))\n",
    "    X3 = W1 + W2 + W3\n",
    "    resultados[mask_3] = X3\n",
    "    \n",
    "    ganadores = resultados <= 2\n",
    "    return np.mean(ganadores)\n",
    "\n",
    "valores_n = [100, 1000, 10000, 100000, 1000000]\n",
    "\n",
    "# Mostrar resultados en tabla\n",
    "print(f\"{'n':>10} | {'P(gana)':>10}\")\n",
    "print(\"-\" * 23)\n",
    "for n in valores_n:\n",
    "    prob = tragamonedas(n)\n",
    "    print(f\"{n:>10} | {prob:>10.4f}\")\n",
    "    \n",
    "    \n",
    "    "
   ]
  },
  {
   "cell_type": "markdown",
   "metadata": {},
   "source": [
    "## Ejercicio 4"
   ]
  },
  {
   "cell_type": "code",
   "execution_count": 45,
   "metadata": {},
   "outputs": [
    {
     "name": "stdout",
     "output_type": "stream",
     "text": [
      "Probabilidad simulada de esperar menos de 4 min: 0.6440\n",
      "Probabilidades simuladas condicionales dado espera > 4 min:\n",
      "  Caja 1: 0.3371\n",
      "  Caja 2: 0.3118\n",
      "  Caja 3: 0.3511\n"
     ]
    }
   ],
   "source": [
    "np.random.seed(42)\n",
    "N = 1000\n",
    "\n",
    "# Probabilidades y medias\n",
    "prob_cajas = [0.40, 0.32, 0.28]\n",
    "medias = [3, 4, 5]\n",
    "\n",
    "# Inicialización de contadores\n",
    "menos_de_4 = 0\n",
    "mas_de_4_conteo = [0, 0, 0]\n",
    "mas_de_4_total = 0\n",
    "\n",
    "for _ in range(N):\n",
    "    caja = np.random.choice([0, 1, 2], p=prob_cajas)\n",
    "    tiempo_espera = np.random.exponential(scale=medias[caja])\n",
    "    \n",
    "    if tiempo_espera < 4:\n",
    "        menos_de_4 += 1\n",
    "    else:\n",
    "        mas_de_4_conteo[caja] += 1\n",
    "        mas_de_4_total += 1\n",
    "\n",
    "# Resultados\n",
    "p_menos_4 = menos_de_4 / N\n",
    "p_caja_dado_mas_4 = [conteo / mas_de_4_total for conteo in mas_de_4_conteo]\n",
    "\n",
    "print(f\"Probabilidad simulada de esperar menos de 4 min: {p_menos_4:.4f}\")\n",
    "print(f\"Probabilidades simuladas condicionales dado espera > 4 min:\")\n",
    "print(f\"  Caja 1: {p_caja_dado_mas_4[0]:.4f}\")\n",
    "print(f\"  Caja 2: {p_caja_dado_mas_4[1]:.4f}\")\n",
    "print(f\"  Caja 3: {p_caja_dado_mas_4[2]:.4f}\")\n"
   ]
  },
  {
   "cell_type": "markdown",
   "metadata": {},
   "source": [
    "## Ejercicio 5  \n",
    "Calcule exactamente el valor de las siguientes integrales. Mediante una simulación de Monte Carlo con n = 1000, 5000, 10000 iteraciones, calcule a su vez un valor aproximado y compare con el valor exacto.\n",
    "\n",
    "- a)\n",
    "$\\int_{0}^1 (1-x^2)^{3/2}\\,dx$"
   ]
  },
  {
   "cell_type": "code",
   "execution_count": 75,
   "metadata": {},
   "outputs": [
    {
     "name": "stdout",
     "output_type": "stream",
     "text": [
      "Valor real de la integral: 0.5890486225480862\n",
      "Integral Monte Carlo en 1000 iteraciones: 0.5881512052569992\n",
      "Integral Monte Carlo en 5000 iteraciones: 0.5877532963500385\n",
      "Integral Monte Carlo en 10000 iteraciones: 0.5877628604215355\n"
     ]
    }
   ],
   "source": [
    "# La integral entre 0 y 1 de (1-x^2)^(3/2) dx = 3pi/16 \n",
    "\n",
    "def g1(u):\n",
    "    return (1-u**2)**(3/2)\n",
    "\n",
    "valorReal = (3*math.pi)/16\n",
    "\n",
    "print(f\"Valor real de la integral: {valorReal}\")\n",
    "\n",
    "def monteCarlo_0_a_1(g, Nsim):\n",
    "    integral = 0\n",
    "    for _ in range(Nsim):\n",
    "        integral += g(random())\n",
    "    return integral / Nsim\n",
    "\n",
    "for n in [1000, 5000, 10000]:\n",
    "    print(f\"Integral Monte Carlo en {n} iteraciones: {monteCarlo_0_a_1(g1, n)}\")"
   ]
  },
  {
   "cell_type": "markdown",
   "metadata": {},
   "source": [
    "- b) $\\int_{2}^3 \\frac{x}{x^2-1}\\,dx$  \n",
    "\n",
    "nos queda haciendo cambio de variables para aplicar montecarlo: $g(u) = \\frac{y+2}{y^2+4y+3}$\n",
    "\n"
   ]
  },
  {
   "cell_type": "code",
   "execution_count": 76,
   "metadata": {},
   "outputs": [
    {
     "name": "stdout",
     "output_type": "stream",
     "text": [
      "Valor real de la integral: 0.490414626505863\n",
      "Integral Monte Carlo en 1000 iteraciones: 0.48497503206400117\n",
      "Integral Monte Carlo en 5000 iteraciones: 0.48903624369457377\n",
      "Integral Monte Carlo en 10000 iteraciones: 0.49074880276122684\n"
     ]
    }
   ],
   "source": [
    "# la integral entre 0 y 1 de (y+2)/(y**2+4y+3) = (ln(8) - ln(3)) / 2\n",
    "\n",
    "def g2(u):\n",
    "    return u / (u**2 - 1)\n",
    "\n",
    "def valorReal2():\n",
    "    return (math.log(8) - math.log(3)) / 2\n",
    "\n",
    "print(f\"Valor real de la integral: {valorReal2()}\")\n",
    "\n",
    "def monteCarlo_2_a_3(g, Nsim):\n",
    "    integral = 0\n",
    "    for _ in range(Nsim):\n",
    "        integral += g(2 + random())\n",
    "        \n",
    "    return integral / Nsim\n",
    "\n",
    "for n in [1000, 5000, 10000]:\n",
    "    print(f\"Integral Monte Carlo en {n} iteraciones: {monteCarlo_2_a_3(g2, n)}\")"
   ]
  },
  {
   "cell_type": "markdown",
   "metadata": {},
   "source": [
    "- c) $\\int_{0}^{\\infty} x(1+x^2)^{-2}\\,dx$  \n",
    "\n",
    "nos queda haciendo cambio de variables para aplicar montecarlo: $h(y) = \\frac{\\frac{1}{y}-2}{1-2y+2y^2}$"
   ]
  },
  {
   "cell_type": "code",
   "execution_count": 83,
   "metadata": {},
   "outputs": [
    {
     "name": "stdout",
     "output_type": "stream",
     "text": [
      "Integral Monte Carlo en 1000 iteraciones: 0.23083991593214034\n",
      "Integral Monte Carlo en 5000 iteraciones: 0.22803472088124208\n",
      "Integral Monte Carlo en 10000000 iteraciones: 0.22784972011997096\n"
     ]
    }
   ],
   "source": [
    "# La integral entre 0 y 1 de ((1/y)-2)/(1-2y+2y**2)\n",
    "\n",
    "def g3(x):\n",
    "    return (x * ((1+x**2)**(-2)))\n",
    "\n",
    "def monteCarlo_0_a_inf(g, Nsim):\n",
    "    integral = 0\n",
    "    for _ in range(Nsim):\n",
    "        u = random()\n",
    "        integral += g(g3((1/u)-1) * (1/u**2))\n",
    "        \n",
    "    return integral / Nsim\n",
    "\n",
    "for n in [1000, 5000, 10000000]:\n",
    "    print(f\"Integral Monte Carlo en {n} iteraciones: {monteCarlo_0_a_inf(g3, n)}\")"
   ]
  }
 ],
 "metadata": {
  "kernelspec": {
   "display_name": "Python 3",
   "language": "python",
   "name": "python3"
  },
  "language_info": {
   "codemirror_mode": {
    "name": "ipython",
    "version": 3
   },
   "file_extension": ".py",
   "mimetype": "text/x-python",
   "name": "python",
   "nbconvert_exporter": "python",
   "pygments_lexer": "ipython3",
   "version": "3.10.12"
  }
 },
 "nbformat": 4,
 "nbformat_minor": 2
}
