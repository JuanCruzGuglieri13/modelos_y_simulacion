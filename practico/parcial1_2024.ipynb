{
 "cells": [
  {
   "cell_type": "code",
   "execution_count": 1,
   "metadata": {},
   "outputs": [],
   "source": [
    "import numpy as np\n",
    "from random import random"
   ]
  },
  {
   "cell_type": "markdown",
   "metadata": {},
   "source": [
    "# Ejercicio 3"
   ]
  },
  {
   "cell_type": "code",
   "execution_count": 2,
   "metadata": {},
   "outputs": [
    {
     "name": "stdout",
     "output_type": "stream",
     "text": [
      "montecarlo ejecutado 100 veces: 0.8287\n",
      "montecarlo ejecutado 1000 veces: 0.8902\n",
      "montecarlo ejecutado 10000 veces: 0.8865\n",
      "montecarlo ejecutado 100000 veces: 0.8936\n",
      "montecarlo ejecutado 1000000 veces: 0.8913\n"
     ]
    }
   ],
   "source": [
    "def g_parcial(u):\n",
    "    return (1 / (np.log(u+1)))\n",
    "\n",
    "def monteCarlo_parcial(g, n):\n",
    "    integral = 0\n",
    "    for _ in range(n):\n",
    "        u = random()\n",
    "        integral += g(1 / (1 - u))\n",
    "    return integral / n\n",
    "\n",
    "for n in [100, 1000, 10000, 100000, 1000000]:\n",
    "    print(f\"montecarlo ejecutado {n} veces: {monteCarlo_parcial(g_parcial,n):.4f}\")"
   ]
  }
 ],
 "metadata": {
  "kernelspec": {
   "display_name": "Python 3",
   "language": "python",
   "name": "python3"
  },
  "language_info": {
   "codemirror_mode": {
    "name": "ipython",
    "version": 3
   },
   "file_extension": ".py",
   "mimetype": "text/x-python",
   "name": "python",
   "nbconvert_exporter": "python",
   "pygments_lexer": "ipython3",
   "version": "3.10.12"
  }
 },
 "nbformat": 4,
 "nbformat_minor": 2
}
